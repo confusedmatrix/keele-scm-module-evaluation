{
 "cells": [
  {
   "cell_type": "code",
   "execution_count": 36,
   "metadata": {},
   "outputs": [],
   "source": [
    "import pandas as pd\n",
    "import numpy as np\n",
    "import os\n",
    "import json\n",
    "import re\n",
    "from hashlib import sha512\n",
    "from vega3 import VegaLite\n",
    "from openpyxl import load_workbook\n",
    "from IPython.display import display\n",
    "\n",
    "def display_vg(spec):\n",
    "    bundle = {}\n",
    "    bundle['application/vnd.vegalite.v2+json'] = spec\n",
    "    display(bundle, raw=True)\n",
    "    \n",
    "def mkdir(directory):\n",
    "    \"\"\"\n",
    "    :param string directory: \n",
    "    :return: \n",
    "    \"\"\"\n",
    "    try:\n",
    "        os.mkdir(directory)\n",
    "    except FileExistsError:\n",
    "        pass\n",
    "    \n",
    "def save_file(file_name, data):\n",
    "    with open(file_name, \"w\") as f:\n",
    "        f.write(data)\n",
    "        "
   ]
  },
  {
   "cell_type": "code",
   "execution_count": 17,
   "metadata": {},
   "outputs": [],
   "source": [
    "mkdir(\"../data/generated/\")"
   ]
  },
  {
   "cell_type": "code",
   "execution_count": 39,
   "metadata": {},
   "outputs": [
    {
     "data": {
      "text/plain": [
       "['MAT-10044', 'MAT-30023']"
      ]
     },
     "execution_count": 39,
     "metadata": {},
     "output_type": "execute_result"
    }
   ],
   "source": [
    "def get_modules(root):\n",
    "    modules = [item for item in os.listdir(root) if os.path.isdir(os.path.join(root, item))]\n",
    "    \n",
    "    return modules\n",
    "\n",
    "modules = get_modules(\"../data/raw/modules\")\n",
    "\n",
    "modules"
   ]
  },
  {
   "cell_type": "code",
   "execution_count": 48,
   "metadata": {},
   "outputs": [
    {
     "name": "stdout",
     "output_type": "stream",
     "text": [
      "MAT-10044\n"
     ]
    },
    {
     "data": {
      "text/html": [
       "<div>\n",
       "<table border=\"1\" class=\"dataframe\">\n",
       "  <thead>\n",
       "    <tr style=\"text-align: right;\">\n",
       "      <th></th>\n",
       "      <th>#01</th>\n",
       "      <th>#01_weighted</th>\n",
       "      <th>#02</th>\n",
       "      <th>#02_weighted</th>\n",
       "      <th>final_grade</th>\n",
       "    </tr>\n",
       "    <tr>\n",
       "      <th>user</th>\n",
       "      <th></th>\n",
       "      <th></th>\n",
       "      <th></th>\n",
       "      <th></th>\n",
       "      <th></th>\n",
       "    </tr>\n",
       "  </thead>\n",
       "  <tbody>\n",
       "    <tr>\n",
       "      <th>0a628068de9c2a70f8685e318f5dbd07badc53704c8d7655949fda7415f195ec98c3a4d43e3957661f2fd0fce73b4814b58cf552cd35d1865cf6bf42f3e69565</th>\n",
       "      <td>96.0</td>\n",
       "      <td>76.8</td>\n",
       "      <td>89</td>\n",
       "      <td>17.8</td>\n",
       "      <td>94.6</td>\n",
       "    </tr>\n",
       "    <tr>\n",
       "      <th>0a6d48869596d53488f8838878198bf3caac38548d83ad7e14734297de4253f8199a814b7db1bab6091835250c7bdcc75acc14a1572f112a3967c79b1503013e</th>\n",
       "      <td>64.0</td>\n",
       "      <td>51.2</td>\n",
       "      <td>95</td>\n",
       "      <td>19.0</td>\n",
       "      <td>70.2</td>\n",
       "    </tr>\n",
       "    <tr>\n",
       "      <th>0a8e012a21baf4c32928caa65c149c2afd8a970a7a28820b215decefbe66778c28ae0af71c47544033919fb74846139140f9ec20dd5d8350cd3bcef2155391ff</th>\n",
       "      <td>85.0</td>\n",
       "      <td>68.0</td>\n",
       "      <td>83</td>\n",
       "      <td>16.6</td>\n",
       "      <td>84.6</td>\n",
       "    </tr>\n",
       "    <tr>\n",
       "      <th>18e4e11be10aaf08723ffb8f2f731ffb96d9ebdc5f38368f4b2f1e46b5f85a919d3f60d2daafcb07ead56fe24bfa63f6d13eff337a1e5f0b550c609e918bd8dc</th>\n",
       "      <td>79.0</td>\n",
       "      <td>63.2</td>\n",
       "      <td>87</td>\n",
       "      <td>17.4</td>\n",
       "      <td>80.6</td>\n",
       "    </tr>\n",
       "    <tr>\n",
       "      <th>1a70e13e29d382e20adf383c93d02fed2bf9b1855867b0d22415c983e81e7750f6da13abf1523d908362d4a5c8faff44b303f1c6b1572f0acf2013608633fc02</th>\n",
       "      <td>95.0</td>\n",
       "      <td>76.0</td>\n",
       "      <td>91</td>\n",
       "      <td>18.2</td>\n",
       "      <td>94.2</td>\n",
       "    </tr>\n",
       "    <tr>\n",
       "      <th>1aa5c99297b7f8811903ea4e5d6850aacc10e0bef961c358b4b2301991e1e8b6d31110d9c93c2a196ee0a986e231b12f2c463f8baa50521f9d12bb9a6354348f</th>\n",
       "      <td>19.0</td>\n",
       "      <td>15.2</td>\n",
       "      <td>73</td>\n",
       "      <td>14.6</td>\n",
       "      <td>29.8</td>\n",
       "    </tr>\n",
       "    <tr>\n",
       "      <th>1d0871384cde428db0cb59dc90c589f1321b665c7680100637a8e972276fe10556f2d185dbba8331b69ce4018157daf8acf6d5b2e14f9cefb5a0f49a10c1b82a</th>\n",
       "      <td>33.0</td>\n",
       "      <td>26.4</td>\n",
       "      <td>68</td>\n",
       "      <td>13.6</td>\n",
       "      <td>40.0</td>\n",
       "    </tr>\n",
       "    <tr>\n",
       "      <th>1f48ecb9da93119d0fd7261b181e8c2df5ca3fc5dad7a0f2f35b002a105bba38e9c2734618bcea992e61fb82786431010c74321b1494d24c0c9f9b52517ccb01</th>\n",
       "      <td>60.0</td>\n",
       "      <td>48.0</td>\n",
       "      <td>62</td>\n",
       "      <td>12.4</td>\n",
       "      <td>60.4</td>\n",
       "    </tr>\n",
       "    <tr>\n",
       "      <th>2a465669ace48ddd13fd780fa5ff3f95afcb79de06f53735987cc7a5a9e05708bc0685041ad02b16f2ef5912f043865eb99ff099a9d57c4d0db7c05fdeef7ea2</th>\n",
       "      <td>17.0</td>\n",
       "      <td>13.6</td>\n",
       "      <td>0</td>\n",
       "      <td>0.0</td>\n",
       "      <td>13.6</td>\n",
       "    </tr>\n",
       "    <tr>\n",
       "      <th>2f370cf4c62b65f1750a3ba56c2e278baf9e70e60b2e9c2d8305c3505b1c3a3cbb5a8e99de5a133aed14c201d51b8b5246a9e3ec108c2e0c00ad61878d2bbe6b</th>\n",
       "      <td>100.0</td>\n",
       "      <td>80.0</td>\n",
       "      <td>93</td>\n",
       "      <td>18.6</td>\n",
       "      <td>98.6</td>\n",
       "    </tr>\n",
       "    <tr>\n",
       "      <th>2f8e98cc731e125c5852ca9faf42f1b774d233977d6ec0897084f0065ade36f174cb2776f51b423e9536a00e67f4826c17bc5dced503effd7600c5d21230516a</th>\n",
       "      <td>64.0</td>\n",
       "      <td>51.2</td>\n",
       "      <td>69</td>\n",
       "      <td>13.8</td>\n",
       "      <td>65.0</td>\n",
       "    </tr>\n",
       "    <tr>\n",
       "      <th>34ece36807509ef1e730ba43edba5cd19717f01979544994153f21af14d0da4c015464054a58bdfb78c9cba76058af8caf54905ac0042344662766e0fb1f4f4b</th>\n",
       "      <td>58.0</td>\n",
       "      <td>46.4</td>\n",
       "      <td>82</td>\n",
       "      <td>16.4</td>\n",
       "      <td>62.8</td>\n",
       "    </tr>\n",
       "    <tr>\n",
       "      <th>359d7035340c918b4bc412f13174a4926424ae839aebeefedfc80c3d44dd1e497117939d0cca74acd1901eb72889015c0214d91f95d2453aaa15553b5d3ea14d</th>\n",
       "      <td>73.0</td>\n",
       "      <td>58.4</td>\n",
       "      <td>77</td>\n",
       "      <td>15.4</td>\n",
       "      <td>73.8</td>\n",
       "    </tr>\n",
       "    <tr>\n",
       "      <th>382b3c93a7f61bf5f4b79f9ba5c7f725149783ce18bd980ce582d4184315e7f7d592c25e40c19b516763eabb5bc7afbde87594a18f9a33f6953669fd1acc78bd</th>\n",
       "      <td>79.0</td>\n",
       "      <td>63.2</td>\n",
       "      <td>79</td>\n",
       "      <td>15.8</td>\n",
       "      <td>79.0</td>\n",
       "    </tr>\n",
       "    <tr>\n",
       "      <th>3a054e6882b84784a6a5948aab3789247e4bf30238031e6980e8f3d01af8ec28e43e5ed5e3b290e3e8e10c9d9ef18a6db5daa0bd5cc423e3ee4bcf091bb6f88f</th>\n",
       "      <td>0.0</td>\n",
       "      <td>0.0</td>\n",
       "      <td>0</td>\n",
       "      <td>0.0</td>\n",
       "      <td>0.0</td>\n",
       "    </tr>\n",
       "    <tr>\n",
       "      <th>3c215e943243dd23f478c634e78e320f9b91bae54ab52bb95f84702a2c2cb3c512a33ed76a3a394ef53d5a886b4fc576a8ed1bbc30c4fd4fb95fe3be4c323838</th>\n",
       "      <td>93.0</td>\n",
       "      <td>74.4</td>\n",
       "      <td>90</td>\n",
       "      <td>18.0</td>\n",
       "      <td>92.4</td>\n",
       "    </tr>\n",
       "    <tr>\n",
       "      <th>3e512546547783edd0c7088c38fa2f39cbc6e4e010bbf83852860ba1cd807f7c997209c417b363d5158f689d72777cede3148e470c1aa6fae845204030dc9106</th>\n",
       "      <td>0.0</td>\n",
       "      <td>0.0</td>\n",
       "      <td>0</td>\n",
       "      <td>0.0</td>\n",
       "      <td>0.0</td>\n",
       "    </tr>\n",
       "    <tr>\n",
       "      <th>3e99f20455c58504e93b8d3519f9e2cdcba6e5c2d8768d52def5e644730be5144b188463ddb0e96465ca760446bff98f878a939850bbabcca683d64d8bc2e2fd</th>\n",
       "      <td>90.0</td>\n",
       "      <td>72.0</td>\n",
       "      <td>77</td>\n",
       "      <td>15.4</td>\n",
       "      <td>87.4</td>\n",
       "    </tr>\n",
       "    <tr>\n",
       "      <th>3fc6324af8f684398d31462cd739567b319cd4941199efdaa89cf8b1fd8c9c08e80a112b50ee240f470bd748a990eac7237da58ac27303e07d72a9b25a5799a3</th>\n",
       "      <td>95.0</td>\n",
       "      <td>76.0</td>\n",
       "      <td>88</td>\n",
       "      <td>17.6</td>\n",
       "      <td>93.6</td>\n",
       "    </tr>\n",
       "    <tr>\n",
       "      <th>41135aa3767d030523790371a31494717b2d81b55ee09d178e2478fee0c48bc51e21ba6ed0ced9d3e97743d36293fd3b2e0e60994a1c2a0332c867590f5f062e</th>\n",
       "      <td>78.0</td>\n",
       "      <td>62.4</td>\n",
       "      <td>79</td>\n",
       "      <td>15.8</td>\n",
       "      <td>78.2</td>\n",
       "    </tr>\n",
       "    <tr>\n",
       "      <th>4641873b8528b164359fbd6b437a860bccc908869acc3cba8c4e418ad30815846c095b1a6d5c4b110bbc431ac65bab65f2cdb020daa4d69f181b15d29b603612</th>\n",
       "      <td>86.0</td>\n",
       "      <td>68.8</td>\n",
       "      <td>75</td>\n",
       "      <td>15.0</td>\n",
       "      <td>83.8</td>\n",
       "    </tr>\n",
       "    <tr>\n",
       "      <th>48bdfbcd8480d986f234bcf2d053c7a67fa2d598081c3d095ff4f4ed7592fe7534c8f4fc22d2299b0d6858f7c03dd51076a2817ec33a4e4c76b13291cf306327</th>\n",
       "      <td>72.0</td>\n",
       "      <td>57.6</td>\n",
       "      <td>75</td>\n",
       "      <td>15.0</td>\n",
       "      <td>72.6</td>\n",
       "    </tr>\n",
       "    <tr>\n",
       "      <th>4ca310f223f5083edfc810dc0774c50d63fc45f1ee825ec82105203811679f72b36c5619cd0c46040f8ebae3044260018f88a201bfa197997ed58fccb47b62dc</th>\n",
       "      <td>52.0</td>\n",
       "      <td>41.6</td>\n",
       "      <td>88</td>\n",
       "      <td>17.6</td>\n",
       "      <td>59.2</td>\n",
       "    </tr>\n",
       "    <tr>\n",
       "      <th>51d6e7b8a0850b51aa174b7f6983e09e27bc7e7a5c8a195c0216a95a82ffd36f0539699b47908e773f30ea860510df732c74904456646a99df42318d181f4a3d</th>\n",
       "      <td>78.0</td>\n",
       "      <td>62.4</td>\n",
       "      <td>77</td>\n",
       "      <td>15.4</td>\n",
       "      <td>77.8</td>\n",
       "    </tr>\n",
       "    <tr>\n",
       "      <th>52b74dab564160027b1655a6dc5c70f4f6e7026a0bd88a43130f3c3fd3fbbf8a7bae6a2fec4fc325aa2a21aac33fab6093fa83de06eec35a3b35bd23e1610501</th>\n",
       "      <td>74.0</td>\n",
       "      <td>59.2</td>\n",
       "      <td>89</td>\n",
       "      <td>17.8</td>\n",
       "      <td>77.0</td>\n",
       "    </tr>\n",
       "    <tr>\n",
       "      <th>56562f17fa03b182627de7e2879b28f3e3baea287d42750cede23b31a22f9ed658fd4dd7f31271bc4be881d8870d57620b1818a7d4d6bca97c3fedc206d03725</th>\n",
       "      <td>84.0</td>\n",
       "      <td>67.2</td>\n",
       "      <td>77</td>\n",
       "      <td>15.4</td>\n",
       "      <td>82.6</td>\n",
       "    </tr>\n",
       "    <tr>\n",
       "      <th>56748ea85722b6da666f11508184f21664ba1cfeee996ae6b6b12e7847890eee407628cae84ca63fc0663a37b6f59390fe6b8ae5bb523cf6e3f526e6ede0d011</th>\n",
       "      <td>27.0</td>\n",
       "      <td>21.6</td>\n",
       "      <td>0</td>\n",
       "      <td>0.0</td>\n",
       "      <td>21.6</td>\n",
       "    </tr>\n",
       "    <tr>\n",
       "      <th>5d25cd051a4189d1fd25fd8a3c3e0263abbc8f1bcfc7a9524f95a02e6683924c1f4703477b8a9cd4b963d659c827dd99283b08ac40eff68c4d93a0ef7347c2dc</th>\n",
       "      <td>93.0</td>\n",
       "      <td>74.4</td>\n",
       "      <td>88</td>\n",
       "      <td>17.6</td>\n",
       "      <td>92.0</td>\n",
       "    </tr>\n",
       "    <tr>\n",
       "      <th>618606b941d4d8a53e6d7e4f35266370819170d0d65acc912ed210bb69ff4322d258db032acba0c9b861c77b7d8b66f5b8f0e140df3cc150afa3b5a28f9410cc</th>\n",
       "      <td>89.0</td>\n",
       "      <td>71.2</td>\n",
       "      <td>82</td>\n",
       "      <td>16.4</td>\n",
       "      <td>87.6</td>\n",
       "    </tr>\n",
       "    <tr>\n",
       "      <th>68fc858c3fbd12ea0fba2729b64467407156cd67a0a73fbcb21bd14d58648f96f6c8d9ed157ba0d9bc9e8641fdf6e3829eeb8d3842710bc8a27ddb71895d2898</th>\n",
       "      <td>92.0</td>\n",
       "      <td>73.6</td>\n",
       "      <td>77</td>\n",
       "      <td>15.4</td>\n",
       "      <td>89.0</td>\n",
       "    </tr>\n",
       "    <tr>\n",
       "      <th>...</th>\n",
       "      <td>...</td>\n",
       "      <td>...</td>\n",
       "      <td>...</td>\n",
       "      <td>...</td>\n",
       "      <td>...</td>\n",
       "    </tr>\n",
       "    <tr>\n",
       "      <th>96d4bcfeb21cfea8937fee1601afff740ef2a40084861e7f6bc288d90d9ed6460cae2bb7dbc3a21da4e6022d5820908fb88b359720be99b275af3f5b2604ad79</th>\n",
       "      <td>72.0</td>\n",
       "      <td>57.6</td>\n",
       "      <td>75</td>\n",
       "      <td>15.0</td>\n",
       "      <td>72.6</td>\n",
       "    </tr>\n",
       "    <tr>\n",
       "      <th>995d3f21997a68b7e63810788085584f06fc9d99ee5615f014a24b26eec087dbb4234270dff45a8f34640d4bbf24985357c3733c5158595d944f7d4b48e6e7f1</th>\n",
       "      <td>89.0</td>\n",
       "      <td>71.2</td>\n",
       "      <td>74</td>\n",
       "      <td>14.8</td>\n",
       "      <td>86.0</td>\n",
       "    </tr>\n",
       "    <tr>\n",
       "      <th>9e55ec0ad21e928a65cdf2470883695fd6c81747870718ea7b0ee300b35407a23622566e6e311f38bf6255c82a5abb0f1e18f002c90ebbf5826dec3a32ab385d</th>\n",
       "      <td>78.0</td>\n",
       "      <td>62.4</td>\n",
       "      <td>75</td>\n",
       "      <td>15.0</td>\n",
       "      <td>77.4</td>\n",
       "    </tr>\n",
       "    <tr>\n",
       "      <th>9f73f744c13a1bf3c54b350ea9a99c4cd8857d69dc05ec06a74f9853dc54e8f2a9e192245e710386fcffe1906a3f87ef51fb7a0672721d61f0e6debfbc1ad2b7</th>\n",
       "      <td>89.0</td>\n",
       "      <td>71.2</td>\n",
       "      <td>85</td>\n",
       "      <td>17.0</td>\n",
       "      <td>88.2</td>\n",
       "    </tr>\n",
       "    <tr>\n",
       "      <th>a26f9f96ab2473ba3abe665778199affc97e4ab19414c751994aa38aa054c4642cb98e8691ae66e6ef1db0af93855d9464378b1c541084cc7dfcee3f7b491397</th>\n",
       "      <td>70.0</td>\n",
       "      <td>56.0</td>\n",
       "      <td>74</td>\n",
       "      <td>14.8</td>\n",
       "      <td>70.8</td>\n",
       "    </tr>\n",
       "    <tr>\n",
       "      <th>a6bd6eb29b757c4f038adbc1d6e8b2a86ae46a26648311accaa9130c90ccf96b9dc16def28faca29e009f0350a433710b1e00499ac31c02e07281a138fbc9712</th>\n",
       "      <td>63.0</td>\n",
       "      <td>50.4</td>\n",
       "      <td>77</td>\n",
       "      <td>15.4</td>\n",
       "      <td>65.8</td>\n",
       "    </tr>\n",
       "    <tr>\n",
       "      <th>a7be1f920b0165df39872f70b48bdbd475c53a944da02937f6ac9f9836978522840026ce3ca230c073e716d1947c26622acd314c26e66c827e445115dfdef1d5</th>\n",
       "      <td>54.0</td>\n",
       "      <td>43.2</td>\n",
       "      <td>80</td>\n",
       "      <td>16.0</td>\n",
       "      <td>59.2</td>\n",
       "    </tr>\n",
       "    <tr>\n",
       "      <th>a9232b4d073f42c255fc9b7890bfc752ac533a93a074a588b15cb05372c083c95287ddefb14ba25394cd672410b4bf8236247b014a9ab2181f54bb9e50a0fd55</th>\n",
       "      <td>66.0</td>\n",
       "      <td>52.8</td>\n",
       "      <td>75</td>\n",
       "      <td>15.0</td>\n",
       "      <td>67.8</td>\n",
       "    </tr>\n",
       "    <tr>\n",
       "      <th>aa8ee53486c517e6e10b53c4d3a983a23476853f2c77e73473f4e9f313582b8fa84fa41dc4fd8d9f82ff2d1e2c30972fb2b265cef36dc86adc4e896df2f37db0</th>\n",
       "      <td>54.0</td>\n",
       "      <td>43.2</td>\n",
       "      <td>87</td>\n",
       "      <td>17.4</td>\n",
       "      <td>60.6</td>\n",
       "    </tr>\n",
       "    <tr>\n",
       "      <th>b1e8409863f43d7985a650df83201039ee0c654163663413750f4e5e2998ff54ced9ad1add5e009ffa9c923348c1554a2851e0fdcebc0736a9b8f2cfcf583761</th>\n",
       "      <td>65.0</td>\n",
       "      <td>52.0</td>\n",
       "      <td>83</td>\n",
       "      <td>16.6</td>\n",
       "      <td>68.6</td>\n",
       "    </tr>\n",
       "    <tr>\n",
       "      <th>bb263235a4406686a5a4d3b90af40dae05c5a5d0105acbbe04d9f1d98b17bf7e8e8a22515208fbf2fbe0603cae805f157b6f8fa7fb43d9d5fbde723f9afb2a95</th>\n",
       "      <td>78.0</td>\n",
       "      <td>62.4</td>\n",
       "      <td>88</td>\n",
       "      <td>17.6</td>\n",
       "      <td>80.0</td>\n",
       "    </tr>\n",
       "    <tr>\n",
       "      <th>bbfbf116e8669410e639befd1e3447f76d61719412450ad332bdd7633908373008f653fcdb01c09c65e32dd252d160330bdc983230201635e5451e24f8836219</th>\n",
       "      <td>72.0</td>\n",
       "      <td>57.6</td>\n",
       "      <td>69</td>\n",
       "      <td>13.8</td>\n",
       "      <td>71.4</td>\n",
       "    </tr>\n",
       "    <tr>\n",
       "      <th>c63ab8a12b7aae7b8cf383ad51398d1ddba75da783d71ca9bec312b8e39a0b78f2fecac15ea890c416bc2ea58d62485645c27d5008d9df804d5cf0fee21cf0bc</th>\n",
       "      <td>89.0</td>\n",
       "      <td>71.2</td>\n",
       "      <td>85</td>\n",
       "      <td>17.0</td>\n",
       "      <td>88.2</td>\n",
       "    </tr>\n",
       "    <tr>\n",
       "      <th>c7ea4c6aa74163bcaee624218cba141edbb38e83760125d17f04759031eb46177fdc1f416beba1ed41dfa2c295dae7f2b034dfd70861992077960dadc2dc6c64</th>\n",
       "      <td>29.0</td>\n",
       "      <td>23.2</td>\n",
       "      <td>76</td>\n",
       "      <td>15.2</td>\n",
       "      <td>38.4</td>\n",
       "    </tr>\n",
       "    <tr>\n",
       "      <th>c7edce264002b4c63d9e4dd4a73bf9e4ed5a9241c22604d592699d9e87a058801c39745fe3490bad7448759f7cbc881c6f2f611e216b3afbad06275e4741e727</th>\n",
       "      <td>77.0</td>\n",
       "      <td>61.6</td>\n",
       "      <td>77</td>\n",
       "      <td>15.4</td>\n",
       "      <td>77.0</td>\n",
       "    </tr>\n",
       "    <tr>\n",
       "      <th>cb556a83afddb0a28e8b36c6e4318cca5966651bc183d4068d9408d5c7bced9250af7eba93480d30b1f4c243665a3913a194928c3c14dcc92fc2ab1f87b83d92</th>\n",
       "      <td>3.0</td>\n",
       "      <td>2.4</td>\n",
       "      <td>0</td>\n",
       "      <td>0.0</td>\n",
       "      <td>2.4</td>\n",
       "    </tr>\n",
       "    <tr>\n",
       "      <th>d345cc040d5fb05035230066bdd6a3c405032eb3fa228c8175765cfe602e547c03a2261d7d56bb6c0bea88e343da18c31989429060fb0a1b4f480518454789f5</th>\n",
       "      <td>53.0</td>\n",
       "      <td>42.4</td>\n",
       "      <td>90</td>\n",
       "      <td>18.0</td>\n",
       "      <td>60.4</td>\n",
       "    </tr>\n",
       "    <tr>\n",
       "      <th>d640292e2b407cbee2ca0037a3385cfbf2ccf9792c4c2d2e5276b1d7eb289ea8548ce07701e783dff48c57a5b3593c03867edfe2e3d1095bfc10ca00322c6bce</th>\n",
       "      <td>61.0</td>\n",
       "      <td>48.8</td>\n",
       "      <td>61</td>\n",
       "      <td>12.2</td>\n",
       "      <td>61.0</td>\n",
       "    </tr>\n",
       "    <tr>\n",
       "      <th>d736b1bd70711c9f930e27ca0dd7810db0531bcc482c2b3342ea47df118e3775d91dd1100c6f0b0a0e4b32f1871f1ecb2c86c2c0a2663f3270c07cf0d50113ad</th>\n",
       "      <td>73.0</td>\n",
       "      <td>58.4</td>\n",
       "      <td>77</td>\n",
       "      <td>15.4</td>\n",
       "      <td>73.8</td>\n",
       "    </tr>\n",
       "    <tr>\n",
       "      <th>d83f5095ca88b394d81eb34d216e4201774d06d9180a7d7555e99f3525ce15fdf1b197c3756c5eaf7eff9e5a833ad5cc3967d012d2b0c279fa63eb03819b11fd</th>\n",
       "      <td>33.0</td>\n",
       "      <td>26.4</td>\n",
       "      <td>62</td>\n",
       "      <td>12.4</td>\n",
       "      <td>38.8</td>\n",
       "    </tr>\n",
       "    <tr>\n",
       "      <th>dc62514651599667ed7afa7f641ed33b226171ba7376da8b02db558bc5908ebd3a739c947c8d01eb4a57061b0511da7466dd2b3f3dc7af473159ab9ed7c11387</th>\n",
       "      <td>3.0</td>\n",
       "      <td>2.4</td>\n",
       "      <td>0</td>\n",
       "      <td>0.0</td>\n",
       "      <td>2.4</td>\n",
       "    </tr>\n",
       "    <tr>\n",
       "      <th>e0bac16232e59b96e9d49632fd112e3d9f1a81c87ec6a06a9b50351b3323736f32aae15d1f59dae5c02fb4ff13566345ec038b15d449b6896c21084be8588817</th>\n",
       "      <td>55.0</td>\n",
       "      <td>44.0</td>\n",
       "      <td>62</td>\n",
       "      <td>12.4</td>\n",
       "      <td>56.4</td>\n",
       "    </tr>\n",
       "    <tr>\n",
       "      <th>e1c1b704238838d76599fa84188cd71a12755a85939faa8b847579f5c50fc46ad566c72dfc71e18fbfe256ac3bf9dbf22b0eef0eeada6d5f30da18b33f3dd686</th>\n",
       "      <td>85.0</td>\n",
       "      <td>68.0</td>\n",
       "      <td>86</td>\n",
       "      <td>17.2</td>\n",
       "      <td>85.2</td>\n",
       "    </tr>\n",
       "    <tr>\n",
       "      <th>e7013d3e202062f1b4dc7ae4a1c08d6a7d201a13137cc3d16877bd47f27943915557c02f70432fbd1a98995d0ad52c6bbdf5195972eab7d90ad5df0f84995b6e</th>\n",
       "      <td>66.0</td>\n",
       "      <td>52.8</td>\n",
       "      <td>74</td>\n",
       "      <td>14.8</td>\n",
       "      <td>67.6</td>\n",
       "    </tr>\n",
       "    <tr>\n",
       "      <th>ea11e51cef9f3993a8d9c3542129edb1b3dd23e4c0cd41c5363e40f4892cae7904f474bd4a7bf9f139137cc10174cd9964d258dbf10d699b8bced4c595c55a97</th>\n",
       "      <td>63.0</td>\n",
       "      <td>50.4</td>\n",
       "      <td>92</td>\n",
       "      <td>18.4</td>\n",
       "      <td>68.8</td>\n",
       "    </tr>\n",
       "    <tr>\n",
       "      <th>ededdeb7aa6ed981f77cf9d76888aa30123d18c8d5587460ef3529a22c7365d865aefeb0459a38fd94086d0642b617aa372363d00f9845ea5e2834b3959fd0ea</th>\n",
       "      <td>96.0</td>\n",
       "      <td>76.8</td>\n",
       "      <td>85</td>\n",
       "      <td>17.0</td>\n",
       "      <td>93.8</td>\n",
       "    </tr>\n",
       "    <tr>\n",
       "      <th>f09cc933f4d699facf11ca8b344d7988cebbc7a514e631e01e6b07c3259d9f571689a4f5cd32a4bf867e220640ae3fd78b2a904c90369c6a991272bfe90633b8</th>\n",
       "      <td>57.0</td>\n",
       "      <td>45.6</td>\n",
       "      <td>91</td>\n",
       "      <td>18.2</td>\n",
       "      <td>63.8</td>\n",
       "    </tr>\n",
       "    <tr>\n",
       "      <th>f25b73750b8acedf832c71ff4d070c5e6ae42d739e1e157068366adba13b970b25fbae39dfe5389c2ec99b5d630036eb14c7bf88eccbf0dde2e2b776c8ac2828</th>\n",
       "      <td>92.0</td>\n",
       "      <td>73.6</td>\n",
       "      <td>89</td>\n",
       "      <td>17.8</td>\n",
       "      <td>91.4</td>\n",
       "    </tr>\n",
       "    <tr>\n",
       "      <th>f54a69361757c9124afc0a13d82ad7268182b46ab65dfcdf6916c20f3d1968b02819f963505612918b84b010e9bc8629991325beaae19e1ff01c4fb869918ec5</th>\n",
       "      <td>94.0</td>\n",
       "      <td>75.2</td>\n",
       "      <td>92</td>\n",
       "      <td>18.4</td>\n",
       "      <td>93.6</td>\n",
       "    </tr>\n",
       "    <tr>\n",
       "      <th>f7dbc53680a37dd2dcfd757bb2bbdace6aa04d5b6a7a8e2c365deb42f53c8d313efc398f170c0a8781dd70299cb441f190fb48d39d9e327b71b0eeb4cbb84ff0</th>\n",
       "      <td>73.0</td>\n",
       "      <td>58.4</td>\n",
       "      <td>93</td>\n",
       "      <td>18.6</td>\n",
       "      <td>77.0</td>\n",
       "    </tr>\n",
       "  </tbody>\n",
       "</table>\n",
       "<p>70 rows × 5 columns</p>\n",
       "</div>"
      ],
      "text/plain": [
       "                                                      #01  #01_weighted  #02  \\\n",
       "user                                                                           \n",
       "0a628068de9c2a70f8685e318f5dbd07badc53704c8d765...   96.0          76.8   89   \n",
       "0a6d48869596d53488f8838878198bf3caac38548d83ad7...   64.0          51.2   95   \n",
       "0a8e012a21baf4c32928caa65c149c2afd8a970a7a28820...   85.0          68.0   83   \n",
       "18e4e11be10aaf08723ffb8f2f731ffb96d9ebdc5f38368...   79.0          63.2   87   \n",
       "1a70e13e29d382e20adf383c93d02fed2bf9b1855867b0d...   95.0          76.0   91   \n",
       "1aa5c99297b7f8811903ea4e5d6850aacc10e0bef961c35...   19.0          15.2   73   \n",
       "1d0871384cde428db0cb59dc90c589f1321b665c7680100...   33.0          26.4   68   \n",
       "1f48ecb9da93119d0fd7261b181e8c2df5ca3fc5dad7a0f...   60.0          48.0   62   \n",
       "2a465669ace48ddd13fd780fa5ff3f95afcb79de06f5373...   17.0          13.6    0   \n",
       "2f370cf4c62b65f1750a3ba56c2e278baf9e70e60b2e9c2...  100.0          80.0   93   \n",
       "2f8e98cc731e125c5852ca9faf42f1b774d233977d6ec08...   64.0          51.2   69   \n",
       "34ece36807509ef1e730ba43edba5cd19717f0197954499...   58.0          46.4   82   \n",
       "359d7035340c918b4bc412f13174a4926424ae839aebeef...   73.0          58.4   77   \n",
       "382b3c93a7f61bf5f4b79f9ba5c7f725149783ce18bd980...   79.0          63.2   79   \n",
       "3a054e6882b84784a6a5948aab3789247e4bf30238031e6...    0.0           0.0    0   \n",
       "3c215e943243dd23f478c634e78e320f9b91bae54ab52bb...   93.0          74.4   90   \n",
       "3e512546547783edd0c7088c38fa2f39cbc6e4e010bbf83...    0.0           0.0    0   \n",
       "3e99f20455c58504e93b8d3519f9e2cdcba6e5c2d8768d5...   90.0          72.0   77   \n",
       "3fc6324af8f684398d31462cd739567b319cd4941199efd...   95.0          76.0   88   \n",
       "41135aa3767d030523790371a31494717b2d81b55ee09d1...   78.0          62.4   79   \n",
       "4641873b8528b164359fbd6b437a860bccc908869acc3cb...   86.0          68.8   75   \n",
       "48bdfbcd8480d986f234bcf2d053c7a67fa2d598081c3d0...   72.0          57.6   75   \n",
       "4ca310f223f5083edfc810dc0774c50d63fc45f1ee825ec...   52.0          41.6   88   \n",
       "51d6e7b8a0850b51aa174b7f6983e09e27bc7e7a5c8a195...   78.0          62.4   77   \n",
       "52b74dab564160027b1655a6dc5c70f4f6e7026a0bd88a4...   74.0          59.2   89   \n",
       "56562f17fa03b182627de7e2879b28f3e3baea287d42750...   84.0          67.2   77   \n",
       "56748ea85722b6da666f11508184f21664ba1cfeee996ae...   27.0          21.6    0   \n",
       "5d25cd051a4189d1fd25fd8a3c3e0263abbc8f1bcfc7a95...   93.0          74.4   88   \n",
       "618606b941d4d8a53e6d7e4f35266370819170d0d65acc9...   89.0          71.2   82   \n",
       "68fc858c3fbd12ea0fba2729b64467407156cd67a0a73fb...   92.0          73.6   77   \n",
       "...                                                   ...           ...  ...   \n",
       "96d4bcfeb21cfea8937fee1601afff740ef2a40084861e7...   72.0          57.6   75   \n",
       "995d3f21997a68b7e63810788085584f06fc9d99ee5615f...   89.0          71.2   74   \n",
       "9e55ec0ad21e928a65cdf2470883695fd6c81747870718e...   78.0          62.4   75   \n",
       "9f73f744c13a1bf3c54b350ea9a99c4cd8857d69dc05ec0...   89.0          71.2   85   \n",
       "a26f9f96ab2473ba3abe665778199affc97e4ab19414c75...   70.0          56.0   74   \n",
       "a6bd6eb29b757c4f038adbc1d6e8b2a86ae46a26648311a...   63.0          50.4   77   \n",
       "a7be1f920b0165df39872f70b48bdbd475c53a944da0293...   54.0          43.2   80   \n",
       "a9232b4d073f42c255fc9b7890bfc752ac533a93a074a58...   66.0          52.8   75   \n",
       "aa8ee53486c517e6e10b53c4d3a983a23476853f2c77e73...   54.0          43.2   87   \n",
       "b1e8409863f43d7985a650df83201039ee0c65416366341...   65.0          52.0   83   \n",
       "bb263235a4406686a5a4d3b90af40dae05c5a5d0105acbb...   78.0          62.4   88   \n",
       "bbfbf116e8669410e639befd1e3447f76d61719412450ad...   72.0          57.6   69   \n",
       "c63ab8a12b7aae7b8cf383ad51398d1ddba75da783d71ca...   89.0          71.2   85   \n",
       "c7ea4c6aa74163bcaee624218cba141edbb38e83760125d...   29.0          23.2   76   \n",
       "c7edce264002b4c63d9e4dd4a73bf9e4ed5a9241c22604d...   77.0          61.6   77   \n",
       "cb556a83afddb0a28e8b36c6e4318cca5966651bc183d40...    3.0           2.4    0   \n",
       "d345cc040d5fb05035230066bdd6a3c405032eb3fa228c8...   53.0          42.4   90   \n",
       "d640292e2b407cbee2ca0037a3385cfbf2ccf9792c4c2d2...   61.0          48.8   61   \n",
       "d736b1bd70711c9f930e27ca0dd7810db0531bcc482c2b3...   73.0          58.4   77   \n",
       "d83f5095ca88b394d81eb34d216e4201774d06d9180a7d7...   33.0          26.4   62   \n",
       "dc62514651599667ed7afa7f641ed33b226171ba7376da8...    3.0           2.4    0   \n",
       "e0bac16232e59b96e9d49632fd112e3d9f1a81c87ec6a06...   55.0          44.0   62   \n",
       "e1c1b704238838d76599fa84188cd71a12755a85939faa8...   85.0          68.0   86   \n",
       "e7013d3e202062f1b4dc7ae4a1c08d6a7d201a13137cc3d...   66.0          52.8   74   \n",
       "ea11e51cef9f3993a8d9c3542129edb1b3dd23e4c0cd41c...   63.0          50.4   92   \n",
       "ededdeb7aa6ed981f77cf9d76888aa30123d18c8d558746...   96.0          76.8   85   \n",
       "f09cc933f4d699facf11ca8b344d7988cebbc7a514e631e...   57.0          45.6   91   \n",
       "f25b73750b8acedf832c71ff4d070c5e6ae42d739e1e157...   92.0          73.6   89   \n",
       "f54a69361757c9124afc0a13d82ad7268182b46ab65dfcd...   94.0          75.2   92   \n",
       "f7dbc53680a37dd2dcfd757bb2bbdace6aa04d5b6a7a8e2...   73.0          58.4   93   \n",
       "\n",
       "                                                    #02_weighted  final_grade  \n",
       "user                                                                           \n",
       "0a628068de9c2a70f8685e318f5dbd07badc53704c8d765...          17.8         94.6  \n",
       "0a6d48869596d53488f8838878198bf3caac38548d83ad7...          19.0         70.2  \n",
       "0a8e012a21baf4c32928caa65c149c2afd8a970a7a28820...          16.6         84.6  \n",
       "18e4e11be10aaf08723ffb8f2f731ffb96d9ebdc5f38368...          17.4         80.6  \n",
       "1a70e13e29d382e20adf383c93d02fed2bf9b1855867b0d...          18.2         94.2  \n",
       "1aa5c99297b7f8811903ea4e5d6850aacc10e0bef961c35...          14.6         29.8  \n",
       "1d0871384cde428db0cb59dc90c589f1321b665c7680100...          13.6         40.0  \n",
       "1f48ecb9da93119d0fd7261b181e8c2df5ca3fc5dad7a0f...          12.4         60.4  \n",
       "2a465669ace48ddd13fd780fa5ff3f95afcb79de06f5373...           0.0         13.6  \n",
       "2f370cf4c62b65f1750a3ba56c2e278baf9e70e60b2e9c2...          18.6         98.6  \n",
       "2f8e98cc731e125c5852ca9faf42f1b774d233977d6ec08...          13.8         65.0  \n",
       "34ece36807509ef1e730ba43edba5cd19717f0197954499...          16.4         62.8  \n",
       "359d7035340c918b4bc412f13174a4926424ae839aebeef...          15.4         73.8  \n",
       "382b3c93a7f61bf5f4b79f9ba5c7f725149783ce18bd980...          15.8         79.0  \n",
       "3a054e6882b84784a6a5948aab3789247e4bf30238031e6...           0.0          0.0  \n",
       "3c215e943243dd23f478c634e78e320f9b91bae54ab52bb...          18.0         92.4  \n",
       "3e512546547783edd0c7088c38fa2f39cbc6e4e010bbf83...           0.0          0.0  \n",
       "3e99f20455c58504e93b8d3519f9e2cdcba6e5c2d8768d5...          15.4         87.4  \n",
       "3fc6324af8f684398d31462cd739567b319cd4941199efd...          17.6         93.6  \n",
       "41135aa3767d030523790371a31494717b2d81b55ee09d1...          15.8         78.2  \n",
       "4641873b8528b164359fbd6b437a860bccc908869acc3cb...          15.0         83.8  \n",
       "48bdfbcd8480d986f234bcf2d053c7a67fa2d598081c3d0...          15.0         72.6  \n",
       "4ca310f223f5083edfc810dc0774c50d63fc45f1ee825ec...          17.6         59.2  \n",
       "51d6e7b8a0850b51aa174b7f6983e09e27bc7e7a5c8a195...          15.4         77.8  \n",
       "52b74dab564160027b1655a6dc5c70f4f6e7026a0bd88a4...          17.8         77.0  \n",
       "56562f17fa03b182627de7e2879b28f3e3baea287d42750...          15.4         82.6  \n",
       "56748ea85722b6da666f11508184f21664ba1cfeee996ae...           0.0         21.6  \n",
       "5d25cd051a4189d1fd25fd8a3c3e0263abbc8f1bcfc7a95...          17.6         92.0  \n",
       "618606b941d4d8a53e6d7e4f35266370819170d0d65acc9...          16.4         87.6  \n",
       "68fc858c3fbd12ea0fba2729b64467407156cd67a0a73fb...          15.4         89.0  \n",
       "...                                                          ...          ...  \n",
       "96d4bcfeb21cfea8937fee1601afff740ef2a40084861e7...          15.0         72.6  \n",
       "995d3f21997a68b7e63810788085584f06fc9d99ee5615f...          14.8         86.0  \n",
       "9e55ec0ad21e928a65cdf2470883695fd6c81747870718e...          15.0         77.4  \n",
       "9f73f744c13a1bf3c54b350ea9a99c4cd8857d69dc05ec0...          17.0         88.2  \n",
       "a26f9f96ab2473ba3abe665778199affc97e4ab19414c75...          14.8         70.8  \n",
       "a6bd6eb29b757c4f038adbc1d6e8b2a86ae46a26648311a...          15.4         65.8  \n",
       "a7be1f920b0165df39872f70b48bdbd475c53a944da0293...          16.0         59.2  \n",
       "a9232b4d073f42c255fc9b7890bfc752ac533a93a074a58...          15.0         67.8  \n",
       "aa8ee53486c517e6e10b53c4d3a983a23476853f2c77e73...          17.4         60.6  \n",
       "b1e8409863f43d7985a650df83201039ee0c65416366341...          16.6         68.6  \n",
       "bb263235a4406686a5a4d3b90af40dae05c5a5d0105acbb...          17.6         80.0  \n",
       "bbfbf116e8669410e639befd1e3447f76d61719412450ad...          13.8         71.4  \n",
       "c63ab8a12b7aae7b8cf383ad51398d1ddba75da783d71ca...          17.0         88.2  \n",
       "c7ea4c6aa74163bcaee624218cba141edbb38e83760125d...          15.2         38.4  \n",
       "c7edce264002b4c63d9e4dd4a73bf9e4ed5a9241c22604d...          15.4         77.0  \n",
       "cb556a83afddb0a28e8b36c6e4318cca5966651bc183d40...           0.0          2.4  \n",
       "d345cc040d5fb05035230066bdd6a3c405032eb3fa228c8...          18.0         60.4  \n",
       "d640292e2b407cbee2ca0037a3385cfbf2ccf9792c4c2d2...          12.2         61.0  \n",
       "d736b1bd70711c9f930e27ca0dd7810db0531bcc482c2b3...          15.4         73.8  \n",
       "d83f5095ca88b394d81eb34d216e4201774d06d9180a7d7...          12.4         38.8  \n",
       "dc62514651599667ed7afa7f641ed33b226171ba7376da8...           0.0          2.4  \n",
       "e0bac16232e59b96e9d49632fd112e3d9f1a81c87ec6a06...          12.4         56.4  \n",
       "e1c1b704238838d76599fa84188cd71a12755a85939faa8...          17.2         85.2  \n",
       "e7013d3e202062f1b4dc7ae4a1c08d6a7d201a13137cc3d...          14.8         67.6  \n",
       "ea11e51cef9f3993a8d9c3542129edb1b3dd23e4c0cd41c...          18.4         68.8  \n",
       "ededdeb7aa6ed981f77cf9d76888aa30123d18c8d558746...          17.0         93.8  \n",
       "f09cc933f4d699facf11ca8b344d7988cebbc7a514e631e...          18.2         63.8  \n",
       "f25b73750b8acedf832c71ff4d070c5e6ae42d739e1e157...          17.8         91.4  \n",
       "f54a69361757c9124afc0a13d82ad7268182b46ab65dfcd...          18.4         93.6  \n",
       "f7dbc53680a37dd2dcfd757bb2bbdace6aa04d5b6a7a8e2...          18.6         77.0  \n",
       "\n",
       "[70 rows x 5 columns]"
      ]
     },
     "execution_count": 48,
     "metadata": {},
     "output_type": "execute_result"
    }
   ],
   "source": [
    "module = modules[0]\n",
    "print(module)\n",
    "output = {}\n",
    "output[\"code\"] = module\n",
    "\n",
    "def get_grades(module):\n",
    "    file = '../data/raw/modules/{0}/grades.csv'.format(module)\n",
    "    with open(file, \"r\") as f:\n",
    "        fline = f.readline()\n",
    "        assessment_weights = [int(weight)/100 for weight in re.findall(r\"\\((.*?)%\\)\", fline)]\n",
    "        \n",
    "    grades = pd.read_csv(file, skiprows=[0])\n",
    "    grades = grades[['#Ass#', 'Mark', '#Cand Key']]\n",
    "    grades.columns = ['ass', 'grade', 'user']\n",
    "    grades['user'] = grades['user'].str.replace(r'#|/[0-9]', '').apply(lambda u: sha512(u.encode('utf-8')).hexdigest())\n",
    "    grades = grades.set_index('user')\n",
    "\n",
    "    assessments = grades['ass'].unique()\n",
    "    module_grades = pd.DataFrame([], index=grades.index.unique())\n",
    "\n",
    "    for k, ass in enumerate(assessments):\n",
    "        assessment_grades = grades[grades['ass'] == ass]['grade'].to_frame()\n",
    "        assessment_grades.columns = [ass]\n",
    "        assessment_grades['{0}_weighted'.format(ass)] = assessment_grades[ass] * assessment_weights[k]\n",
    "        module_grades = module_grades.merge(assessment_grades, left_index=True, right_index=True, how=\"outer\")\n",
    "\n",
    "    module_grades = module_grades.fillna(0)\n",
    "    module_grades['final_grade'] = module_grades.filter(regex=\"_weighted\").sum(axis=1)\n",
    "    \n",
    "    return module_grades\n",
    "\n",
    "module_grades = get_grades(module)\n",
    "\n",
    "module_grades"
   ]
  },
  {
   "cell_type": "code",
   "execution_count": 78,
   "metadata": {},
   "outputs": [
    {
     "data": {
      "application/vnd.vegalite.v2+json": {
       "$schema": "https://vega.github.io/schema/vega-lite/v2.0.json",
       "data": {
        "values": [
         {
          "#01": 96,
          "#01_weighted": 76.80000000000001,
          "#02": 89,
          "#02_weighted": 17.8,
          "final_grade": 94.60000000000001
         },
         {
          "#01": 64,
          "#01_weighted": 51.2,
          "#02": 95,
          "#02_weighted": 19,
          "final_grade": 70.2
         },
         {
          "#01": 85,
          "#01_weighted": 68,
          "#02": 83,
          "#02_weighted": 16.6,
          "final_grade": 84.6
         },
         {
          "#01": 79,
          "#01_weighted": 63.2,
          "#02": 87,
          "#02_weighted": 17.400000000000002,
          "final_grade": 80.60000000000001
         },
         {
          "#01": 95,
          "#01_weighted": 76,
          "#02": 91,
          "#02_weighted": 18.2,
          "final_grade": 94.2
         },
         {
          "#01": 19,
          "#01_weighted": 15.200000000000001,
          "#02": 73,
          "#02_weighted": 14.600000000000001,
          "final_grade": 29.800000000000004
         },
         {
          "#01": 33,
          "#01_weighted": 26.400000000000002,
          "#02": 68,
          "#02_weighted": 13.600000000000001,
          "final_grade": 40
         },
         {
          "#01": 60,
          "#01_weighted": 48,
          "#02": 62,
          "#02_weighted": 12.4,
          "final_grade": 60.4
         },
         {
          "#01": 17,
          "#01_weighted": 13.600000000000001,
          "#02": 0,
          "#02_weighted": 0,
          "final_grade": 13.600000000000001
         },
         {
          "#01": 100,
          "#01_weighted": 80,
          "#02": 93,
          "#02_weighted": 18.6,
          "final_grade": 98.6
         },
         {
          "#01": 64,
          "#01_weighted": 51.2,
          "#02": 69,
          "#02_weighted": 13.8,
          "final_grade": 65
         },
         {
          "#01": 58,
          "#01_weighted": 46.400000000000006,
          "#02": 82,
          "#02_weighted": 16.400000000000002,
          "final_grade": 62.80000000000001
         },
         {
          "#01": 73,
          "#01_weighted": 58.400000000000006,
          "#02": 77,
          "#02_weighted": 15.4,
          "final_grade": 73.80000000000001
         },
         {
          "#01": 79,
          "#01_weighted": 63.2,
          "#02": 79,
          "#02_weighted": 15.8,
          "final_grade": 79
         },
         {
          "#01": 0,
          "#01_weighted": 0,
          "#02": 0,
          "#02_weighted": 0,
          "final_grade": 0
         },
         {
          "#01": 93,
          "#01_weighted": 74.4,
          "#02": 90,
          "#02_weighted": 18,
          "final_grade": 92.4
         },
         {
          "#01": 0,
          "#01_weighted": 0,
          "#02": 0,
          "#02_weighted": 0,
          "final_grade": 0
         },
         {
          "#01": 90,
          "#01_weighted": 72,
          "#02": 77,
          "#02_weighted": 15.4,
          "final_grade": 87.4
         },
         {
          "#01": 95,
          "#01_weighted": 76,
          "#02": 88,
          "#02_weighted": 17.6,
          "final_grade": 93.6
         },
         {
          "#01": 78,
          "#01_weighted": 62.400000000000006,
          "#02": 79,
          "#02_weighted": 15.8,
          "final_grade": 78.2
         },
         {
          "#01": 86,
          "#01_weighted": 68.8,
          "#02": 75,
          "#02_weighted": 15,
          "final_grade": 83.8
         },
         {
          "#01": 72,
          "#01_weighted": 57.6,
          "#02": 75,
          "#02_weighted": 15,
          "final_grade": 72.6
         },
         {
          "#01": 52,
          "#01_weighted": 41.6,
          "#02": 88,
          "#02_weighted": 17.6,
          "final_grade": 59.2
         },
         {
          "#01": 78,
          "#01_weighted": 62.400000000000006,
          "#02": 77,
          "#02_weighted": 15.4,
          "final_grade": 77.80000000000001
         },
         {
          "#01": 74,
          "#01_weighted": 59.2,
          "#02": 89,
          "#02_weighted": 17.8,
          "final_grade": 77
         },
         {
          "#01": 84,
          "#01_weighted": 67.2,
          "#02": 77,
          "#02_weighted": 15.4,
          "final_grade": 82.60000000000001
         },
         {
          "#01": 27,
          "#01_weighted": 21.6,
          "#02": 0,
          "#02_weighted": 0,
          "final_grade": 21.6
         },
         {
          "#01": 93,
          "#01_weighted": 74.4,
          "#02": 88,
          "#02_weighted": 17.6,
          "final_grade": 92
         },
         {
          "#01": 89,
          "#01_weighted": 71.2,
          "#02": 82,
          "#02_weighted": 16.400000000000002,
          "final_grade": 87.60000000000001
         },
         {
          "#01": 92,
          "#01_weighted": 73.60000000000001,
          "#02": 77,
          "#02_weighted": 15.4,
          "final_grade": 89.00000000000001
         },
         {
          "#01": 66,
          "#01_weighted": 52.800000000000004,
          "#02": 83,
          "#02_weighted": 16.6,
          "final_grade": 69.4
         },
         {
          "#01": 76,
          "#01_weighted": 60.800000000000004,
          "#02": 88,
          "#02_weighted": 17.6,
          "final_grade": 78.4
         },
         {
          "#01": 90,
          "#01_weighted": 72,
          "#02": 77,
          "#02_weighted": 15.4,
          "final_grade": 87.4
         },
         {
          "#01": 57,
          "#01_weighted": 45.6,
          "#02": 65,
          "#02_weighted": 13,
          "final_grade": 58.6
         },
         {
          "#01": 83,
          "#01_weighted": 66.4,
          "#02": 62,
          "#02_weighted": 12.4,
          "final_grade": 78.80000000000001
         },
         {
          "#01": 78,
          "#01_weighted": 62.400000000000006,
          "#02": 82,
          "#02_weighted": 16.400000000000002,
          "final_grade": 78.80000000000001
         },
         {
          "#01": 78,
          "#01_weighted": 62.400000000000006,
          "#02": 82,
          "#02_weighted": 16.400000000000002,
          "final_grade": 78.80000000000001
         },
         {
          "#01": 70,
          "#01_weighted": 56,
          "#02": 84,
          "#02_weighted": 16.8,
          "final_grade": 72.8
         },
         {
          "#01": 81,
          "#01_weighted": 64.8,
          "#02": 77,
          "#02_weighted": 15.4,
          "final_grade": 80.2
         },
         {
          "#01": 67,
          "#01_weighted": 53.6,
          "#02": 62,
          "#02_weighted": 12.4,
          "final_grade": 66
         },
         {
          "#01": 72,
          "#01_weighted": 57.6,
          "#02": 75,
          "#02_weighted": 15,
          "final_grade": 72.6
         },
         {
          "#01": 89,
          "#01_weighted": 71.2,
          "#02": 74,
          "#02_weighted": 14.8,
          "final_grade": 86
         },
         {
          "#01": 78,
          "#01_weighted": 62.400000000000006,
          "#02": 75,
          "#02_weighted": 15,
          "final_grade": 77.4
         },
         {
          "#01": 89,
          "#01_weighted": 71.2,
          "#02": 85,
          "#02_weighted": 17,
          "final_grade": 88.2
         },
         {
          "#01": 70,
          "#01_weighted": 56,
          "#02": 74,
          "#02_weighted": 14.8,
          "final_grade": 70.8
         },
         {
          "#01": 63,
          "#01_weighted": 50.400000000000006,
          "#02": 77,
          "#02_weighted": 15.4,
          "final_grade": 65.80000000000001
         },
         {
          "#01": 54,
          "#01_weighted": 43.2,
          "#02": 80,
          "#02_weighted": 16,
          "final_grade": 59.2
         },
         {
          "#01": 66,
          "#01_weighted": 52.800000000000004,
          "#02": 75,
          "#02_weighted": 15,
          "final_grade": 67.80000000000001
         },
         {
          "#01": 54,
          "#01_weighted": 43.2,
          "#02": 87,
          "#02_weighted": 17.400000000000002,
          "final_grade": 60.60000000000001
         },
         {
          "#01": 65,
          "#01_weighted": 52,
          "#02": 83,
          "#02_weighted": 16.6,
          "final_grade": 68.6
         },
         {
          "#01": 78,
          "#01_weighted": 62.400000000000006,
          "#02": 88,
          "#02_weighted": 17.6,
          "final_grade": 80
         },
         {
          "#01": 72,
          "#01_weighted": 57.6,
          "#02": 69,
          "#02_weighted": 13.8,
          "final_grade": 71.4
         },
         {
          "#01": 89,
          "#01_weighted": 71.2,
          "#02": 85,
          "#02_weighted": 17,
          "final_grade": 88.2
         },
         {
          "#01": 29,
          "#01_weighted": 23.200000000000003,
          "#02": 76,
          "#02_weighted": 15.200000000000001,
          "final_grade": 38.400000000000006
         },
         {
          "#01": 77,
          "#01_weighted": 61.6,
          "#02": 77,
          "#02_weighted": 15.4,
          "final_grade": 77
         },
         {
          "#01": 3,
          "#01_weighted": 2.4000000000000004,
          "#02": 0,
          "#02_weighted": 0,
          "final_grade": 2.4000000000000004
         },
         {
          "#01": 53,
          "#01_weighted": 42.400000000000006,
          "#02": 90,
          "#02_weighted": 18,
          "final_grade": 60.400000000000006
         },
         {
          "#01": 61,
          "#01_weighted": 48.800000000000004,
          "#02": 61,
          "#02_weighted": 12.200000000000001,
          "final_grade": 61.00000000000001
         },
         {
          "#01": 73,
          "#01_weighted": 58.400000000000006,
          "#02": 77,
          "#02_weighted": 15.4,
          "final_grade": 73.80000000000001
         },
         {
          "#01": 33,
          "#01_weighted": 26.400000000000002,
          "#02": 62,
          "#02_weighted": 12.4,
          "final_grade": 38.800000000000004
         },
         {
          "#01": 3,
          "#01_weighted": 2.4000000000000004,
          "#02": 0,
          "#02_weighted": 0,
          "final_grade": 2.4000000000000004
         },
         {
          "#01": 55,
          "#01_weighted": 44,
          "#02": 62,
          "#02_weighted": 12.4,
          "final_grade": 56.4
         },
         {
          "#01": 85,
          "#01_weighted": 68,
          "#02": 86,
          "#02_weighted": 17.2,
          "final_grade": 85.2
         },
         {
          "#01": 66,
          "#01_weighted": 52.800000000000004,
          "#02": 74,
          "#02_weighted": 14.8,
          "final_grade": 67.60000000000001
         },
         {
          "#01": 63,
          "#01_weighted": 50.400000000000006,
          "#02": 92,
          "#02_weighted": 18.400000000000002,
          "final_grade": 68.80000000000001
         },
         {
          "#01": 96,
          "#01_weighted": 76.80000000000001,
          "#02": 85,
          "#02_weighted": 17,
          "final_grade": 93.80000000000001
         },
         {
          "#01": 57,
          "#01_weighted": 45.6,
          "#02": 91,
          "#02_weighted": 18.2,
          "final_grade": 63.8
         },
         {
          "#01": 92,
          "#01_weighted": 73.60000000000001,
          "#02": 89,
          "#02_weighted": 17.8,
          "final_grade": 91.4
         },
         {
          "#01": 94,
          "#01_weighted": 75.2,
          "#02": 92,
          "#02_weighted": 18.400000000000002,
          "final_grade": 93.60000000000001
         },
         {
          "#01": 73,
          "#01_weighted": 58.400000000000006,
          "#02": 93,
          "#02_weighted": 18.6,
          "final_grade": 77
         }
        ]
       },
       "height": 400,
       "layer": [
        {
         "encoding": {
          "color": {
           "bin": {
            "step": 10
           },
           "field": "final_grade",
           "legend": null,
           "type": "quantitative"
          },
          "x": {
           "axis": {
            "title": "Grade"
           },
           "bin": {
            "step": 10
           },
           "field": "final_grade",
           "type": "quantitative"
          },
          "y": {
           "aggregate": "count",
           "axis": {
            "title": "Number of students"
           },
           "type": "quantitative"
          }
         },
         "mark": "bar"
        },
        {
         "encoding": {
          "color": {
           "value": "#ccc"
          },
          "size": {
           "value": 2
          },
          "x": {
           "value": 320
          }
         },
         "mark": "rule"
        },
        {
         "encoding": {
          "color": {
           "value": "#ccc"
          },
          "size": {
           "value": 2
          },
          "x": {
           "value": 480
          }
         },
         "mark": "rule"
        }
       ],
       "title": "Module attainment histogram",
       "width": 800
      },
      "image/png": "[encoded data removed]"
     },
     "metadata": {},
     "output_type": "display_data"
    }
   ],
   "source": [
    "height = 400\n",
    "width = 800\n",
    "\n",
    "def build_grade_histogram(height, width, data):\n",
    "    return VegaLite({\n",
    "        \"$schema\": \"https://vega.github.io/schema/vega-lite/v2.0.json\",\n",
    "        \"title\": \"Module attainment histogram\",\n",
    "        \"height\": height,\n",
    "        \"width\": width,\n",
    "        \"layer\": [\n",
    "            {\n",
    "                \"mark\": \"bar\",\n",
    "                \"encoding\": {\n",
    "                    \"x\": {\n",
    "                        \"bin\": { \"step\": 10 },\n",
    "                        \"field\": \"final_grade\",\n",
    "                        \"type\": \"quantitative\",\n",
    "                        \"axis\": { \"title\": \"Grade\" }\n",
    "                    },\n",
    "                    \"y\": {\n",
    "                        \"aggregate\": \"count\",\n",
    "                        \"type\": \"quantitative\",\n",
    "                        \"axis\": { \"title\": \"Number of students\" }\n",
    "                    },\n",
    "                    \"color\": {\n",
    "                        \"bin\": { \"step\": 10 },\n",
    "                        \"field\": \"final_grade\",\n",
    "                        \"type\": \"quantitative\",\n",
    "                        \"legend\": None\n",
    "                    }\n",
    "                }\n",
    "            },\n",
    "            {\n",
    "                \"mark\": \"rule\",\n",
    "                \"encoding\": {\n",
    "                    \"x\": {\n",
    "                        \"value\": width/100 * 40\n",
    "                    },\n",
    "                    \"size\": {\n",
    "                        \"value\": 2\n",
    "                    },\n",
    "                    \"color\": {\n",
    "                        \"value\": \"#ccc\"\n",
    "                    }\n",
    "                }\n",
    "            },\n",
    "            {\n",
    "                \"mark\": \"rule\",\n",
    "                \"encoding\": {\n",
    "                    \"x\": {\n",
    "                        \"value\": width/100 * 60\n",
    "                    },\n",
    "                    \"size\": {\n",
    "                        \"value\": 2\n",
    "                    },\n",
    "                    \"color\": {\n",
    "                        \"value\": \"#ccc\"\n",
    "                    }\n",
    "                }\n",
    "            }\n",
    "        ]\n",
    "    }, data)\n",
    "\n",
    "chart = build_grade_histogram(height, width, module_grades)\n",
    "output[\"hist\"] = chart.spec\n",
    "\n",
    "display_vg(chart.spec)"
   ]
  },
  {
   "cell_type": "code",
   "execution_count": 61,
   "metadata": {},
   "outputs": [
    {
     "data": {
      "text/plain": [
       "{'gte60': 14, 'gte70': 42, 'lte40': 10, 'median': 73.8, 'zeros': 2}"
      ]
     },
     "execution_count": 61,
     "metadata": {},
     "output_type": "execute_result"
    }
   ],
   "source": [
    "def get_grade_stats(grades):\n",
    "    stats = {}\n",
    "    stats[\"median\"] = round(grades['final_grade'].median(), 1)\n",
    "    stats[\"gte70\"] = int(grades[grades['final_grade'] >= 70]['final_grade'].count())\n",
    "    stats[\"gte60\"] = int(grades[grades['final_grade'] >= 60]['final_grade'].count() - stats[\"gte70\"])\n",
    "    stats[\"lte40\"] = int(grades[grades['final_grade'] <= 40]['final_grade'].count())\n",
    "    stats[\"zeros\"] = int(grades[grades['final_grade'] == 0]['final_grade'].count())\n",
    "\n",
    "    return stats\n",
    "\n",
    "output[\"stats\"] = get_grade_stats(module_grades)\n",
    "\n",
    "output[\"stats\"]"
   ]
  },
  {
   "cell_type": "code",
   "execution_count": 62,
   "metadata": {},
   "outputs": [
    {
     "data": {
      "text/html": [
       "<div>\n",
       "<table border=\"1\" class=\"dataframe\">\n",
       "  <thead>\n",
       "    <tr style=\"text-align: right;\">\n",
       "      <th></th>\n",
       "      <th>#01</th>\n",
       "      <th>#01_weighted</th>\n",
       "      <th>#02</th>\n",
       "      <th>#02_weighted</th>\n",
       "      <th>final_grade</th>\n",
       "      <th>average_grade</th>\n",
       "    </tr>\n",
       "    <tr>\n",
       "      <th>user</th>\n",
       "      <th></th>\n",
       "      <th></th>\n",
       "      <th></th>\n",
       "      <th></th>\n",
       "      <th></th>\n",
       "      <th></th>\n",
       "    </tr>\n",
       "  </thead>\n",
       "  <tbody>\n",
       "    <tr>\n",
       "      <th>0a628068de9c2a70f8685e318f5dbd07badc53704c8d7655949fda7415f195ec98c3a4d43e3957661f2fd0fce73b4814b58cf552cd35d1865cf6bf42f3e69565</th>\n",
       "      <td>96.0</td>\n",
       "      <td>76.8</td>\n",
       "      <td>89</td>\n",
       "      <td>17.8</td>\n",
       "      <td>94.6</td>\n",
       "      <td>94.6</td>\n",
       "    </tr>\n",
       "    <tr>\n",
       "      <th>0a6d48869596d53488f8838878198bf3caac38548d83ad7e14734297de4253f8199a814b7db1bab6091835250c7bdcc75acc14a1572f112a3967c79b1503013e</th>\n",
       "      <td>64.0</td>\n",
       "      <td>51.2</td>\n",
       "      <td>95</td>\n",
       "      <td>19.0</td>\n",
       "      <td>70.2</td>\n",
       "      <td>70.2</td>\n",
       "    </tr>\n",
       "    <tr>\n",
       "      <th>0a8e012a21baf4c32928caa65c149c2afd8a970a7a28820b215decefbe66778c28ae0af71c47544033919fb74846139140f9ec20dd5d8350cd3bcef2155391ff</th>\n",
       "      <td>85.0</td>\n",
       "      <td>68.0</td>\n",
       "      <td>83</td>\n",
       "      <td>16.6</td>\n",
       "      <td>84.6</td>\n",
       "      <td>84.6</td>\n",
       "    </tr>\n",
       "    <tr>\n",
       "      <th>18e4e11be10aaf08723ffb8f2f731ffb96d9ebdc5f38368f4b2f1e46b5f85a919d3f60d2daafcb07ead56fe24bfa63f6d13eff337a1e5f0b550c609e918bd8dc</th>\n",
       "      <td>79.0</td>\n",
       "      <td>63.2</td>\n",
       "      <td>87</td>\n",
       "      <td>17.4</td>\n",
       "      <td>80.6</td>\n",
       "      <td>80.6</td>\n",
       "    </tr>\n",
       "    <tr>\n",
       "      <th>1a70e13e29d382e20adf383c93d02fed2bf9b1855867b0d22415c983e81e7750f6da13abf1523d908362d4a5c8faff44b303f1c6b1572f0acf2013608633fc02</th>\n",
       "      <td>95.0</td>\n",
       "      <td>76.0</td>\n",
       "      <td>91</td>\n",
       "      <td>18.2</td>\n",
       "      <td>94.2</td>\n",
       "      <td>94.2</td>\n",
       "    </tr>\n",
       "  </tbody>\n",
       "</table>\n",
       "</div>"
      ],
      "text/plain": [
       "                                                     #01  #01_weighted  #02  \\\n",
       "user                                                                          \n",
       "0a628068de9c2a70f8685e318f5dbd07badc53704c8d765...  96.0          76.8   89   \n",
       "0a6d48869596d53488f8838878198bf3caac38548d83ad7...  64.0          51.2   95   \n",
       "0a8e012a21baf4c32928caa65c149c2afd8a970a7a28820...  85.0          68.0   83   \n",
       "18e4e11be10aaf08723ffb8f2f731ffb96d9ebdc5f38368...  79.0          63.2   87   \n",
       "1a70e13e29d382e20adf383c93d02fed2bf9b1855867b0d...  95.0          76.0   91   \n",
       "\n",
       "                                                    #02_weighted  final_grade  \\\n",
       "user                                                                            \n",
       "0a628068de9c2a70f8685e318f5dbd07badc53704c8d765...          17.8         94.6   \n",
       "0a6d48869596d53488f8838878198bf3caac38548d83ad7...          19.0         70.2   \n",
       "0a8e012a21baf4c32928caa65c149c2afd8a970a7a28820...          16.6         84.6   \n",
       "18e4e11be10aaf08723ffb8f2f731ffb96d9ebdc5f38368...          17.4         80.6   \n",
       "1a70e13e29d382e20adf383c93d02fed2bf9b1855867b0d...          18.2         94.2   \n",
       "\n",
       "                                                    average_grade  \n",
       "user                                                               \n",
       "0a628068de9c2a70f8685e318f5dbd07badc53704c8d765...           94.6  \n",
       "0a6d48869596d53488f8838878198bf3caac38548d83ad7...           70.2  \n",
       "0a8e012a21baf4c32928caa65c149c2afd8a970a7a28820...           84.6  \n",
       "18e4e11be10aaf08723ffb8f2f731ffb96d9ebdc5f38368...           80.6  \n",
       "1a70e13e29d382e20adf383c93d02fed2bf9b1855867b0d...           94.2  "
      ]
     },
     "execution_count": 62,
     "metadata": {},
     "output_type": "execute_result"
    }
   ],
   "source": [
    "all_grades = [get_grades(module)[\"final_grade\"] for module in modules]\n",
    "average_grades = pd.DataFrame(pd.concat(all_grades, axis=1).mean(axis=1), columns=[\"average_grade\"])\n",
    "# random averages\n",
    "# average_grades = pd.DataFrame((np.random.random_sample(module_grades.shape[0]) * 100).round(1), columns=[\"average_grade\"], index=module_grades.index)\n",
    "compare_grades = module_grades.merge(average_grades, left_index=True, right_index=True, how=\"left\")\n",
    "\n",
    "compare_grades.head()"
   ]
  },
  {
   "cell_type": "code",
   "execution_count": 79,
   "metadata": {},
   "outputs": [
    {
     "data": {
      "application/vnd.vegalite.v2+json": {
       "$schema": "https://vega.github.io/schema/vega-lite/v2.0.json",
       "data": {
        "values": [
         {
          "#01": 96,
          "#01_weighted": 76.80000000000001,
          "#02": 89,
          "#02_weighted": 17.8,
          "average_grade": 94.60000000000001,
          "final_grade": 94.60000000000001
         },
         {
          "#01": 64,
          "#01_weighted": 51.2,
          "#02": 95,
          "#02_weighted": 19,
          "average_grade": 70.2,
          "final_grade": 70.2
         },
         {
          "#01": 85,
          "#01_weighted": 68,
          "#02": 83,
          "#02_weighted": 16.6,
          "average_grade": 84.6,
          "final_grade": 84.6
         },
         {
          "#01": 79,
          "#01_weighted": 63.2,
          "#02": 87,
          "#02_weighted": 17.400000000000002,
          "average_grade": 80.60000000000001,
          "final_grade": 80.60000000000001
         },
         {
          "#01": 95,
          "#01_weighted": 76,
          "#02": 91,
          "#02_weighted": 18.2,
          "average_grade": 94.2,
          "final_grade": 94.2
         },
         {
          "#01": 19,
          "#01_weighted": 15.200000000000001,
          "#02": 73,
          "#02_weighted": 14.600000000000001,
          "average_grade": 29.800000000000004,
          "final_grade": 29.800000000000004
         },
         {
          "#01": 33,
          "#01_weighted": 26.400000000000002,
          "#02": 68,
          "#02_weighted": 13.600000000000001,
          "average_grade": 40,
          "final_grade": 40
         },
         {
          "#01": 60,
          "#01_weighted": 48,
          "#02": 62,
          "#02_weighted": 12.4,
          "average_grade": 60.4,
          "final_grade": 60.4
         },
         {
          "#01": 17,
          "#01_weighted": 13.600000000000001,
          "#02": 0,
          "#02_weighted": 0,
          "average_grade": 13.600000000000001,
          "final_grade": 13.600000000000001
         },
         {
          "#01": 100,
          "#01_weighted": 80,
          "#02": 93,
          "#02_weighted": 18.6,
          "average_grade": 98.6,
          "final_grade": 98.6
         },
         {
          "#01": 64,
          "#01_weighted": 51.2,
          "#02": 69,
          "#02_weighted": 13.8,
          "average_grade": 65,
          "final_grade": 65
         },
         {
          "#01": 58,
          "#01_weighted": 46.400000000000006,
          "#02": 82,
          "#02_weighted": 16.400000000000002,
          "average_grade": 62.80000000000001,
          "final_grade": 62.80000000000001
         },
         {
          "#01": 73,
          "#01_weighted": 58.400000000000006,
          "#02": 77,
          "#02_weighted": 15.4,
          "average_grade": 73.80000000000001,
          "final_grade": 73.80000000000001
         },
         {
          "#01": 79,
          "#01_weighted": 63.2,
          "#02": 79,
          "#02_weighted": 15.8,
          "average_grade": 79,
          "final_grade": 79
         },
         {
          "#01": 0,
          "#01_weighted": 0,
          "#02": 0,
          "#02_weighted": 0,
          "average_grade": 0,
          "final_grade": 0
         },
         {
          "#01": 93,
          "#01_weighted": 74.4,
          "#02": 90,
          "#02_weighted": 18,
          "average_grade": 92.4,
          "final_grade": 92.4
         },
         {
          "#01": 0,
          "#01_weighted": 0,
          "#02": 0,
          "#02_weighted": 0,
          "average_grade": 0,
          "final_grade": 0
         },
         {
          "#01": 90,
          "#01_weighted": 72,
          "#02": 77,
          "#02_weighted": 15.4,
          "average_grade": 87.4,
          "final_grade": 87.4
         },
         {
          "#01": 95,
          "#01_weighted": 76,
          "#02": 88,
          "#02_weighted": 17.6,
          "average_grade": 93.6,
          "final_grade": 93.6
         },
         {
          "#01": 78,
          "#01_weighted": 62.400000000000006,
          "#02": 79,
          "#02_weighted": 15.8,
          "average_grade": 78.2,
          "final_grade": 78.2
         },
         {
          "#01": 86,
          "#01_weighted": 68.8,
          "#02": 75,
          "#02_weighted": 15,
          "average_grade": 83.8,
          "final_grade": 83.8
         },
         {
          "#01": 72,
          "#01_weighted": 57.6,
          "#02": 75,
          "#02_weighted": 15,
          "average_grade": 72.6,
          "final_grade": 72.6
         },
         {
          "#01": 52,
          "#01_weighted": 41.6,
          "#02": 88,
          "#02_weighted": 17.6,
          "average_grade": 59.2,
          "final_grade": 59.2
         },
         {
          "#01": 78,
          "#01_weighted": 62.400000000000006,
          "#02": 77,
          "#02_weighted": 15.4,
          "average_grade": 77.80000000000001,
          "final_grade": 77.80000000000001
         },
         {
          "#01": 74,
          "#01_weighted": 59.2,
          "#02": 89,
          "#02_weighted": 17.8,
          "average_grade": 77,
          "final_grade": 77
         },
         {
          "#01": 84,
          "#01_weighted": 67.2,
          "#02": 77,
          "#02_weighted": 15.4,
          "average_grade": 82.60000000000001,
          "final_grade": 82.60000000000001
         },
         {
          "#01": 27,
          "#01_weighted": 21.6,
          "#02": 0,
          "#02_weighted": 0,
          "average_grade": 21.6,
          "final_grade": 21.6
         },
         {
          "#01": 93,
          "#01_weighted": 74.4,
          "#02": 88,
          "#02_weighted": 17.6,
          "average_grade": 92,
          "final_grade": 92
         },
         {
          "#01": 89,
          "#01_weighted": 71.2,
          "#02": 82,
          "#02_weighted": 16.400000000000002,
          "average_grade": 87.60000000000001,
          "final_grade": 87.60000000000001
         },
         {
          "#01": 92,
          "#01_weighted": 73.60000000000001,
          "#02": 77,
          "#02_weighted": 15.4,
          "average_grade": 89.00000000000001,
          "final_grade": 89.00000000000001
         },
         {
          "#01": 66,
          "#01_weighted": 52.800000000000004,
          "#02": 83,
          "#02_weighted": 16.6,
          "average_grade": 69.4,
          "final_grade": 69.4
         },
         {
          "#01": 76,
          "#01_weighted": 60.800000000000004,
          "#02": 88,
          "#02_weighted": 17.6,
          "average_grade": 78.4,
          "final_grade": 78.4
         },
         {
          "#01": 90,
          "#01_weighted": 72,
          "#02": 77,
          "#02_weighted": 15.4,
          "average_grade": 87.4,
          "final_grade": 87.4
         },
         {
          "#01": 57,
          "#01_weighted": 45.6,
          "#02": 65,
          "#02_weighted": 13,
          "average_grade": 58.6,
          "final_grade": 58.6
         },
         {
          "#01": 83,
          "#01_weighted": 66.4,
          "#02": 62,
          "#02_weighted": 12.4,
          "average_grade": 78.80000000000001,
          "final_grade": 78.80000000000001
         },
         {
          "#01": 78,
          "#01_weighted": 62.400000000000006,
          "#02": 82,
          "#02_weighted": 16.400000000000002,
          "average_grade": 78.80000000000001,
          "final_grade": 78.80000000000001
         },
         {
          "#01": 78,
          "#01_weighted": 62.400000000000006,
          "#02": 82,
          "#02_weighted": 16.400000000000002,
          "average_grade": 78.80000000000001,
          "final_grade": 78.80000000000001
         },
         {
          "#01": 70,
          "#01_weighted": 56,
          "#02": 84,
          "#02_weighted": 16.8,
          "average_grade": 72.8,
          "final_grade": 72.8
         },
         {
          "#01": 81,
          "#01_weighted": 64.8,
          "#02": 77,
          "#02_weighted": 15.4,
          "average_grade": 80.2,
          "final_grade": 80.2
         },
         {
          "#01": 67,
          "#01_weighted": 53.6,
          "#02": 62,
          "#02_weighted": 12.4,
          "average_grade": 66,
          "final_grade": 66
         },
         {
          "#01": 72,
          "#01_weighted": 57.6,
          "#02": 75,
          "#02_weighted": 15,
          "average_grade": 72.6,
          "final_grade": 72.6
         },
         {
          "#01": 89,
          "#01_weighted": 71.2,
          "#02": 74,
          "#02_weighted": 14.8,
          "average_grade": 86,
          "final_grade": 86
         },
         {
          "#01": 78,
          "#01_weighted": 62.400000000000006,
          "#02": 75,
          "#02_weighted": 15,
          "average_grade": 77.4,
          "final_grade": 77.4
         },
         {
          "#01": 89,
          "#01_weighted": 71.2,
          "#02": 85,
          "#02_weighted": 17,
          "average_grade": 88.2,
          "final_grade": 88.2
         },
         {
          "#01": 70,
          "#01_weighted": 56,
          "#02": 74,
          "#02_weighted": 14.8,
          "average_grade": 70.8,
          "final_grade": 70.8
         },
         {
          "#01": 63,
          "#01_weighted": 50.400000000000006,
          "#02": 77,
          "#02_weighted": 15.4,
          "average_grade": 65.80000000000001,
          "final_grade": 65.80000000000001
         },
         {
          "#01": 54,
          "#01_weighted": 43.2,
          "#02": 80,
          "#02_weighted": 16,
          "average_grade": 59.2,
          "final_grade": 59.2
         },
         {
          "#01": 66,
          "#01_weighted": 52.800000000000004,
          "#02": 75,
          "#02_weighted": 15,
          "average_grade": 67.80000000000001,
          "final_grade": 67.80000000000001
         },
         {
          "#01": 54,
          "#01_weighted": 43.2,
          "#02": 87,
          "#02_weighted": 17.400000000000002,
          "average_grade": 60.60000000000001,
          "final_grade": 60.60000000000001
         },
         {
          "#01": 65,
          "#01_weighted": 52,
          "#02": 83,
          "#02_weighted": 16.6,
          "average_grade": 68.6,
          "final_grade": 68.6
         },
         {
          "#01": 78,
          "#01_weighted": 62.400000000000006,
          "#02": 88,
          "#02_weighted": 17.6,
          "average_grade": 80,
          "final_grade": 80
         },
         {
          "#01": 72,
          "#01_weighted": 57.6,
          "#02": 69,
          "#02_weighted": 13.8,
          "average_grade": 71.4,
          "final_grade": 71.4
         },
         {
          "#01": 89,
          "#01_weighted": 71.2,
          "#02": 85,
          "#02_weighted": 17,
          "average_grade": 88.2,
          "final_grade": 88.2
         },
         {
          "#01": 29,
          "#01_weighted": 23.200000000000003,
          "#02": 76,
          "#02_weighted": 15.200000000000001,
          "average_grade": 38.400000000000006,
          "final_grade": 38.400000000000006
         },
         {
          "#01": 77,
          "#01_weighted": 61.6,
          "#02": 77,
          "#02_weighted": 15.4,
          "average_grade": 77,
          "final_grade": 77
         },
         {
          "#01": 3,
          "#01_weighted": 2.4000000000000004,
          "#02": 0,
          "#02_weighted": 0,
          "average_grade": 2.4000000000000004,
          "final_grade": 2.4000000000000004
         },
         {
          "#01": 53,
          "#01_weighted": 42.400000000000006,
          "#02": 90,
          "#02_weighted": 18,
          "average_grade": 60.400000000000006,
          "final_grade": 60.400000000000006
         },
         {
          "#01": 61,
          "#01_weighted": 48.800000000000004,
          "#02": 61,
          "#02_weighted": 12.200000000000001,
          "average_grade": 61.00000000000001,
          "final_grade": 61.00000000000001
         },
         {
          "#01": 73,
          "#01_weighted": 58.400000000000006,
          "#02": 77,
          "#02_weighted": 15.4,
          "average_grade": 73.80000000000001,
          "final_grade": 73.80000000000001
         },
         {
          "#01": 33,
          "#01_weighted": 26.400000000000002,
          "#02": 62,
          "#02_weighted": 12.4,
          "average_grade": 38.800000000000004,
          "final_grade": 38.800000000000004
         },
         {
          "#01": 3,
          "#01_weighted": 2.4000000000000004,
          "#02": 0,
          "#02_weighted": 0,
          "average_grade": 2.4000000000000004,
          "final_grade": 2.4000000000000004
         },
         {
          "#01": 55,
          "#01_weighted": 44,
          "#02": 62,
          "#02_weighted": 12.4,
          "average_grade": 56.4,
          "final_grade": 56.4
         },
         {
          "#01": 85,
          "#01_weighted": 68,
          "#02": 86,
          "#02_weighted": 17.2,
          "average_grade": 85.2,
          "final_grade": 85.2
         },
         {
          "#01": 66,
          "#01_weighted": 52.800000000000004,
          "#02": 74,
          "#02_weighted": 14.8,
          "average_grade": 67.60000000000001,
          "final_grade": 67.60000000000001
         },
         {
          "#01": 63,
          "#01_weighted": 50.400000000000006,
          "#02": 92,
          "#02_weighted": 18.400000000000002,
          "average_grade": 68.80000000000001,
          "final_grade": 68.80000000000001
         },
         {
          "#01": 96,
          "#01_weighted": 76.80000000000001,
          "#02": 85,
          "#02_weighted": 17,
          "average_grade": 93.80000000000001,
          "final_grade": 93.80000000000001
         },
         {
          "#01": 57,
          "#01_weighted": 45.6,
          "#02": 91,
          "#02_weighted": 18.2,
          "average_grade": 63.8,
          "final_grade": 63.8
         },
         {
          "#01": 92,
          "#01_weighted": 73.60000000000001,
          "#02": 89,
          "#02_weighted": 17.8,
          "average_grade": 91.4,
          "final_grade": 91.4
         },
         {
          "#01": 94,
          "#01_weighted": 75.2,
          "#02": 92,
          "#02_weighted": 18.400000000000002,
          "average_grade": 93.60000000000001,
          "final_grade": 93.60000000000001
         },
         {
          "#01": 73,
          "#01_weighted": 58.400000000000006,
          "#02": 93,
          "#02_weighted": 18.6,
          "average_grade": 77,
          "final_grade": 77
         }
        ]
       },
       "height": 400,
       "layer": [
        {
         "encoding": {
          "x": {
           "axis": {
            "title": "Average Grade"
           },
           "field": "average_grade",
           "type": "quantitative"
          },
          "y": {
           "axis": {
            "title": "Module grade"
           },
           "field": "final_grade",
           "typs": "quantitative"
          }
         },
         "mark": "circle"
        },
        {
         "encoding": {
          "color": {
           "value": "red"
          },
          "size": {
           "value": 1
          },
          "x": {
           "value": 0
          },
          "y": {
           "value": 400
          }
         },
         "mark": "rule"
        }
       ],
       "title": "Module performance comparison",
       "width": 800
      },
      "image/png": "[encoded data removed]"
     },
     "metadata": {},
     "output_type": "display_data"
    }
   ],
   "source": [
    "def build_grade_comparison_plot(height, width, data):\n",
    "    return VegaLite({\n",
    "        \"$schema\": \"https://vega.github.io/schema/vega-lite/v2.0.json\",\n",
    "        \"title\": \"Module performance comparison\",\n",
    "        \"height\": height,\n",
    "        \"width\": width,\n",
    "        \"layer\": [\n",
    "            {\n",
    "                \"mark\": \"circle\",\n",
    "                \"encoding\": {\n",
    "                    \"x\": {\n",
    "                        \"field\": \"average_grade\",\n",
    "                        \"type\": \"quantitative\",\n",
    "                        \"axis\": { \"title\": \"Average Grade\" }\n",
    "                    },\n",
    "                    \"y\": {\n",
    "                        \"field\": \"final_grade\", \n",
    "                        \"typs\": \"quantitative\",\n",
    "                        \"axis\": { \"title\": \"Module grade\" }\n",
    "                    }\n",
    "                }\n",
    "            },\n",
    "            {\n",
    "                \"mark\": \"rule\",\n",
    "                \"encoding\": {\n",
    "                    \"x\": {\n",
    "                        \"value\": 0\n",
    "                    },\n",
    "                    \"y\": {\n",
    "                        \"value\": height\n",
    "                    },\n",
    "                    \"size\": {\n",
    "                        \"value\": 1\n",
    "                    },\n",
    "                    \"color\": {\n",
    "                        \"value\": \"red\"\n",
    "                    }\n",
    "                }\n",
    "            }\n",
    "        ]\n",
    "    }, data)\n",
    "        \n",
    "chart = build_grade_comparison_plot(height, width, compare_grades)\n",
    "output[\"compare\"] = chart.spec\n",
    "\n",
    "display_vg(chart.spec)"
   ]
  },
  {
   "cell_type": "code",
   "execution_count": 80,
   "metadata": {},
   "outputs": [
    {
     "data": {
      "text/html": [
       "<div>\n",
       "<table border=\"1\" class=\"dataframe\">\n",
       "  <thead>\n",
       "    <tr style=\"text-align: right;\">\n",
       "      <th></th>\n",
       "      <th>answer</th>\n",
       "      <th>q1</th>\n",
       "      <th>q2</th>\n",
       "      <th>q3</th>\n",
       "      <th>q4</th>\n",
       "      <th>q5</th>\n",
       "      <th>q6</th>\n",
       "      <th>q7</th>\n",
       "    </tr>\n",
       "  </thead>\n",
       "  <tbody>\n",
       "    <tr>\n",
       "      <th>0</th>\n",
       "      <td>Strongly Agree</td>\n",
       "      <td>39.0</td>\n",
       "      <td>38.0</td>\n",
       "      <td>25.0</td>\n",
       "      <td>26.0</td>\n",
       "      <td>32.0</td>\n",
       "      <td>30.0</td>\n",
       "      <td>32.0</td>\n",
       "    </tr>\n",
       "    <tr>\n",
       "      <th>1</th>\n",
       "      <td>Agree</td>\n",
       "      <td>17.0</td>\n",
       "      <td>18.0</td>\n",
       "      <td>30.0</td>\n",
       "      <td>27.0</td>\n",
       "      <td>19.0</td>\n",
       "      <td>23.0</td>\n",
       "      <td>23.0</td>\n",
       "    </tr>\n",
       "    <tr>\n",
       "      <th>2</th>\n",
       "      <td>Disagree</td>\n",
       "      <td>0.0</td>\n",
       "      <td>0.0</td>\n",
       "      <td>1.0</td>\n",
       "      <td>2.0</td>\n",
       "      <td>4.0</td>\n",
       "      <td>3.0</td>\n",
       "      <td>1.0</td>\n",
       "    </tr>\n",
       "    <tr>\n",
       "      <th>3</th>\n",
       "      <td>Strongly Disagree</td>\n",
       "      <td>0.0</td>\n",
       "      <td>0.0</td>\n",
       "      <td>0.0</td>\n",
       "      <td>1.0</td>\n",
       "      <td>0.0</td>\n",
       "      <td>0.0</td>\n",
       "      <td>0.0</td>\n",
       "    </tr>\n",
       "    <tr>\n",
       "      <th>4</th>\n",
       "      <td>N/A</td>\n",
       "      <td>0.0</td>\n",
       "      <td>0.0</td>\n",
       "      <td>0.0</td>\n",
       "      <td>0.0</td>\n",
       "      <td>0.0</td>\n",
       "      <td>0.0</td>\n",
       "      <td>0.0</td>\n",
       "    </tr>\n",
       "  </tbody>\n",
       "</table>\n",
       "</div>"
      ],
      "text/plain": [
       "              answer    q1    q2    q3    q4    q5    q6    q7\n",
       "0     Strongly Agree  39.0  38.0  25.0  26.0  32.0  30.0  32.0\n",
       "1              Agree  17.0  18.0  30.0  27.0  19.0  23.0  23.0\n",
       "2           Disagree   0.0   0.0   1.0   2.0   4.0   3.0   1.0\n",
       "3  Strongly Disagree   0.0   0.0   0.0   1.0   0.0   0.0   0.0\n",
       "4                N/A   0.0   0.0   0.0   0.0   0.0   0.0   0.0"
      ]
     },
     "execution_count": 80,
     "metadata": {},
     "output_type": "execute_result"
    }
   ],
   "source": [
    "questions = [\n",
    "    \"1. Staff are good at explaining things\",\n",
    "    \"2. The module was well organised.\",\n",
    "    \"3. On this module, I have received sufficient advice and support with my studies.\",\n",
    "    \"4. The module was interesting and engaging\",\n",
    "    \"5. Practical / tutorial / workshop sessions were helpful.\",\n",
    "    \"6. Useful support materials were made available on the KLE\",\n",
    "    \"7. Overall, I am satisfied with the quality of this module. \",\n",
    "]\n",
    "answers = [\n",
    "    \"Strongly Agree\",\n",
    "    \"Agree\",\n",
    "    \"Disagree\",\n",
    "    \"Strongly Disagree\",\n",
    "    \"N/A\"\n",
    "]\n",
    "\n",
    "def get_student_feedback(module, questions, answers):\n",
    "    fb = pd.read_csv(\"../data/raw/modules/{0}/feedback.csv\".format(module))\n",
    "    fb_answers = pd.DataFrame(fb[questions])\n",
    "    fb_answers = pd.DataFrame(fb_answers.apply(pd.value_counts))\n",
    "    answers = pd.DataFrame(answers, columns=[\"answer\"])\n",
    "    answers = pd.DataFrame(answers).merge(fb_answers, left_on=\"answer\", right_index=True, how=\"left\").fillna(0)\n",
    "    answers.columns = [\"answer\"] + [\"q{0}\".format(i+1) for i in range(len(questions))]\n",
    "    \n",
    "    return answers\n",
    "\n",
    "sfb = get_student_feedback(module, questions, answers)\n",
    "\n",
    "sfb"
   ]
  },
  {
   "cell_type": "code",
   "execution_count": 87,
   "metadata": {},
   "outputs": [
    {
     "data": {
      "application/vnd.vegalite.v2+json": {
       "$schema": "https://vega.github.io/schema/vega-lite/v2.0.json",
       "data": {
        "values": [
         {
          "answer": "Strongly Agree",
          "q1": 39,
          "q2": 38,
          "q3": 25,
          "q4": 26,
          "q5": 32,
          "q6": 30,
          "q7": 32
         },
         {
          "answer": "Agree",
          "q1": 17,
          "q2": 18,
          "q3": 30,
          "q4": 27,
          "q5": 19,
          "q6": 23,
          "q7": 23
         },
         {
          "answer": "Disagree",
          "q1": 0,
          "q2": 0,
          "q3": 1,
          "q4": 2,
          "q5": 4,
          "q6": 3,
          "q7": 1
         },
         {
          "answer": "Strongly Disagree",
          "q1": 0,
          "q2": 0,
          "q3": 0,
          "q4": 1,
          "q5": 0,
          "q6": 0,
          "q7": 0
         },
         {
          "answer": "N/A",
          "q1": 0,
          "q2": 0,
          "q3": 0,
          "q4": 0,
          "q5": 0,
          "q6": 0,
          "q7": 0
         }
        ]
       },
       "encoding": {
        "color": {
         "field": "answer",
         "legend": null,
         "scale": {
          "scheme": "viridis"
         },
         "type": "nominal"
        },
        "x": {
         "axis": {
          "title": ""
         },
         "field": "answer",
         "sort": null,
         "type": "nominal"
        },
        "y": {
         "axis": {
          "title": "count"
         },
         "field": "q1",
         "type": "quantitative"
        }
       },
       "height": 400,
       "mark": "bar",
       "title": "1. Staff are good at explaining things",
       "width": 800
      },
      "image/png": "[encoded data removed]"
     },
     "metadata": {},
     "output_type": "display_data"
    }
   ],
   "source": [
    "def build_student_feedback_histogram(height, width, data, question):\n",
    "    return VegaLite({\n",
    "        \"$schema\": \"https://vega.github.io/schema/vega-lite/v2.0.json\",\n",
    "        \"title\": questions[question-1],\n",
    "        \"height\": height,\n",
    "        \"width\": width,\n",
    "        \"mark\": \"bar\",\n",
    "        \"encoding\": {\n",
    "            \"x\": {\n",
    "                \"field\": \"answer\",\n",
    "                \"type\": \"nominal\",\n",
    "                \"sort\": None,\n",
    "                \"axis\": { \"title\": \"\" }\n",
    "            },\n",
    "            \"y\": {\n",
    "                \"field\": \"q{0}\".format(question),\n",
    "                \"type\": \"quantitative\",\n",
    "                \"axis\": { \"title\": \"count\" }\n",
    "            },\n",
    "            \"color\": {\n",
    "                \"field\": \"answer\",\n",
    "                \"type\": \"nominal\",\n",
    "                \"legend\": None,\n",
    "            }\n",
    "        }\n",
    "    }, data)\n",
    "\n",
    "chart = build_student_feedback_histogram(height, width, sfb, 1)\n",
    "output[\"feedback\"] = chart.spec\n",
    "\n",
    "display_vg(chart.spec)"
   ]
  },
  {
   "cell_type": "code",
   "execution_count": 10,
   "metadata": {},
   "outputs": [],
   "source": [
    "# save_file(\"../data/generated/{0}.json\".format(module), json.dumps(output))\n",
    "# output"
   ]
  }
 ],
 "metadata": {
  "kernelspec": {
   "display_name": "Python 3",
   "language": "python",
   "name": "python3"
  },
  "language_info": {
   "codemirror_mode": {
    "name": "ipython",
    "version": 3
   },
   "file_extension": ".py",
   "mimetype": "text/x-python",
   "name": "python",
   "nbconvert_exporter": "python",
   "pygments_lexer": "ipython3",
   "version": "3.6.3"
  }
 },
 "nbformat": 4,
 "nbformat_minor": 2
}
