{
 "cells": [
  {
   "cell_type": "code",
   "execution_count": 1,
   "metadata": {},
   "outputs": [],
   "source": [
    "import pandas as pd\n",
    "import numpy as np\n",
    "import os\n",
    "import json\n",
    "import re\n",
    "from hashlib import sha512\n",
    "from vega import VegaLite\n",
    "from wordcloud import WordCloud\n",
    "from IPython.display import display\n",
    "\n",
    "def display_vg(spec):\n",
    "    bundle = {}\n",
    "    bundle['application/vnd.vegalite.v2+json'] = spec\n",
    "    display(bundle, raw=True)\n",
    "    \n",
    "def mkdir(directory):\n",
    "    \"\"\"\n",
    "    :param string directory: \n",
    "    :return: \n",
    "    \"\"\"\n",
    "    try:\n",
    "        os.mkdir(directory)\n",
    "    except FileExistsError:\n",
    "        pass\n",
    "    \n",
    "def save_file(file_name, data):\n",
    "    with open(file_name, \"w\") as f:\n",
    "        f.write(data)\n",
    "        "
   ]
  },
  {
   "cell_type": "code",
   "execution_count": 2,
   "metadata": {},
   "outputs": [],
   "source": [
    "mkdir(\"../data/generated/\")\n",
    "mkdir(\"../data/generated/images\")"
   ]
  },
  {
   "cell_type": "code",
   "execution_count": 3,
   "metadata": {},
   "outputs": [
    {
     "data": {
      "text/plain": [
       "['MAT-10044', 'MAT-30023']"
      ]
     },
     "execution_count": 3,
     "metadata": {},
     "output_type": "execute_result"
    }
   ],
   "source": [
    "def get_modules(root):\n",
    "    modules = [item for item in os.listdir(root) if os.path.isdir(os.path.join(root, item))]\n",
    "    \n",
    "    return modules\n",
    "\n",
    "modules = get_modules(\"../data/raw/modules\")\n",
    "\n",
    "modules"
   ]
  },
  {
   "cell_type": "code",
   "execution_count": 21,
   "metadata": {},
   "outputs": [
    {
     "name": "stdout",
     "output_type": "stream",
     "text": [
      "MAT-10044\n"
     ]
    },
    {
     "data": {
      "text/html": [
       "<div>\n",
       "<table border=\"1\" class=\"dataframe\">\n",
       "  <thead>\n",
       "    <tr style=\"text-align: right;\">\n",
       "      <th></th>\n",
       "      <th>#01</th>\n",
       "      <th>#01_weighted</th>\n",
       "      <th>#02</th>\n",
       "      <th>#02_weighted</th>\n",
       "      <th>final_grade</th>\n",
       "    </tr>\n",
       "    <tr>\n",
       "      <th>user</th>\n",
       "      <th></th>\n",
       "      <th></th>\n",
       "      <th></th>\n",
       "      <th></th>\n",
       "      <th></th>\n",
       "    </tr>\n",
       "  </thead>\n",
       "  <tbody>\n",
       "    <tr>\n",
       "      <th>0a628068de9c2a70f8685e318f5dbd07badc53704c8d7655949fda7415f195ec98c3a4d43e3957661f2fd0fce73b4814b58cf552cd35d1865cf6bf42f3e69565</th>\n",
       "      <td>96.0</td>\n",
       "      <td>76.8</td>\n",
       "      <td>89</td>\n",
       "      <td>17.8</td>\n",
       "      <td>94.6</td>\n",
       "    </tr>\n",
       "    <tr>\n",
       "      <th>0a6d48869596d53488f8838878198bf3caac38548d83ad7e14734297de4253f8199a814b7db1bab6091835250c7bdcc75acc14a1572f112a3967c79b1503013e</th>\n",
       "      <td>64.0</td>\n",
       "      <td>51.2</td>\n",
       "      <td>95</td>\n",
       "      <td>19.0</td>\n",
       "      <td>70.2</td>\n",
       "    </tr>\n",
       "    <tr>\n",
       "      <th>0a8e012a21baf4c32928caa65c149c2afd8a970a7a28820b215decefbe66778c28ae0af71c47544033919fb74846139140f9ec20dd5d8350cd3bcef2155391ff</th>\n",
       "      <td>85.0</td>\n",
       "      <td>68.0</td>\n",
       "      <td>83</td>\n",
       "      <td>16.6</td>\n",
       "      <td>84.6</td>\n",
       "    </tr>\n",
       "    <tr>\n",
       "      <th>18e4e11be10aaf08723ffb8f2f731ffb96d9ebdc5f38368f4b2f1e46b5f85a919d3f60d2daafcb07ead56fe24bfa63f6d13eff337a1e5f0b550c609e918bd8dc</th>\n",
       "      <td>79.0</td>\n",
       "      <td>63.2</td>\n",
       "      <td>87</td>\n",
       "      <td>17.4</td>\n",
       "      <td>80.6</td>\n",
       "    </tr>\n",
       "    <tr>\n",
       "      <th>1a70e13e29d382e20adf383c93d02fed2bf9b1855867b0d22415c983e81e7750f6da13abf1523d908362d4a5c8faff44b303f1c6b1572f0acf2013608633fc02</th>\n",
       "      <td>95.0</td>\n",
       "      <td>76.0</td>\n",
       "      <td>91</td>\n",
       "      <td>18.2</td>\n",
       "      <td>94.2</td>\n",
       "    </tr>\n",
       "  </tbody>\n",
       "</table>\n",
       "</div>"
      ],
      "text/plain": [
       "                                                     #01  #01_weighted  #02  \\\n",
       "user                                                                          \n",
       "0a628068de9c2a70f8685e318f5dbd07badc53704c8d765...  96.0          76.8   89   \n",
       "0a6d48869596d53488f8838878198bf3caac38548d83ad7...  64.0          51.2   95   \n",
       "0a8e012a21baf4c32928caa65c149c2afd8a970a7a28820...  85.0          68.0   83   \n",
       "18e4e11be10aaf08723ffb8f2f731ffb96d9ebdc5f38368...  79.0          63.2   87   \n",
       "1a70e13e29d382e20adf383c93d02fed2bf9b1855867b0d...  95.0          76.0   91   \n",
       "\n",
       "                                                    #02_weighted  final_grade  \n",
       "user                                                                           \n",
       "0a628068de9c2a70f8685e318f5dbd07badc53704c8d765...          17.8         94.6  \n",
       "0a6d48869596d53488f8838878198bf3caac38548d83ad7...          19.0         70.2  \n",
       "0a8e012a21baf4c32928caa65c149c2afd8a970a7a28820...          16.6         84.6  \n",
       "18e4e11be10aaf08723ffb8f2f731ffb96d9ebdc5f38368...          17.4         80.6  \n",
       "1a70e13e29d382e20adf383c93d02fed2bf9b1855867b0d...          18.2         94.2  "
      ]
     },
     "execution_count": 21,
     "metadata": {},
     "output_type": "execute_result"
    }
   ],
   "source": [
    "module = modules[0]\n",
    "print(module)\n",
    "mkdir(\"../data/generated/images/{0}\".format(module))\n",
    "\n",
    "output = {}\n",
    "output[\"module_code\"] = module\n",
    "\n",
    "def get_grades(module):\n",
    "    file = '../data/raw/modules/{0}/grades.csv'.format(module)\n",
    "    with open(file, \"r\") as f:\n",
    "        fline = f.readline()\n",
    "        assessment_weights = [int(weight)/100 for weight in re.findall(r\"\\((.*?)%\\)\", fline)]\n",
    "        \n",
    "    grades = pd.read_csv(file, skiprows=[0])\n",
    "    grades = grades[['#Ass#', 'Mark', '#Cand Key']]\n",
    "    grades.columns = ['ass', 'grade', 'user']\n",
    "    grades['user'] = grades['user'].str.replace(r'#|/[0-9]', '').apply(lambda u: sha512(u.encode('utf-8')).hexdigest())\n",
    "    grades = grades.set_index('user')\n",
    "\n",
    "    assessments = grades['ass'].unique()\n",
    "    module_grades = pd.DataFrame([], index=grades.index.unique())\n",
    "\n",
    "    for k, ass in enumerate(assessments):\n",
    "        assessment_grades = grades[grades['ass'] == ass]['grade'].to_frame()\n",
    "        assessment_grades.columns = [ass]\n",
    "        assessment_grades['{0}_weighted'.format(ass)] = assessment_grades[ass] * assessment_weights[k]\n",
    "        module_grades = module_grades.merge(assessment_grades, left_index=True, right_index=True, how=\"outer\")\n",
    "\n",
    "    module_grades = module_grades.fillna(0)\n",
    "    module_grades['final_grade'] = module_grades.filter(regex=\"_weighted\").sum(axis=1)\n",
    "    \n",
    "    return module_grades\n",
    "\n",
    "def get_year_and_semester(module):\n",
    "    file = '../data/raw/modules/{0}/grades.csv'.format(module)\n",
    "    grades = pd.read_csv(file, skiprows=[0])\n",
    "    \n",
    "    return (grades.iloc[0]['Year'], grades.iloc[0]['Period'])\n",
    "\n",
    "year, semester = get_year_and_semester(module)\n",
    "output[\"year\"] = year\n",
    "output[\"semester\"] = re.sub(r\"SEM\", \"\", semester)\n",
    "module_grades = get_grades(module)\n",
    "\n",
    "output[\"num_students\"] = module_grades.shape[0]\n",
    "module_grades.head()"
   ]
  },
  {
   "cell_type": "code",
   "execution_count": 22,
   "metadata": {},
   "outputs": [
    {
     "data": {
      "application/vnd.vegalite.v2+json": {
       "$schema": "https://vega.github.io/schema/vega-lite/v2.0.json",
       "data": {
        "values": [
         {
          "#01": 96,
          "#01_weighted": 76.80000000000001,
          "#02": 89,
          "#02_weighted": 17.8,
          "final_grade": 94.60000000000001
         },
         {
          "#01": 64,
          "#01_weighted": 51.2,
          "#02": 95,
          "#02_weighted": 19,
          "final_grade": 70.2
         },
         {
          "#01": 85,
          "#01_weighted": 68,
          "#02": 83,
          "#02_weighted": 16.6,
          "final_grade": 84.6
         },
         {
          "#01": 79,
          "#01_weighted": 63.2,
          "#02": 87,
          "#02_weighted": 17.400000000000002,
          "final_grade": 80.60000000000001
         },
         {
          "#01": 95,
          "#01_weighted": 76,
          "#02": 91,
          "#02_weighted": 18.2,
          "final_grade": 94.2
         },
         {
          "#01": 19,
          "#01_weighted": 15.200000000000001,
          "#02": 73,
          "#02_weighted": 14.600000000000001,
          "final_grade": 29.800000000000004
         },
         {
          "#01": 33,
          "#01_weighted": 26.400000000000002,
          "#02": 68,
          "#02_weighted": 13.600000000000001,
          "final_grade": 40
         },
         {
          "#01": 60,
          "#01_weighted": 48,
          "#02": 62,
          "#02_weighted": 12.4,
          "final_grade": 60.4
         },
         {
          "#01": 17,
          "#01_weighted": 13.600000000000001,
          "#02": 0,
          "#02_weighted": 0,
          "final_grade": 13.600000000000001
         },
         {
          "#01": 100,
          "#01_weighted": 80,
          "#02": 93,
          "#02_weighted": 18.6,
          "final_grade": 98.6
         },
         {
          "#01": 64,
          "#01_weighted": 51.2,
          "#02": 69,
          "#02_weighted": 13.8,
          "final_grade": 65
         },
         {
          "#01": 58,
          "#01_weighted": 46.400000000000006,
          "#02": 82,
          "#02_weighted": 16.400000000000002,
          "final_grade": 62.80000000000001
         },
         {
          "#01": 73,
          "#01_weighted": 58.400000000000006,
          "#02": 77,
          "#02_weighted": 15.4,
          "final_grade": 73.80000000000001
         },
         {
          "#01": 79,
          "#01_weighted": 63.2,
          "#02": 79,
          "#02_weighted": 15.8,
          "final_grade": 79
         },
         {
          "#01": 0,
          "#01_weighted": 0,
          "#02": 0,
          "#02_weighted": 0,
          "final_grade": 0
         },
         {
          "#01": 93,
          "#01_weighted": 74.4,
          "#02": 90,
          "#02_weighted": 18,
          "final_grade": 92.4
         },
         {
          "#01": 0,
          "#01_weighted": 0,
          "#02": 0,
          "#02_weighted": 0,
          "final_grade": 0
         },
         {
          "#01": 90,
          "#01_weighted": 72,
          "#02": 77,
          "#02_weighted": 15.4,
          "final_grade": 87.4
         },
         {
          "#01": 95,
          "#01_weighted": 76,
          "#02": 88,
          "#02_weighted": 17.6,
          "final_grade": 93.6
         },
         {
          "#01": 78,
          "#01_weighted": 62.400000000000006,
          "#02": 79,
          "#02_weighted": 15.8,
          "final_grade": 78.2
         },
         {
          "#01": 86,
          "#01_weighted": 68.8,
          "#02": 75,
          "#02_weighted": 15,
          "final_grade": 83.8
         },
         {
          "#01": 72,
          "#01_weighted": 57.6,
          "#02": 75,
          "#02_weighted": 15,
          "final_grade": 72.6
         },
         {
          "#01": 52,
          "#01_weighted": 41.6,
          "#02": 88,
          "#02_weighted": 17.6,
          "final_grade": 59.2
         },
         {
          "#01": 78,
          "#01_weighted": 62.400000000000006,
          "#02": 77,
          "#02_weighted": 15.4,
          "final_grade": 77.80000000000001
         },
         {
          "#01": 74,
          "#01_weighted": 59.2,
          "#02": 89,
          "#02_weighted": 17.8,
          "final_grade": 77
         },
         {
          "#01": 84,
          "#01_weighted": 67.2,
          "#02": 77,
          "#02_weighted": 15.4,
          "final_grade": 82.60000000000001
         },
         {
          "#01": 27,
          "#01_weighted": 21.6,
          "#02": 0,
          "#02_weighted": 0,
          "final_grade": 21.6
         },
         {
          "#01": 93,
          "#01_weighted": 74.4,
          "#02": 88,
          "#02_weighted": 17.6,
          "final_grade": 92
         },
         {
          "#01": 89,
          "#01_weighted": 71.2,
          "#02": 82,
          "#02_weighted": 16.400000000000002,
          "final_grade": 87.60000000000001
         },
         {
          "#01": 92,
          "#01_weighted": 73.60000000000001,
          "#02": 77,
          "#02_weighted": 15.4,
          "final_grade": 89.00000000000001
         },
         {
          "#01": 66,
          "#01_weighted": 52.800000000000004,
          "#02": 83,
          "#02_weighted": 16.6,
          "final_grade": 69.4
         },
         {
          "#01": 76,
          "#01_weighted": 60.800000000000004,
          "#02": 88,
          "#02_weighted": 17.6,
          "final_grade": 78.4
         },
         {
          "#01": 90,
          "#01_weighted": 72,
          "#02": 77,
          "#02_weighted": 15.4,
          "final_grade": 87.4
         },
         {
          "#01": 57,
          "#01_weighted": 45.6,
          "#02": 65,
          "#02_weighted": 13,
          "final_grade": 58.6
         },
         {
          "#01": 83,
          "#01_weighted": 66.4,
          "#02": 62,
          "#02_weighted": 12.4,
          "final_grade": 78.80000000000001
         },
         {
          "#01": 78,
          "#01_weighted": 62.400000000000006,
          "#02": 82,
          "#02_weighted": 16.400000000000002,
          "final_grade": 78.80000000000001
         },
         {
          "#01": 78,
          "#01_weighted": 62.400000000000006,
          "#02": 82,
          "#02_weighted": 16.400000000000002,
          "final_grade": 78.80000000000001
         },
         {
          "#01": 70,
          "#01_weighted": 56,
          "#02": 84,
          "#02_weighted": 16.8,
          "final_grade": 72.8
         },
         {
          "#01": 81,
          "#01_weighted": 64.8,
          "#02": 77,
          "#02_weighted": 15.4,
          "final_grade": 80.2
         },
         {
          "#01": 67,
          "#01_weighted": 53.6,
          "#02": 62,
          "#02_weighted": 12.4,
          "final_grade": 66
         },
         {
          "#01": 72,
          "#01_weighted": 57.6,
          "#02": 75,
          "#02_weighted": 15,
          "final_grade": 72.6
         },
         {
          "#01": 89,
          "#01_weighted": 71.2,
          "#02": 74,
          "#02_weighted": 14.8,
          "final_grade": 86
         },
         {
          "#01": 78,
          "#01_weighted": 62.400000000000006,
          "#02": 75,
          "#02_weighted": 15,
          "final_grade": 77.4
         },
         {
          "#01": 89,
          "#01_weighted": 71.2,
          "#02": 85,
          "#02_weighted": 17,
          "final_grade": 88.2
         },
         {
          "#01": 70,
          "#01_weighted": 56,
          "#02": 74,
          "#02_weighted": 14.8,
          "final_grade": 70.8
         },
         {
          "#01": 63,
          "#01_weighted": 50.400000000000006,
          "#02": 77,
          "#02_weighted": 15.4,
          "final_grade": 65.80000000000001
         },
         {
          "#01": 54,
          "#01_weighted": 43.2,
          "#02": 80,
          "#02_weighted": 16,
          "final_grade": 59.2
         },
         {
          "#01": 66,
          "#01_weighted": 52.800000000000004,
          "#02": 75,
          "#02_weighted": 15,
          "final_grade": 67.80000000000001
         },
         {
          "#01": 54,
          "#01_weighted": 43.2,
          "#02": 87,
          "#02_weighted": 17.400000000000002,
          "final_grade": 60.60000000000001
         },
         {
          "#01": 65,
          "#01_weighted": 52,
          "#02": 83,
          "#02_weighted": 16.6,
          "final_grade": 68.6
         },
         {
          "#01": 78,
          "#01_weighted": 62.400000000000006,
          "#02": 88,
          "#02_weighted": 17.6,
          "final_grade": 80
         },
         {
          "#01": 72,
          "#01_weighted": 57.6,
          "#02": 69,
          "#02_weighted": 13.8,
          "final_grade": 71.4
         },
         {
          "#01": 89,
          "#01_weighted": 71.2,
          "#02": 85,
          "#02_weighted": 17,
          "final_grade": 88.2
         },
         {
          "#01": 29,
          "#01_weighted": 23.200000000000003,
          "#02": 76,
          "#02_weighted": 15.200000000000001,
          "final_grade": 38.400000000000006
         },
         {
          "#01": 77,
          "#01_weighted": 61.6,
          "#02": 77,
          "#02_weighted": 15.4,
          "final_grade": 77
         },
         {
          "#01": 3,
          "#01_weighted": 2.4000000000000004,
          "#02": 0,
          "#02_weighted": 0,
          "final_grade": 2.4000000000000004
         },
         {
          "#01": 53,
          "#01_weighted": 42.400000000000006,
          "#02": 90,
          "#02_weighted": 18,
          "final_grade": 60.400000000000006
         },
         {
          "#01": 61,
          "#01_weighted": 48.800000000000004,
          "#02": 61,
          "#02_weighted": 12.200000000000001,
          "final_grade": 61.00000000000001
         },
         {
          "#01": 73,
          "#01_weighted": 58.400000000000006,
          "#02": 77,
          "#02_weighted": 15.4,
          "final_grade": 73.80000000000001
         },
         {
          "#01": 33,
          "#01_weighted": 26.400000000000002,
          "#02": 62,
          "#02_weighted": 12.4,
          "final_grade": 38.800000000000004
         },
         {
          "#01": 3,
          "#01_weighted": 2.4000000000000004,
          "#02": 0,
          "#02_weighted": 0,
          "final_grade": 2.4000000000000004
         },
         {
          "#01": 55,
          "#01_weighted": 44,
          "#02": 62,
          "#02_weighted": 12.4,
          "final_grade": 56.4
         },
         {
          "#01": 85,
          "#01_weighted": 68,
          "#02": 86,
          "#02_weighted": 17.2,
          "final_grade": 85.2
         },
         {
          "#01": 66,
          "#01_weighted": 52.800000000000004,
          "#02": 74,
          "#02_weighted": 14.8,
          "final_grade": 67.60000000000001
         },
         {
          "#01": 63,
          "#01_weighted": 50.400000000000006,
          "#02": 92,
          "#02_weighted": 18.400000000000002,
          "final_grade": 68.80000000000001
         },
         {
          "#01": 96,
          "#01_weighted": 76.80000000000001,
          "#02": 85,
          "#02_weighted": 17,
          "final_grade": 93.80000000000001
         },
         {
          "#01": 57,
          "#01_weighted": 45.6,
          "#02": 91,
          "#02_weighted": 18.2,
          "final_grade": 63.8
         },
         {
          "#01": 92,
          "#01_weighted": 73.60000000000001,
          "#02": 89,
          "#02_weighted": 17.8,
          "final_grade": 91.4
         },
         {
          "#01": 94,
          "#01_weighted": 75.2,
          "#02": 92,
          "#02_weighted": 18.400000000000002,
          "final_grade": 93.60000000000001
         },
         {
          "#01": 73,
          "#01_weighted": 58.400000000000006,
          "#02": 93,
          "#02_weighted": 18.6,
          "final_grade": 77
         }
        ]
       },
       "height": 400,
       "layer": [
        {
         "encoding": {
          "color": {
           "bin": {
            "step": 10
           },
           "field": "final_grade",
           "legend": null,
           "type": "quantitative"
          },
          "x": {
           "axis": {
            "title": "Grade"
           },
           "bin": {
            "step": 10
           },
           "field": "final_grade",
           "type": "quantitative"
          },
          "y": {
           "aggregate": "count",
           "axis": {
            "title": "Number of students"
           },
           "type": "quantitative"
          }
         },
         "mark": "bar"
        },
        {
         "encoding": {
          "color": {
           "value": "#ccc"
          },
          "size": {
           "value": 2
          },
          "x": {
           "value": 320
          }
         },
         "mark": "rule"
        },
        {
         "encoding": {
          "color": {
           "value": "#ccc"
          },
          "size": {
           "value": 2
          },
          "x": {
           "value": 480
          }
         },
         "mark": "rule"
        }
       ],
       "title": "Module attainment histogram",
       "width": 800
      },
      "image/png": "[encoded data removed]"
     },
     "metadata": {},
     "output_type": "display_data"
    }
   ],
   "source": [
    "height = 400\n",
    "width = 800\n",
    "\n",
    "def build_grade_histogram(height, width, data):\n",
    "    return VegaLite({\n",
    "        \"$schema\": \"https://vega.github.io/schema/vega-lite/v2.0.json\",\n",
    "        \"title\": \"Module attainment histogram\",\n",
    "        \"height\": height,\n",
    "        \"width\": width,\n",
    "        \"layer\": [\n",
    "            {\n",
    "                \"mark\": \"bar\",\n",
    "                \"encoding\": {\n",
    "                    \"x\": {\n",
    "                        \"bin\": { \"step\": 10 },\n",
    "                        \"field\": \"final_grade\",\n",
    "                        \"type\": \"quantitative\",\n",
    "                        \"axis\": { \"title\": \"Grade\" }\n",
    "                    },\n",
    "                    \"y\": {\n",
    "                        \"aggregate\": \"count\",\n",
    "                        \"type\": \"quantitative\",\n",
    "                        \"axis\": { \"title\": \"Number of students\" }\n",
    "                    },\n",
    "                    \"color\": {\n",
    "                        \"bin\": { \"step\": 10 },\n",
    "                        \"field\": \"final_grade\",\n",
    "                        \"type\": \"quantitative\",\n",
    "                        \"legend\": None\n",
    "                    }\n",
    "                }\n",
    "            },\n",
    "            {\n",
    "                \"mark\": \"rule\",\n",
    "                \"encoding\": {\n",
    "                    \"x\": {\n",
    "                        \"value\": width/100 * 40\n",
    "                    },\n",
    "                    \"size\": {\n",
    "                        \"value\": 2\n",
    "                    },\n",
    "                    \"color\": {\n",
    "                        \"value\": \"#ccc\"\n",
    "                    }\n",
    "                }\n",
    "            },\n",
    "            {\n",
    "                \"mark\": \"rule\",\n",
    "                \"encoding\": {\n",
    "                    \"x\": {\n",
    "                        \"value\": width/100 * 60\n",
    "                    },\n",
    "                    \"size\": {\n",
    "                        \"value\": 2\n",
    "                    },\n",
    "                    \"color\": {\n",
    "                        \"value\": \"#ccc\"\n",
    "                    }\n",
    "                }\n",
    "            }\n",
    "        ]\n",
    "    }, data)\n",
    "\n",
    "chart = build_grade_histogram(height, width, module_grades)\n",
    "output[\"hist\"] = chart.spec\n",
    "\n",
    "display_vg(chart.spec)"
   ]
  },
  {
   "cell_type": "code",
   "execution_count": 23,
   "metadata": {},
   "outputs": [
    {
     "data": {
      "text/plain": [
       "{'gte60': 14, 'gte70': 42, 'lte40': 10, 'median': 73.8, 'zeros': 2}"
      ]
     },
     "execution_count": 23,
     "metadata": {},
     "output_type": "execute_result"
    }
   ],
   "source": [
    "def get_grade_stats(grades):\n",
    "    stats = {}\n",
    "    stats[\"median\"] = round(grades['final_grade'].median(), 1)\n",
    "    stats[\"gte70\"] = int(grades[grades['final_grade'] >= 70]['final_grade'].count())\n",
    "    stats[\"gte60\"] = int(grades[grades['final_grade'] >= 60]['final_grade'].count() - stats[\"gte70\"])\n",
    "    stats[\"lte40\"] = int(grades[grades['final_grade'] <= 40]['final_grade'].count())\n",
    "    stats[\"zeros\"] = int(grades[grades['final_grade'] == 0]['final_grade'].count())\n",
    "\n",
    "    return stats\n",
    "\n",
    "output[\"stats\"] = get_grade_stats(module_grades)\n",
    "\n",
    "output[\"stats\"]"
   ]
  },
  {
   "cell_type": "code",
   "execution_count": 24,
   "metadata": {},
   "outputs": [
    {
     "data": {
      "text/html": [
       "<div>\n",
       "<table border=\"1\" class=\"dataframe\">\n",
       "  <thead>\n",
       "    <tr style=\"text-align: right;\">\n",
       "      <th></th>\n",
       "      <th>#01</th>\n",
       "      <th>#01_weighted</th>\n",
       "      <th>#02</th>\n",
       "      <th>#02_weighted</th>\n",
       "      <th>final_grade</th>\n",
       "      <th>average_grade</th>\n",
       "    </tr>\n",
       "    <tr>\n",
       "      <th>user</th>\n",
       "      <th></th>\n",
       "      <th></th>\n",
       "      <th></th>\n",
       "      <th></th>\n",
       "      <th></th>\n",
       "      <th></th>\n",
       "    </tr>\n",
       "  </thead>\n",
       "  <tbody>\n",
       "    <tr>\n",
       "      <th>0a628068de9c2a70f8685e318f5dbd07badc53704c8d7655949fda7415f195ec98c3a4d43e3957661f2fd0fce73b4814b58cf552cd35d1865cf6bf42f3e69565</th>\n",
       "      <td>96.0</td>\n",
       "      <td>76.8</td>\n",
       "      <td>89</td>\n",
       "      <td>17.8</td>\n",
       "      <td>94.6</td>\n",
       "      <td>94.6</td>\n",
       "    </tr>\n",
       "    <tr>\n",
       "      <th>0a6d48869596d53488f8838878198bf3caac38548d83ad7e14734297de4253f8199a814b7db1bab6091835250c7bdcc75acc14a1572f112a3967c79b1503013e</th>\n",
       "      <td>64.0</td>\n",
       "      <td>51.2</td>\n",
       "      <td>95</td>\n",
       "      <td>19.0</td>\n",
       "      <td>70.2</td>\n",
       "      <td>70.2</td>\n",
       "    </tr>\n",
       "    <tr>\n",
       "      <th>0a8e012a21baf4c32928caa65c149c2afd8a970a7a28820b215decefbe66778c28ae0af71c47544033919fb74846139140f9ec20dd5d8350cd3bcef2155391ff</th>\n",
       "      <td>85.0</td>\n",
       "      <td>68.0</td>\n",
       "      <td>83</td>\n",
       "      <td>16.6</td>\n",
       "      <td>84.6</td>\n",
       "      <td>84.6</td>\n",
       "    </tr>\n",
       "    <tr>\n",
       "      <th>18e4e11be10aaf08723ffb8f2f731ffb96d9ebdc5f38368f4b2f1e46b5f85a919d3f60d2daafcb07ead56fe24bfa63f6d13eff337a1e5f0b550c609e918bd8dc</th>\n",
       "      <td>79.0</td>\n",
       "      <td>63.2</td>\n",
       "      <td>87</td>\n",
       "      <td>17.4</td>\n",
       "      <td>80.6</td>\n",
       "      <td>80.6</td>\n",
       "    </tr>\n",
       "    <tr>\n",
       "      <th>1a70e13e29d382e20adf383c93d02fed2bf9b1855867b0d22415c983e81e7750f6da13abf1523d908362d4a5c8faff44b303f1c6b1572f0acf2013608633fc02</th>\n",
       "      <td>95.0</td>\n",
       "      <td>76.0</td>\n",
       "      <td>91</td>\n",
       "      <td>18.2</td>\n",
       "      <td>94.2</td>\n",
       "      <td>94.2</td>\n",
       "    </tr>\n",
       "  </tbody>\n",
       "</table>\n",
       "</div>"
      ],
      "text/plain": [
       "                                                     #01  #01_weighted  #02  \\\n",
       "user                                                                          \n",
       "0a628068de9c2a70f8685e318f5dbd07badc53704c8d765...  96.0          76.8   89   \n",
       "0a6d48869596d53488f8838878198bf3caac38548d83ad7...  64.0          51.2   95   \n",
       "0a8e012a21baf4c32928caa65c149c2afd8a970a7a28820...  85.0          68.0   83   \n",
       "18e4e11be10aaf08723ffb8f2f731ffb96d9ebdc5f38368...  79.0          63.2   87   \n",
       "1a70e13e29d382e20adf383c93d02fed2bf9b1855867b0d...  95.0          76.0   91   \n",
       "\n",
       "                                                    #02_weighted  final_grade  \\\n",
       "user                                                                            \n",
       "0a628068de9c2a70f8685e318f5dbd07badc53704c8d765...          17.8         94.6   \n",
       "0a6d48869596d53488f8838878198bf3caac38548d83ad7...          19.0         70.2   \n",
       "0a8e012a21baf4c32928caa65c149c2afd8a970a7a28820...          16.6         84.6   \n",
       "18e4e11be10aaf08723ffb8f2f731ffb96d9ebdc5f38368...          17.4         80.6   \n",
       "1a70e13e29d382e20adf383c93d02fed2bf9b1855867b0d...          18.2         94.2   \n",
       "\n",
       "                                                    average_grade  \n",
       "user                                                               \n",
       "0a628068de9c2a70f8685e318f5dbd07badc53704c8d765...           94.6  \n",
       "0a6d48869596d53488f8838878198bf3caac38548d83ad7...           70.2  \n",
       "0a8e012a21baf4c32928caa65c149c2afd8a970a7a28820...           84.6  \n",
       "18e4e11be10aaf08723ffb8f2f731ffb96d9ebdc5f38368...           80.6  \n",
       "1a70e13e29d382e20adf383c93d02fed2bf9b1855867b0d...           94.2  "
      ]
     },
     "execution_count": 24,
     "metadata": {},
     "output_type": "execute_result"
    }
   ],
   "source": [
    "all_grades = [get_grades(module)[\"final_grade\"] for module in modules]\n",
    "average_grades = pd.DataFrame(pd.concat(all_grades, axis=1).mean(axis=1), columns=[\"average_grade\"])\n",
    "# random averages\n",
    "# average_grades = pd.DataFrame((np.random.random_sample(module_grades.shape[0]) * 100).round(1), columns=[\"average_grade\"], index=module_grades.index)\n",
    "compare_grades = module_grades.merge(average_grades, left_index=True, right_index=True, how=\"left\")\n",
    "\n",
    "compare_grades.head()"
   ]
  },
  {
   "cell_type": "code",
   "execution_count": 25,
   "metadata": {},
   "outputs": [
    {
     "data": {
      "application/vnd.vegalite.v2+json": {
       "$schema": "https://vega.github.io/schema/vega-lite/v2.0.json",
       "data": {
        "values": [
         {
          "#01": 96,
          "#01_weighted": 76.80000000000001,
          "#02": 89,
          "#02_weighted": 17.8,
          "average_grade": 94.60000000000001,
          "final_grade": 94.60000000000001
         },
         {
          "#01": 64,
          "#01_weighted": 51.2,
          "#02": 95,
          "#02_weighted": 19,
          "average_grade": 70.2,
          "final_grade": 70.2
         },
         {
          "#01": 85,
          "#01_weighted": 68,
          "#02": 83,
          "#02_weighted": 16.6,
          "average_grade": 84.6,
          "final_grade": 84.6
         },
         {
          "#01": 79,
          "#01_weighted": 63.2,
          "#02": 87,
          "#02_weighted": 17.400000000000002,
          "average_grade": 80.60000000000001,
          "final_grade": 80.60000000000001
         },
         {
          "#01": 95,
          "#01_weighted": 76,
          "#02": 91,
          "#02_weighted": 18.2,
          "average_grade": 94.2,
          "final_grade": 94.2
         },
         {
          "#01": 19,
          "#01_weighted": 15.200000000000001,
          "#02": 73,
          "#02_weighted": 14.600000000000001,
          "average_grade": 29.800000000000004,
          "final_grade": 29.800000000000004
         },
         {
          "#01": 33,
          "#01_weighted": 26.400000000000002,
          "#02": 68,
          "#02_weighted": 13.600000000000001,
          "average_grade": 40,
          "final_grade": 40
         },
         {
          "#01": 60,
          "#01_weighted": 48,
          "#02": 62,
          "#02_weighted": 12.4,
          "average_grade": 60.4,
          "final_grade": 60.4
         },
         {
          "#01": 17,
          "#01_weighted": 13.600000000000001,
          "#02": 0,
          "#02_weighted": 0,
          "average_grade": 13.600000000000001,
          "final_grade": 13.600000000000001
         },
         {
          "#01": 100,
          "#01_weighted": 80,
          "#02": 93,
          "#02_weighted": 18.6,
          "average_grade": 98.6,
          "final_grade": 98.6
         },
         {
          "#01": 64,
          "#01_weighted": 51.2,
          "#02": 69,
          "#02_weighted": 13.8,
          "average_grade": 65,
          "final_grade": 65
         },
         {
          "#01": 58,
          "#01_weighted": 46.400000000000006,
          "#02": 82,
          "#02_weighted": 16.400000000000002,
          "average_grade": 62.80000000000001,
          "final_grade": 62.80000000000001
         },
         {
          "#01": 73,
          "#01_weighted": 58.400000000000006,
          "#02": 77,
          "#02_weighted": 15.4,
          "average_grade": 73.80000000000001,
          "final_grade": 73.80000000000001
         },
         {
          "#01": 79,
          "#01_weighted": 63.2,
          "#02": 79,
          "#02_weighted": 15.8,
          "average_grade": 79,
          "final_grade": 79
         },
         {
          "#01": 0,
          "#01_weighted": 0,
          "#02": 0,
          "#02_weighted": 0,
          "average_grade": 0,
          "final_grade": 0
         },
         {
          "#01": 93,
          "#01_weighted": 74.4,
          "#02": 90,
          "#02_weighted": 18,
          "average_grade": 92.4,
          "final_grade": 92.4
         },
         {
          "#01": 0,
          "#01_weighted": 0,
          "#02": 0,
          "#02_weighted": 0,
          "average_grade": 0,
          "final_grade": 0
         },
         {
          "#01": 90,
          "#01_weighted": 72,
          "#02": 77,
          "#02_weighted": 15.4,
          "average_grade": 87.4,
          "final_grade": 87.4
         },
         {
          "#01": 95,
          "#01_weighted": 76,
          "#02": 88,
          "#02_weighted": 17.6,
          "average_grade": 93.6,
          "final_grade": 93.6
         },
         {
          "#01": 78,
          "#01_weighted": 62.400000000000006,
          "#02": 79,
          "#02_weighted": 15.8,
          "average_grade": 78.2,
          "final_grade": 78.2
         },
         {
          "#01": 86,
          "#01_weighted": 68.8,
          "#02": 75,
          "#02_weighted": 15,
          "average_grade": 83.8,
          "final_grade": 83.8
         },
         {
          "#01": 72,
          "#01_weighted": 57.6,
          "#02": 75,
          "#02_weighted": 15,
          "average_grade": 72.6,
          "final_grade": 72.6
         },
         {
          "#01": 52,
          "#01_weighted": 41.6,
          "#02": 88,
          "#02_weighted": 17.6,
          "average_grade": 59.2,
          "final_grade": 59.2
         },
         {
          "#01": 78,
          "#01_weighted": 62.400000000000006,
          "#02": 77,
          "#02_weighted": 15.4,
          "average_grade": 77.80000000000001,
          "final_grade": 77.80000000000001
         },
         {
          "#01": 74,
          "#01_weighted": 59.2,
          "#02": 89,
          "#02_weighted": 17.8,
          "average_grade": 77,
          "final_grade": 77
         },
         {
          "#01": 84,
          "#01_weighted": 67.2,
          "#02": 77,
          "#02_weighted": 15.4,
          "average_grade": 82.60000000000001,
          "final_grade": 82.60000000000001
         },
         {
          "#01": 27,
          "#01_weighted": 21.6,
          "#02": 0,
          "#02_weighted": 0,
          "average_grade": 21.6,
          "final_grade": 21.6
         },
         {
          "#01": 93,
          "#01_weighted": 74.4,
          "#02": 88,
          "#02_weighted": 17.6,
          "average_grade": 92,
          "final_grade": 92
         },
         {
          "#01": 89,
          "#01_weighted": 71.2,
          "#02": 82,
          "#02_weighted": 16.400000000000002,
          "average_grade": 87.60000000000001,
          "final_grade": 87.60000000000001
         },
         {
          "#01": 92,
          "#01_weighted": 73.60000000000001,
          "#02": 77,
          "#02_weighted": 15.4,
          "average_grade": 89.00000000000001,
          "final_grade": 89.00000000000001
         },
         {
          "#01": 66,
          "#01_weighted": 52.800000000000004,
          "#02": 83,
          "#02_weighted": 16.6,
          "average_grade": 69.4,
          "final_grade": 69.4
         },
         {
          "#01": 76,
          "#01_weighted": 60.800000000000004,
          "#02": 88,
          "#02_weighted": 17.6,
          "average_grade": 78.4,
          "final_grade": 78.4
         },
         {
          "#01": 90,
          "#01_weighted": 72,
          "#02": 77,
          "#02_weighted": 15.4,
          "average_grade": 87.4,
          "final_grade": 87.4
         },
         {
          "#01": 57,
          "#01_weighted": 45.6,
          "#02": 65,
          "#02_weighted": 13,
          "average_grade": 58.6,
          "final_grade": 58.6
         },
         {
          "#01": 83,
          "#01_weighted": 66.4,
          "#02": 62,
          "#02_weighted": 12.4,
          "average_grade": 78.80000000000001,
          "final_grade": 78.80000000000001
         },
         {
          "#01": 78,
          "#01_weighted": 62.400000000000006,
          "#02": 82,
          "#02_weighted": 16.400000000000002,
          "average_grade": 78.80000000000001,
          "final_grade": 78.80000000000001
         },
         {
          "#01": 78,
          "#01_weighted": 62.400000000000006,
          "#02": 82,
          "#02_weighted": 16.400000000000002,
          "average_grade": 78.80000000000001,
          "final_grade": 78.80000000000001
         },
         {
          "#01": 70,
          "#01_weighted": 56,
          "#02": 84,
          "#02_weighted": 16.8,
          "average_grade": 72.8,
          "final_grade": 72.8
         },
         {
          "#01": 81,
          "#01_weighted": 64.8,
          "#02": 77,
          "#02_weighted": 15.4,
          "average_grade": 80.2,
          "final_grade": 80.2
         },
         {
          "#01": 67,
          "#01_weighted": 53.6,
          "#02": 62,
          "#02_weighted": 12.4,
          "average_grade": 66,
          "final_grade": 66
         },
         {
          "#01": 72,
          "#01_weighted": 57.6,
          "#02": 75,
          "#02_weighted": 15,
          "average_grade": 72.6,
          "final_grade": 72.6
         },
         {
          "#01": 89,
          "#01_weighted": 71.2,
          "#02": 74,
          "#02_weighted": 14.8,
          "average_grade": 86,
          "final_grade": 86
         },
         {
          "#01": 78,
          "#01_weighted": 62.400000000000006,
          "#02": 75,
          "#02_weighted": 15,
          "average_grade": 77.4,
          "final_grade": 77.4
         },
         {
          "#01": 89,
          "#01_weighted": 71.2,
          "#02": 85,
          "#02_weighted": 17,
          "average_grade": 88.2,
          "final_grade": 88.2
         },
         {
          "#01": 70,
          "#01_weighted": 56,
          "#02": 74,
          "#02_weighted": 14.8,
          "average_grade": 70.8,
          "final_grade": 70.8
         },
         {
          "#01": 63,
          "#01_weighted": 50.400000000000006,
          "#02": 77,
          "#02_weighted": 15.4,
          "average_grade": 65.80000000000001,
          "final_grade": 65.80000000000001
         },
         {
          "#01": 54,
          "#01_weighted": 43.2,
          "#02": 80,
          "#02_weighted": 16,
          "average_grade": 59.2,
          "final_grade": 59.2
         },
         {
          "#01": 66,
          "#01_weighted": 52.800000000000004,
          "#02": 75,
          "#02_weighted": 15,
          "average_grade": 67.80000000000001,
          "final_grade": 67.80000000000001
         },
         {
          "#01": 54,
          "#01_weighted": 43.2,
          "#02": 87,
          "#02_weighted": 17.400000000000002,
          "average_grade": 60.60000000000001,
          "final_grade": 60.60000000000001
         },
         {
          "#01": 65,
          "#01_weighted": 52,
          "#02": 83,
          "#02_weighted": 16.6,
          "average_grade": 68.6,
          "final_grade": 68.6
         },
         {
          "#01": 78,
          "#01_weighted": 62.400000000000006,
          "#02": 88,
          "#02_weighted": 17.6,
          "average_grade": 80,
          "final_grade": 80
         },
         {
          "#01": 72,
          "#01_weighted": 57.6,
          "#02": 69,
          "#02_weighted": 13.8,
          "average_grade": 71.4,
          "final_grade": 71.4
         },
         {
          "#01": 89,
          "#01_weighted": 71.2,
          "#02": 85,
          "#02_weighted": 17,
          "average_grade": 88.2,
          "final_grade": 88.2
         },
         {
          "#01": 29,
          "#01_weighted": 23.200000000000003,
          "#02": 76,
          "#02_weighted": 15.200000000000001,
          "average_grade": 38.400000000000006,
          "final_grade": 38.400000000000006
         },
         {
          "#01": 77,
          "#01_weighted": 61.6,
          "#02": 77,
          "#02_weighted": 15.4,
          "average_grade": 77,
          "final_grade": 77
         },
         {
          "#01": 3,
          "#01_weighted": 2.4000000000000004,
          "#02": 0,
          "#02_weighted": 0,
          "average_grade": 2.4000000000000004,
          "final_grade": 2.4000000000000004
         },
         {
          "#01": 53,
          "#01_weighted": 42.400000000000006,
          "#02": 90,
          "#02_weighted": 18,
          "average_grade": 60.400000000000006,
          "final_grade": 60.400000000000006
         },
         {
          "#01": 61,
          "#01_weighted": 48.800000000000004,
          "#02": 61,
          "#02_weighted": 12.200000000000001,
          "average_grade": 61.00000000000001,
          "final_grade": 61.00000000000001
         },
         {
          "#01": 73,
          "#01_weighted": 58.400000000000006,
          "#02": 77,
          "#02_weighted": 15.4,
          "average_grade": 73.80000000000001,
          "final_grade": 73.80000000000001
         },
         {
          "#01": 33,
          "#01_weighted": 26.400000000000002,
          "#02": 62,
          "#02_weighted": 12.4,
          "average_grade": 38.800000000000004,
          "final_grade": 38.800000000000004
         },
         {
          "#01": 3,
          "#01_weighted": 2.4000000000000004,
          "#02": 0,
          "#02_weighted": 0,
          "average_grade": 2.4000000000000004,
          "final_grade": 2.4000000000000004
         },
         {
          "#01": 55,
          "#01_weighted": 44,
          "#02": 62,
          "#02_weighted": 12.4,
          "average_grade": 56.4,
          "final_grade": 56.4
         },
         {
          "#01": 85,
          "#01_weighted": 68,
          "#02": 86,
          "#02_weighted": 17.2,
          "average_grade": 85.2,
          "final_grade": 85.2
         },
         {
          "#01": 66,
          "#01_weighted": 52.800000000000004,
          "#02": 74,
          "#02_weighted": 14.8,
          "average_grade": 67.60000000000001,
          "final_grade": 67.60000000000001
         },
         {
          "#01": 63,
          "#01_weighted": 50.400000000000006,
          "#02": 92,
          "#02_weighted": 18.400000000000002,
          "average_grade": 68.80000000000001,
          "final_grade": 68.80000000000001
         },
         {
          "#01": 96,
          "#01_weighted": 76.80000000000001,
          "#02": 85,
          "#02_weighted": 17,
          "average_grade": 93.80000000000001,
          "final_grade": 93.80000000000001
         },
         {
          "#01": 57,
          "#01_weighted": 45.6,
          "#02": 91,
          "#02_weighted": 18.2,
          "average_grade": 63.8,
          "final_grade": 63.8
         },
         {
          "#01": 92,
          "#01_weighted": 73.60000000000001,
          "#02": 89,
          "#02_weighted": 17.8,
          "average_grade": 91.4,
          "final_grade": 91.4
         },
         {
          "#01": 94,
          "#01_weighted": 75.2,
          "#02": 92,
          "#02_weighted": 18.400000000000002,
          "average_grade": 93.60000000000001,
          "final_grade": 93.60000000000001
         },
         {
          "#01": 73,
          "#01_weighted": 58.400000000000006,
          "#02": 93,
          "#02_weighted": 18.6,
          "average_grade": 77,
          "final_grade": 77
         }
        ]
       },
       "height": 400,
       "layer": [
        {
         "encoding": {
          "x": {
           "axis": {
            "title": "Average Grade"
           },
           "field": "average_grade",
           "type": "quantitative"
          },
          "y": {
           "axis": {
            "title": "Module grade"
           },
           "field": "final_grade",
           "typs": "quantitative"
          }
         },
         "mark": "circle"
        },
        {
         "encoding": {
          "color": {
           "value": "red"
          },
          "size": {
           "value": 1
          },
          "x": {
           "value": 0
          },
          "y": {
           "value": 400
          }
         },
         "mark": "rule"
        }
       ],
       "title": "Module performance comparison",
       "width": 800
      },
      "image/png": "[encoded data removed]"
     },
     "metadata": {},
     "output_type": "display_data"
    }
   ],
   "source": [
    "def build_grade_comparison_plot(height, width, data):\n",
    "    return VegaLite({\n",
    "        \"$schema\": \"https://vega.github.io/schema/vega-lite/v2.0.json\",\n",
    "        \"title\": \"Module performance comparison\",\n",
    "        \"height\": height,\n",
    "        \"width\": width,\n",
    "        \"layer\": [\n",
    "            {\n",
    "                \"mark\": \"circle\",\n",
    "                \"encoding\": {\n",
    "                    \"x\": {\n",
    "                        \"field\": \"average_grade\",\n",
    "                        \"type\": \"quantitative\",\n",
    "                        \"axis\": { \"title\": \"Average Grade\" }\n",
    "                    },\n",
    "                    \"y\": {\n",
    "                        \"field\": \"final_grade\", \n",
    "                        \"typs\": \"quantitative\",\n",
    "                        \"axis\": { \"title\": \"Module grade\" }\n",
    "                    }\n",
    "                }\n",
    "            },\n",
    "            {\n",
    "                \"mark\": \"rule\",\n",
    "                \"encoding\": {\n",
    "                    \"x\": {\n",
    "                        \"value\": 0\n",
    "                    },\n",
    "                    \"y\": {\n",
    "                        \"value\": height\n",
    "                    },\n",
    "                    \"size\": {\n",
    "                        \"value\": 1\n",
    "                    },\n",
    "                    \"color\": {\n",
    "                        \"value\": \"red\"\n",
    "                    }\n",
    "                }\n",
    "            }\n",
    "        ]\n",
    "    }, data)\n",
    "        \n",
    "chart = build_grade_comparison_plot(height, width, compare_grades)\n",
    "output[\"compare\"] = chart.spec\n",
    "\n",
    "display_vg(chart.spec)"
   ]
  },
  {
   "cell_type": "markdown",
   "metadata": {},
   "source": [
    "## Multiple choice questions"
   ]
  },
  {
   "cell_type": "code",
   "execution_count": 26,
   "metadata": {},
   "outputs": [
    {
     "data": {
      "text/html": [
       "<div>\n",
       "<table border=\"1\" class=\"dataframe\">\n",
       "  <thead>\n",
       "    <tr style=\"text-align: right;\">\n",
       "      <th></th>\n",
       "      <th>answer</th>\n",
       "      <th>q1</th>\n",
       "      <th>q2</th>\n",
       "      <th>q3</th>\n",
       "      <th>q4</th>\n",
       "      <th>q5</th>\n",
       "      <th>q6</th>\n",
       "      <th>q7</th>\n",
       "    </tr>\n",
       "  </thead>\n",
       "  <tbody>\n",
       "    <tr>\n",
       "      <th>0</th>\n",
       "      <td>Strongly Agree</td>\n",
       "      <td>39.0</td>\n",
       "      <td>38.0</td>\n",
       "      <td>25.0</td>\n",
       "      <td>26.0</td>\n",
       "      <td>32.0</td>\n",
       "      <td>30.0</td>\n",
       "      <td>32.0</td>\n",
       "    </tr>\n",
       "    <tr>\n",
       "      <th>1</th>\n",
       "      <td>Agree</td>\n",
       "      <td>17.0</td>\n",
       "      <td>18.0</td>\n",
       "      <td>30.0</td>\n",
       "      <td>27.0</td>\n",
       "      <td>19.0</td>\n",
       "      <td>23.0</td>\n",
       "      <td>23.0</td>\n",
       "    </tr>\n",
       "    <tr>\n",
       "      <th>2</th>\n",
       "      <td>Disagree</td>\n",
       "      <td>0.0</td>\n",
       "      <td>0.0</td>\n",
       "      <td>1.0</td>\n",
       "      <td>2.0</td>\n",
       "      <td>4.0</td>\n",
       "      <td>3.0</td>\n",
       "      <td>1.0</td>\n",
       "    </tr>\n",
       "    <tr>\n",
       "      <th>3</th>\n",
       "      <td>Strongly Disagree</td>\n",
       "      <td>0.0</td>\n",
       "      <td>0.0</td>\n",
       "      <td>0.0</td>\n",
       "      <td>1.0</td>\n",
       "      <td>0.0</td>\n",
       "      <td>0.0</td>\n",
       "      <td>0.0</td>\n",
       "    </tr>\n",
       "    <tr>\n",
       "      <th>4</th>\n",
       "      <td>N/A</td>\n",
       "      <td>0.0</td>\n",
       "      <td>0.0</td>\n",
       "      <td>0.0</td>\n",
       "      <td>0.0</td>\n",
       "      <td>0.0</td>\n",
       "      <td>0.0</td>\n",
       "      <td>0.0</td>\n",
       "    </tr>\n",
       "  </tbody>\n",
       "</table>\n",
       "</div>"
      ],
      "text/plain": [
       "              answer    q1    q2    q3    q4    q5    q6    q7\n",
       "0     Strongly Agree  39.0  38.0  25.0  26.0  32.0  30.0  32.0\n",
       "1              Agree  17.0  18.0  30.0  27.0  19.0  23.0  23.0\n",
       "2           Disagree   0.0   0.0   1.0   2.0   4.0   3.0   1.0\n",
       "3  Strongly Disagree   0.0   0.0   0.0   1.0   0.0   0.0   0.0\n",
       "4                N/A   0.0   0.0   0.0   0.0   0.0   0.0   0.0"
      ]
     },
     "execution_count": 26,
     "metadata": {},
     "output_type": "execute_result"
    }
   ],
   "source": [
    "mc_questions = [\n",
    "    \"1. Staff are good at explaining things\",\n",
    "    \"2. The module was well organised.\",\n",
    "    \"3. On this module, I have received sufficient advice and support with my studies.\",\n",
    "    \"4. The module was interesting and engaging\",\n",
    "    \"5. Practical / tutorial / workshop sessions were helpful.\",\n",
    "    \"6. Useful support materials were made available on the KLE\",\n",
    "    \"7. Overall, I am satisfied with the quality of this module. \",\n",
    "]\n",
    "mc_answers = [\n",
    "    \"Strongly Agree\",\n",
    "    \"Agree\",\n",
    "    \"Disagree\",\n",
    "    \"Strongly Disagree\",\n",
    "    \"N/A\"\n",
    "]\n",
    "\n",
    "def get_student_multi_choice_feedback(module, questions, answers):\n",
    "    fb = pd.read_csv(\"../data/raw/modules/{0}/feedback.csv\".format(module))\n",
    "    fb_answers = pd.DataFrame(fb[questions])\n",
    "    fb_answers = pd.DataFrame(fb_answers.apply(pd.value_counts))\n",
    "    answers = pd.DataFrame(answers, columns=[\"answer\"])\n",
    "    answers = pd.DataFrame(answers).merge(fb_answers, left_on=\"answer\", right_index=True, how=\"left\").fillna(0)\n",
    "    answers.columns = [\"answer\"] + [\"q{0}\".format(i+1) for i in range(len(questions))]\n",
    "    \n",
    "    return answers\n",
    "\n",
    "sfb = get_student_multi_choice_feedback(module, mc_questions, mc_answers)\n",
    "\n",
    "sfb"
   ]
  },
  {
   "cell_type": "markdown",
   "metadata": {},
   "source": [
    "## Additional comments for multiple choice questions"
   ]
  },
  {
   "cell_type": "code",
   "execution_count": 27,
   "metadata": {},
   "outputs": [
    {
     "data": {
      "text/plain": [
       "[['Answers questions well',\n",
       "  'He explains why he does everything which is good because it helps us to understand problems. ',\n",
       "  'He always explains questions I am stuck on really well.',\n",
       "  \"Martyn was very good at explaining the only reason this isn't strongly agree is because of the difficulty of the module.\",\n",
       "  'Martyn is we very clear during lectures and weekly tutorials helped in grasping difficult concepts.',\n",
       "  'always clear and confirms understanding'],\n",
       " ['Great balacnce of lectures and tutorials.',\n",
       "  'we always know whats coming up',\n",
       "  'Before assignments are given out would useful to have an opportunity to have a question given that can be marked so we know what sort of things to look for.'],\n",
       " ['Possibly more staff to work through problems with.',\n",
       "  'Possibly more staff to work through problems with.',\n",
       "  'I found the lectures where we went through the assignments and the class test extremely helpful',\n",
       "  'always helpful comments and feedback from work'],\n",
       " ['Decent amount of types of problems, possibly more?',\n",
       "  'Decent amount of types of problems, possibly more?',\n",
       "  'It was kind of boring but the lectures was engaging',\n",
       "  \"Whilst the maths wasn't necessarily new, the applications were very interesting and Martyn did his best to be engaging\",\n",
       "  'lovely and engaging lecturer'],\n",
       " ['He was good at helping us with questions that we were stuck on',\n",
       "  'Was just like another lecture',\n",
       "  'It gives us a chance to try questions out on our own.',\n",
       "  'great practice and readily available support'],\n",
       " ['Lots of shit to work through',\n",
       "  'Lots of shit to work through',\n",
       "  'Everything was in workbook, not KLE but there were some online resources',\n",
       "  'Not many examples were uploaded to the Joe but we were provided with good feedback to our assessed work.',\n",
       "  'lecture notes always available on kle',\n",
       "  'More past papers could have been put on the KLE earlier so we could practice more before the class test.'],\n",
       " ['Banging', 'Banging', 'my fave module']]"
      ]
     },
     "execution_count": 27,
     "metadata": {},
     "output_type": "execute_result"
    }
   ],
   "source": [
    "def get_textual_student_feedback(module):\n",
    "    fb = pd.read_csv(\"../data/raw/modules/{0}/feedback.csv\".format(module))\n",
    "    fb = fb.filter(regex=r\"additional comments\", axis=1)\n",
    "    \n",
    "    text_fb = []\n",
    "    for col in fb:\n",
    "        text_fb.append(fb[col].dropna().tolist())\n",
    "    \n",
    "    return text_fb\n",
    "    \n",
    "get_textual_student_feedback(module)"
   ]
  },
  {
   "cell_type": "code",
   "execution_count": 28,
   "metadata": {},
   "outputs": [
    {
     "data": {
      "application/vnd.vegalite.v2+json": {
       "$schema": "https://vega.github.io/schema/vega-lite/v2.0.json",
       "data": {
        "values": [
         {
          "answer": "Strongly Agree",
          "q1": 39,
          "q2": 38,
          "q3": 25,
          "q4": 26,
          "q5": 32,
          "q6": 30,
          "q7": 32
         },
         {
          "answer": "Agree",
          "q1": 17,
          "q2": 18,
          "q3": 30,
          "q4": 27,
          "q5": 19,
          "q6": 23,
          "q7": 23
         },
         {
          "answer": "Disagree",
          "q1": 0,
          "q2": 0,
          "q3": 1,
          "q4": 2,
          "q5": 4,
          "q6": 3,
          "q7": 1
         },
         {
          "answer": "Strongly Disagree",
          "q1": 0,
          "q2": 0,
          "q3": 0,
          "q4": 1,
          "q5": 0,
          "q6": 0,
          "q7": 0
         },
         {
          "answer": "N/A",
          "q1": 0,
          "q2": 0,
          "q3": 0,
          "q4": 0,
          "q5": 0,
          "q6": 0,
          "q7": 0
         }
        ]
       },
       "encoding": {
        "color": {
         "field": "answer",
         "legend": null,
         "type": "nominal"
        },
        "x": {
         "axis": {
          "title": ""
         },
         "field": "answer",
         "sort": null,
         "type": "nominal"
        },
        "y": {
         "axis": {
          "title": "count"
         },
         "field": "q1",
         "type": "quantitative"
        }
       },
       "height": 400,
       "mark": "bar",
       "title": "Staff are good at explaining things",
       "width": 800
      },
      "image/png": "[encoded data removed]"
     },
     "metadata": {},
     "output_type": "display_data"
    }
   ],
   "source": [
    "def build_student_feedback_histogram(height, width, data, questions, question):\n",
    "    return VegaLite({\n",
    "        \"$schema\": \"https://vega.github.io/schema/vega-lite/v2.0.json\",\n",
    "        \"title\": re.sub(r\"\\d.\\s\", \"\", questions[question-1]),\n",
    "        \"height\": height,\n",
    "        \"width\": width,\n",
    "        \"mark\": \"bar\",\n",
    "        \"encoding\": {\n",
    "            \"x\": {\n",
    "                \"field\": \"answer\",\n",
    "                \"type\": \"nominal\",\n",
    "                \"sort\": None,\n",
    "                \"axis\": { \"title\": \"\" }\n",
    "            },\n",
    "            \"y\": {\n",
    "                \"field\": \"q{0}\".format(question),\n",
    "                \"type\": \"quantitative\",\n",
    "                \"axis\": { \"title\": \"count\" }\n",
    "            },\n",
    "            \"color\": {\n",
    "                \"field\": \"answer\",\n",
    "                \"type\": \"nominal\",\n",
    "                \"legend\": None,\n",
    "            }\n",
    "        }\n",
    "    }, data)\n",
    "\n",
    "chart = build_student_feedback_histogram(height, width, sfb, mc_questions, 1)\n",
    "output[\"feedback\"] = chart.spec\n",
    "\n",
    "display_vg(chart.spec)"
   ]
  },
  {
   "cell_type": "markdown",
   "metadata": {},
   "source": [
    "## Descriptive questions"
   ]
  },
  {
   "cell_type": "code",
   "execution_count": 29,
   "metadata": {},
   "outputs": [
    {
     "data": {
      "text/plain": [
       "[0     I enjoyed the module as a whole as I found it ...\n",
       " 1                                                    No\n",
       " 2                                           EVERYTHING \n",
       " 3                                            Tutorials \n",
       " 4                                                    ..\n",
       " 5                    Tutorials and having gapped notes \n",
       " 6                                             Martyn <3\n",
       " 7                                      Lots of problems\n",
       " 8                                      Lots of problems\n",
       " 9                                         The lecturer \n",
       " 10    Solutions fully gone through in class for exam...\n",
       " 11                       Practice sessions were useful.\n",
       " 12                                           Everything\n",
       " 13    The lectures were enjoyable this was down to t...\n",
       " 14                 Learning new ways to solve problems \n",
       " 15    The workshops are really good because martyn i...\n",
       " 16                                      Problem solving\n",
       " 17                                            The test.\n",
       " 18    The entire module was the most enjoyable, inte...\n",
       " 19                               Lecturer was very good\n",
       " 20    I enjoyed the way the problems were set out an...\n",
       " 21                       Going through lots of examples\n",
       " 22         The style of questions, and Martyn of course\n",
       " 23                                                   No\n",
       " 24                                Interesting problems \n",
       " 25       Tutorials and working out questions in groups \n",
       " 26    Developing new skills in being able to approac...\n",
       " 27                                The tutorial sessions\n",
       " 28    The lecturer made the lectures fun and taught ...\n",
       " 29    This module is a good resource for finding cha...\n",
       " 30    The structure was very clear and well organise...\n",
       " 31                           The problem solving aspect\n",
       " 32                                No was all enjoyable \n",
       " 33              The variety of problems that we covered\n",
       " 34      The different approach to mathematical problems\n",
       " 35                     I enjoyed the module as a whole.\n",
       " 36                                         The teaching\n",
       " 37    The new challenge and variety. Very different ...\n",
       " 38             Seeing new ways to interpret a situation\n",
       " 40                                  Enumeration section\n",
       " 41                                  Integer application\n",
       " 42    The delivery of the lectures, and explaining o...\n",
       " 43    I enjoyed learning the content in the module i...\n",
       " 44    The lecturer was very good at explaining every...\n",
       " 45                           Friday Afternoon tutorials\n",
       " 46    Nothing specific, but in general it has been e...\n",
       " 47    The applications of maths to problems that res...\n",
       " 48                      The Tutorial Sessions on Friday\n",
       " 49                   the assignments gave me confidence\n",
       " 50             Learning the skills for logical thinking\n",
       " 51    I enjoyed the work style and learning the new ...\n",
       " 52                                            Integers.\n",
       " 53    Learning to answer a question properly by clea...\n",
       " 54      lots of example questions to help with revision\n",
       " 55                                   The first chapter.\n",
       " Name: 8. Was there anything in particular which you enjoyed in this module? , dtype: object,\n",
       " 0                                      Better exam mark\n",
       " 1                                                    No\n",
       " 3                                               Nothing\n",
       " 4                                                    ..\n",
       " 5                                              Nothing \n",
       " 6                      Not have it in such a small room\n",
       " 7                              More staff and resources\n",
       " 8                              More staff and resources\n",
       " 9     More time allowed for answering questions indi...\n",
       " 10                              More practise questions\n",
       " 11              Allow more independence over questions.\n",
       " 12                                               Nohing\n",
       " 13    Have more tutorial sessions to help with the m...\n",
       " 14                                             Nothing \n",
       " 15                   Nothing this module is really good\n",
       " 16                    More workshops/practical sessions\n",
       " 17    The lecturers pronunciation of grass, laugh an...\n",
       " 18                              More example questions \n",
       " 19                                    Less journal work\n",
       " 20                                      No improvements\n",
       " 22                                       More tutorials\n",
       " 23                                              Nothing\n",
       " 24                                            Not sure \n",
       " 25                                                    -\n",
       " 26                          Really enjoyed all aspects \n",
       " 27                                             Nothing!\n",
       " 28                 More tutorials rather than lectures.\n",
       " 29                            Make it more interesting.\n",
       " 30                  More staff in the problems classes \n",
       " 31                                              Nothing\n",
       " 32                                       More tutorials\n",
       " 33                                         I don't know\n",
       " 34                                       More tutorials\n",
       " 35                             More practice questions.\n",
       " 36                                                  n/a\n",
       " 37                                       More examples.\n",
       " 38      Solutions given to questions greater explained \n",
       " 40    Change the way examples are done, not always w...\n",
       " 41    Prior mock assignment so that the style of wri...\n",
       " 42                          I didn’t enjoy the journals\n",
       " 43                                             Nothing \n",
       " 44    nothing needed improving during the course of ...\n",
       " 45    More sessions with the bronze silver gold ques...\n",
       " 46                I don't see any room for improvement.\n",
       " 47                                             Nothing \n",
       " 48    More sessions with the bronze/silver/gold ques...\n",
       " 49                                     online homework \n",
       " 50    I found the journals to be tedious and they we...\n",
       " 51               More session consolidation questions  \n",
       " 52    Answers for extra questions to be put onto the...\n",
       " 53    Going over exam - style questions in lectures/...\n",
       " 54         could go slower when going through questions\n",
       " 55                        A mock before the class test.\n",
       " Name: 9. If you could improve one thing about this module, what would it be?, dtype: object]"
      ]
     },
     "execution_count": 29,
     "metadata": {},
     "output_type": "execute_result"
    }
   ],
   "source": [
    "desc_questions = [\n",
    "    \"8. Was there anything in particular which you enjoyed in this module? \",\n",
    "    \"9. If you could improve one thing about this module, what would it be?\"\n",
    "]\n",
    "\n",
    "def get_descriptive_student_feedback(module, questions):\n",
    "    fb = pd.read_csv(\"../data/raw/modules/{0}/feedback.csv\".format(module))\n",
    "    fb = fb.filter(questions, axis=1)\n",
    "    \n",
    "    desc_fb = []\n",
    "    for col in fb:\n",
    "        desc_fb.append(fb[col].dropna())\n",
    "    \n",
    "    return desc_fb\n",
    "    \n",
    "dfb = get_descriptive_student_feedback(module, desc_questions)\n",
    "dfb"
   ]
  },
  {
   "cell_type": "code",
   "execution_count": 31,
   "metadata": {},
   "outputs": [
    {
     "data": {
      "image/png": "[encoded data removed]",
      "text/plain": [
       "<PIL.Image.Image image mode=RGB size=800x400 at 0x7F091D3E3C18>"
      ]
     },
     "execution_count": 31,
     "metadata": {},
     "output_type": "execute_result"
    }
   ],
   "source": [
    "def build_word_cloud(text):\n",
    "    return WordCloud(background_color=\"black\", colormap=\"GnBu\", height=height, width=width, font_path=\"fonts/caveat.ttf\").generate(text)\n",
    "\n",
    "wordcloud = build_word_cloud(dfb[0].str.cat(sep=\" \"))\n",
    "wordcloud.to_image()\n",
    "# wordcloud.to_file(\"../data/generated/images/{0}/{1}.png\".format(module, desc_questions[0][0]))"
   ]
  },
  {
   "cell_type": "code",
   "execution_count": 13,
   "metadata": {},
   "outputs": [],
   "source": [
    "# save_file(\"../data/generated/{0}.json\".format(module), json.dumps(output))\n",
    "# output"
   ]
  }
 ],
 "metadata": {
  "kernelspec": {
   "display_name": "Python 3",
   "language": "python",
   "name": "python3"
  },
  "language_info": {
   "codemirror_mode": {
    "name": "ipython",
    "version": 3
   },
   "file_extension": ".py",
   "mimetype": "text/x-python",
   "name": "python",
   "nbconvert_exporter": "python",
   "pygments_lexer": "ipython3",
   "version": "3.6.3"
  }
 },
 "nbformat": 4,
 "nbformat_minor": 2
}
