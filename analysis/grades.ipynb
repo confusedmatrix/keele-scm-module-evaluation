{
 "cells": [
  {
   "cell_type": "code",
   "execution_count": 1,
   "metadata": {},
   "outputs": [],
   "source": [
    "import pandas as pd\n",
    "import numpy as np\n",
    "import os\n",
    "import json\n",
    "from hashlib import sha512\n",
    "from vega3 import VegaLite\n",
    "from IPython.display import display\n",
    "\n",
    "def display_vg(spec):\n",
    "    bundle = {}\n",
    "    bundle['application/vnd.vegalite.v2+json'] = spec\n",
    "    display(bundle, raw=True)\n",
    "    \n",
    "def mkdir(directory):\n",
    "    \"\"\"\n",
    "    :param string directory: \n",
    "    :return: \n",
    "    \"\"\"\n",
    "    try:\n",
    "        os.mkdir(directory)\n",
    "    except FileExistsError:\n",
    "        pass\n",
    "    \n",
    "def save_file(file_name, data):\n",
    "    with open(file_name, \"w\") as f:\n",
    "        f.write(data)\n",
    "        "
   ]
  },
  {
   "cell_type": "code",
   "execution_count": 2,
   "metadata": {},
   "outputs": [],
   "source": [
    "mkdir(\"../data/generated/\")"
   ]
  },
  {
   "cell_type": "code",
   "execution_count": 3,
   "metadata": {},
   "outputs": [
    {
     "data": {
      "text/html": [
       "<div>\n",
       "<table border=\"1\" class=\"dataframe\">\n",
       "  <thead>\n",
       "    <tr style=\"text-align: right;\">\n",
       "      <th></th>\n",
       "      <th>#01</th>\n",
       "      <th>#01_weighted</th>\n",
       "      <th>#02</th>\n",
       "      <th>#02_weighted</th>\n",
       "      <th>final_grade</th>\n",
       "    </tr>\n",
       "    <tr>\n",
       "      <th>user</th>\n",
       "      <th></th>\n",
       "      <th></th>\n",
       "      <th></th>\n",
       "      <th></th>\n",
       "      <th></th>\n",
       "    </tr>\n",
       "  </thead>\n",
       "  <tbody>\n",
       "    <tr>\n",
       "      <th>0a628068de9c2a70f8685e318f5dbd07badc53704c8d7655949fda7415f195ec98c3a4d43e3957661f2fd0fce73b4814b58cf552cd35d1865cf6bf42f3e69565</th>\n",
       "      <td>96.0</td>\n",
       "      <td>76.8</td>\n",
       "      <td>89</td>\n",
       "      <td>17.8</td>\n",
       "      <td>94.6</td>\n",
       "    </tr>\n",
       "    <tr>\n",
       "      <th>0a6d48869596d53488f8838878198bf3caac38548d83ad7e14734297de4253f8199a814b7db1bab6091835250c7bdcc75acc14a1572f112a3967c79b1503013e</th>\n",
       "      <td>64.0</td>\n",
       "      <td>51.2</td>\n",
       "      <td>95</td>\n",
       "      <td>19.0</td>\n",
       "      <td>70.2</td>\n",
       "    </tr>\n",
       "    <tr>\n",
       "      <th>0a8e012a21baf4c32928caa65c149c2afd8a970a7a28820b215decefbe66778c28ae0af71c47544033919fb74846139140f9ec20dd5d8350cd3bcef2155391ff</th>\n",
       "      <td>85.0</td>\n",
       "      <td>68.0</td>\n",
       "      <td>83</td>\n",
       "      <td>16.6</td>\n",
       "      <td>84.6</td>\n",
       "    </tr>\n",
       "    <tr>\n",
       "      <th>18e4e11be10aaf08723ffb8f2f731ffb96d9ebdc5f38368f4b2f1e46b5f85a919d3f60d2daafcb07ead56fe24bfa63f6d13eff337a1e5f0b550c609e918bd8dc</th>\n",
       "      <td>79.0</td>\n",
       "      <td>63.2</td>\n",
       "      <td>87</td>\n",
       "      <td>17.4</td>\n",
       "      <td>80.6</td>\n",
       "    </tr>\n",
       "    <tr>\n",
       "      <th>1a70e13e29d382e20adf383c93d02fed2bf9b1855867b0d22415c983e81e7750f6da13abf1523d908362d4a5c8faff44b303f1c6b1572f0acf2013608633fc02</th>\n",
       "      <td>95.0</td>\n",
       "      <td>76.0</td>\n",
       "      <td>91</td>\n",
       "      <td>18.2</td>\n",
       "      <td>94.2</td>\n",
       "    </tr>\n",
       "  </tbody>\n",
       "</table>\n",
       "</div>"
      ],
      "text/plain": [
       "                                                     #01  #01_weighted  #02  \\\n",
       "user                                                                          \n",
       "0a628068de9c2a70f8685e318f5dbd07badc53704c8d765...  96.0          76.8   89   \n",
       "0a6d48869596d53488f8838878198bf3caac38548d83ad7...  64.0          51.2   95   \n",
       "0a8e012a21baf4c32928caa65c149c2afd8a970a7a28820...  85.0          68.0   83   \n",
       "18e4e11be10aaf08723ffb8f2f731ffb96d9ebdc5f38368...  79.0          63.2   87   \n",
       "1a70e13e29d382e20adf383c93d02fed2bf9b1855867b0d...  95.0          76.0   91   \n",
       "\n",
       "                                                    #02_weighted  final_grade  \n",
       "user                                                                           \n",
       "0a628068de9c2a70f8685e318f5dbd07badc53704c8d765...          17.8         94.6  \n",
       "0a6d48869596d53488f8838878198bf3caac38548d83ad7...          19.0         70.2  \n",
       "0a8e012a21baf4c32928caa65c149c2afd8a970a7a28820...          16.6         84.6  \n",
       "18e4e11be10aaf08723ffb8f2f731ffb96d9ebdc5f38368...          17.4         80.6  \n",
       "1a70e13e29d382e20adf383c93d02fed2bf9b1855867b0d...          18.2         94.2  "
      ]
     },
     "execution_count": 3,
     "metadata": {},
     "output_type": "execute_result"
    }
   ],
   "source": [
    "module = 'MAT-10044'\n",
    "output = {}\n",
    "output[\"code\"] = module\n",
    "\n",
    "grades = pd.read_csv('../data/raw/grades/{0}.csv'.format(module), skiprows=[0])\n",
    "grades = grades[['#Ass#', 'Mark', '#Cand Key']]\n",
    "grades.columns = ['ass', 'grade', 'user']\n",
    "grades['user'] = grades['user'].str.replace(r'#|/[0-9]', '').apply(lambda u: sha512(u.encode('utf-8')).hexdigest())\n",
    "grades = grades.set_index('user')\n",
    "\n",
    "assessments = grades['ass'].unique()\n",
    "assessment_weights = [0.8, 0.2]\n",
    "module_grades = pd.DataFrame([], index=grades.index.unique())\n",
    "\n",
    "for k, ass in enumerate(assessments):\n",
    "    assessment_grades = grades[grades['ass'] == ass]['grade'].to_frame()\n",
    "    assessment_grades.columns = [ass]\n",
    "    assessment_grades['{0}_weighted'.format(ass)] = assessment_grades[ass] * assessment_weights[k]\n",
    "    module_grades = module_grades.merge(assessment_grades, left_index=True, right_index=True, how=\"outer\")\n",
    "\n",
    "module_grades = module_grades.fillna(0)\n",
    "module_grades['final_grade'] = module_grades.filter(regex=\"_weighted\").sum(axis=1)\n",
    "\n",
    "module_grades.head()"
   ]
  },
  {
   "cell_type": "code",
   "execution_count": 11,
   "metadata": {},
   "outputs": [
    {
     "data": {
      "application/vnd.vegalite.v2+json": {
       "$schema": "https://vega.github.io/schema/vega-lite/v2.0.json",
       "data": {
        "values": [
         {
          "#01": 96,
          "#01_weighted": 76.80000000000001,
          "#02": 89,
          "#02_weighted": 17.8,
          "final_grade": 94.60000000000001
         },
         {
          "#01": 64,
          "#01_weighted": 51.2,
          "#02": 95,
          "#02_weighted": 19,
          "final_grade": 70.2
         },
         {
          "#01": 85,
          "#01_weighted": 68,
          "#02": 83,
          "#02_weighted": 16.6,
          "final_grade": 84.6
         },
         {
          "#01": 79,
          "#01_weighted": 63.2,
          "#02": 87,
          "#02_weighted": 17.400000000000002,
          "final_grade": 80.60000000000001
         },
         {
          "#01": 95,
          "#01_weighted": 76,
          "#02": 91,
          "#02_weighted": 18.2,
          "final_grade": 94.2
         },
         {
          "#01": 19,
          "#01_weighted": 15.200000000000001,
          "#02": 73,
          "#02_weighted": 14.600000000000001,
          "final_grade": 29.800000000000004
         },
         {
          "#01": 33,
          "#01_weighted": 26.400000000000002,
          "#02": 68,
          "#02_weighted": 13.600000000000001,
          "final_grade": 40
         },
         {
          "#01": 60,
          "#01_weighted": 48,
          "#02": 62,
          "#02_weighted": 12.4,
          "final_grade": 60.4
         },
         {
          "#01": 17,
          "#01_weighted": 13.600000000000001,
          "#02": 0,
          "#02_weighted": 0,
          "final_grade": 13.600000000000001
         },
         {
          "#01": 100,
          "#01_weighted": 80,
          "#02": 93,
          "#02_weighted": 18.6,
          "final_grade": 98.6
         },
         {
          "#01": 64,
          "#01_weighted": 51.2,
          "#02": 69,
          "#02_weighted": 13.8,
          "final_grade": 65
         },
         {
          "#01": 58,
          "#01_weighted": 46.400000000000006,
          "#02": 82,
          "#02_weighted": 16.400000000000002,
          "final_grade": 62.80000000000001
         },
         {
          "#01": 73,
          "#01_weighted": 58.400000000000006,
          "#02": 77,
          "#02_weighted": 15.4,
          "final_grade": 73.80000000000001
         },
         {
          "#01": 79,
          "#01_weighted": 63.2,
          "#02": 79,
          "#02_weighted": 15.8,
          "final_grade": 79
         },
         {
          "#01": 0,
          "#01_weighted": 0,
          "#02": 0,
          "#02_weighted": 0,
          "final_grade": 0
         },
         {
          "#01": 93,
          "#01_weighted": 74.4,
          "#02": 90,
          "#02_weighted": 18,
          "final_grade": 92.4
         },
         {
          "#01": 0,
          "#01_weighted": 0,
          "#02": 0,
          "#02_weighted": 0,
          "final_grade": 0
         },
         {
          "#01": 90,
          "#01_weighted": 72,
          "#02": 77,
          "#02_weighted": 15.4,
          "final_grade": 87.4
         },
         {
          "#01": 95,
          "#01_weighted": 76,
          "#02": 88,
          "#02_weighted": 17.6,
          "final_grade": 93.6
         },
         {
          "#01": 78,
          "#01_weighted": 62.400000000000006,
          "#02": 79,
          "#02_weighted": 15.8,
          "final_grade": 78.2
         },
         {
          "#01": 86,
          "#01_weighted": 68.8,
          "#02": 75,
          "#02_weighted": 15,
          "final_grade": 83.8
         },
         {
          "#01": 72,
          "#01_weighted": 57.6,
          "#02": 75,
          "#02_weighted": 15,
          "final_grade": 72.6
         },
         {
          "#01": 52,
          "#01_weighted": 41.6,
          "#02": 88,
          "#02_weighted": 17.6,
          "final_grade": 59.2
         },
         {
          "#01": 78,
          "#01_weighted": 62.400000000000006,
          "#02": 77,
          "#02_weighted": 15.4,
          "final_grade": 77.80000000000001
         },
         {
          "#01": 74,
          "#01_weighted": 59.2,
          "#02": 89,
          "#02_weighted": 17.8,
          "final_grade": 77
         },
         {
          "#01": 84,
          "#01_weighted": 67.2,
          "#02": 77,
          "#02_weighted": 15.4,
          "final_grade": 82.60000000000001
         },
         {
          "#01": 27,
          "#01_weighted": 21.6,
          "#02": 0,
          "#02_weighted": 0,
          "final_grade": 21.6
         },
         {
          "#01": 93,
          "#01_weighted": 74.4,
          "#02": 88,
          "#02_weighted": 17.6,
          "final_grade": 92
         },
         {
          "#01": 89,
          "#01_weighted": 71.2,
          "#02": 82,
          "#02_weighted": 16.400000000000002,
          "final_grade": 87.60000000000001
         },
         {
          "#01": 92,
          "#01_weighted": 73.60000000000001,
          "#02": 77,
          "#02_weighted": 15.4,
          "final_grade": 89.00000000000001
         },
         {
          "#01": 66,
          "#01_weighted": 52.800000000000004,
          "#02": 83,
          "#02_weighted": 16.6,
          "final_grade": 69.4
         },
         {
          "#01": 76,
          "#01_weighted": 60.800000000000004,
          "#02": 88,
          "#02_weighted": 17.6,
          "final_grade": 78.4
         },
         {
          "#01": 90,
          "#01_weighted": 72,
          "#02": 77,
          "#02_weighted": 15.4,
          "final_grade": 87.4
         },
         {
          "#01": 57,
          "#01_weighted": 45.6,
          "#02": 65,
          "#02_weighted": 13,
          "final_grade": 58.6
         },
         {
          "#01": 83,
          "#01_weighted": 66.4,
          "#02": 62,
          "#02_weighted": 12.4,
          "final_grade": 78.80000000000001
         },
         {
          "#01": 78,
          "#01_weighted": 62.400000000000006,
          "#02": 82,
          "#02_weighted": 16.400000000000002,
          "final_grade": 78.80000000000001
         },
         {
          "#01": 78,
          "#01_weighted": 62.400000000000006,
          "#02": 82,
          "#02_weighted": 16.400000000000002,
          "final_grade": 78.80000000000001
         },
         {
          "#01": 70,
          "#01_weighted": 56,
          "#02": 84,
          "#02_weighted": 16.8,
          "final_grade": 72.8
         },
         {
          "#01": 81,
          "#01_weighted": 64.8,
          "#02": 77,
          "#02_weighted": 15.4,
          "final_grade": 80.2
         },
         {
          "#01": 67,
          "#01_weighted": 53.6,
          "#02": 62,
          "#02_weighted": 12.4,
          "final_grade": 66
         },
         {
          "#01": 72,
          "#01_weighted": 57.6,
          "#02": 75,
          "#02_weighted": 15,
          "final_grade": 72.6
         },
         {
          "#01": 89,
          "#01_weighted": 71.2,
          "#02": 74,
          "#02_weighted": 14.8,
          "final_grade": 86
         },
         {
          "#01": 78,
          "#01_weighted": 62.400000000000006,
          "#02": 75,
          "#02_weighted": 15,
          "final_grade": 77.4
         },
         {
          "#01": 89,
          "#01_weighted": 71.2,
          "#02": 85,
          "#02_weighted": 17,
          "final_grade": 88.2
         },
         {
          "#01": 70,
          "#01_weighted": 56,
          "#02": 74,
          "#02_weighted": 14.8,
          "final_grade": 70.8
         },
         {
          "#01": 63,
          "#01_weighted": 50.400000000000006,
          "#02": 77,
          "#02_weighted": 15.4,
          "final_grade": 65.80000000000001
         },
         {
          "#01": 54,
          "#01_weighted": 43.2,
          "#02": 80,
          "#02_weighted": 16,
          "final_grade": 59.2
         },
         {
          "#01": 66,
          "#01_weighted": 52.800000000000004,
          "#02": 75,
          "#02_weighted": 15,
          "final_grade": 67.80000000000001
         },
         {
          "#01": 54,
          "#01_weighted": 43.2,
          "#02": 87,
          "#02_weighted": 17.400000000000002,
          "final_grade": 60.60000000000001
         },
         {
          "#01": 65,
          "#01_weighted": 52,
          "#02": 83,
          "#02_weighted": 16.6,
          "final_grade": 68.6
         },
         {
          "#01": 78,
          "#01_weighted": 62.400000000000006,
          "#02": 88,
          "#02_weighted": 17.6,
          "final_grade": 80
         },
         {
          "#01": 72,
          "#01_weighted": 57.6,
          "#02": 69,
          "#02_weighted": 13.8,
          "final_grade": 71.4
         },
         {
          "#01": 89,
          "#01_weighted": 71.2,
          "#02": 85,
          "#02_weighted": 17,
          "final_grade": 88.2
         },
         {
          "#01": 29,
          "#01_weighted": 23.200000000000003,
          "#02": 76,
          "#02_weighted": 15.200000000000001,
          "final_grade": 38.400000000000006
         },
         {
          "#01": 77,
          "#01_weighted": 61.6,
          "#02": 77,
          "#02_weighted": 15.4,
          "final_grade": 77
         },
         {
          "#01": 3,
          "#01_weighted": 2.4000000000000004,
          "#02": 0,
          "#02_weighted": 0,
          "final_grade": 2.4000000000000004
         },
         {
          "#01": 53,
          "#01_weighted": 42.400000000000006,
          "#02": 90,
          "#02_weighted": 18,
          "final_grade": 60.400000000000006
         },
         {
          "#01": 61,
          "#01_weighted": 48.800000000000004,
          "#02": 61,
          "#02_weighted": 12.200000000000001,
          "final_grade": 61.00000000000001
         },
         {
          "#01": 73,
          "#01_weighted": 58.400000000000006,
          "#02": 77,
          "#02_weighted": 15.4,
          "final_grade": 73.80000000000001
         },
         {
          "#01": 33,
          "#01_weighted": 26.400000000000002,
          "#02": 62,
          "#02_weighted": 12.4,
          "final_grade": 38.800000000000004
         },
         {
          "#01": 3,
          "#01_weighted": 2.4000000000000004,
          "#02": 0,
          "#02_weighted": 0,
          "final_grade": 2.4000000000000004
         },
         {
          "#01": 55,
          "#01_weighted": 44,
          "#02": 62,
          "#02_weighted": 12.4,
          "final_grade": 56.4
         },
         {
          "#01": 85,
          "#01_weighted": 68,
          "#02": 86,
          "#02_weighted": 17.2,
          "final_grade": 85.2
         },
         {
          "#01": 66,
          "#01_weighted": 52.800000000000004,
          "#02": 74,
          "#02_weighted": 14.8,
          "final_grade": 67.60000000000001
         },
         {
          "#01": 63,
          "#01_weighted": 50.400000000000006,
          "#02": 92,
          "#02_weighted": 18.400000000000002,
          "final_grade": 68.80000000000001
         },
         {
          "#01": 96,
          "#01_weighted": 76.80000000000001,
          "#02": 85,
          "#02_weighted": 17,
          "final_grade": 93.80000000000001
         },
         {
          "#01": 57,
          "#01_weighted": 45.6,
          "#02": 91,
          "#02_weighted": 18.2,
          "final_grade": 63.8
         },
         {
          "#01": 92,
          "#01_weighted": 73.60000000000001,
          "#02": 89,
          "#02_weighted": 17.8,
          "final_grade": 91.4
         },
         {
          "#01": 94,
          "#01_weighted": 75.2,
          "#02": 92,
          "#02_weighted": 18.400000000000002,
          "final_grade": 93.60000000000001
         },
         {
          "#01": 73,
          "#01_weighted": 58.400000000000006,
          "#02": 93,
          "#02_weighted": 18.6,
          "final_grade": 77
         }
        ]
       },
       "height": 400,
       "layer": [
        {
         "encoding": {
          "x": {
           "axis": {
            "title": "Grade"
           },
           "bin": true,
           "field": "final_grade",
           "type": "quantitative"
          },
          "y": {
           "aggregate": "count",
           "axis": {
            "title": "Number of students"
           },
           "type": "quantitative"
          }
         },
         "mark": "bar"
        },
        {
         "encoding": {
          "color": {
           "value": "#ccc"
          },
          "size": {
           "value": 2
          },
          "x": {
           "value": 320
          }
         },
         "mark": "rule"
        },
        {
         "encoding": {
          "color": {
           "value": "#ccc"
          },
          "size": {
           "value": 2
          },
          "x": {
           "value": 480
          }
         },
         "mark": "rule"
        }
       ],
       "title": "Module attainment histogram",
       "width": 800
      }
     },
     "metadata": {},
     "output_type": "display_data"
    }
   ],
   "source": [
    "height = 400\n",
    "width = 800\n",
    "\n",
    "chart = VegaLite({\n",
    "    \"$schema\": \"https://vega.github.io/schema/vega-lite/v2.0.json\",\n",
    "    \"title\": \"Module attainment histogram\",\n",
    "    \"height\": height,\n",
    "    \"width\": width,\n",
    "    \"layer\": [\n",
    "        {\n",
    "            \"mark\": \"bar\",\n",
    "            \"encoding\": {\n",
    "                \"x\": {\n",
    "                    \"bin\": True,\n",
    "                    \"field\": \"final_grade\",\n",
    "                    \"type\": \"quantitative\",\n",
    "                    \"axis\": {\n",
    "                        \"title\": \"Grade\"\n",
    "                    }\n",
    "                },\n",
    "                \"y\": {\n",
    "                    \"aggregate\": \"count\",\n",
    "                    \"type\": \"quantitative\",\n",
    "                    \"axis\": {\n",
    "                        \"title\": \"Number of students\"\n",
    "                    }\n",
    "                }\n",
    "            }\n",
    "        },\n",
    "        {\n",
    "            \"mark\": \"rule\",\n",
    "            \"encoding\": {\n",
    "                \"x\": {\n",
    "                    \"value\": width/100 * 40\n",
    "                },\n",
    "                \"size\": {\n",
    "                    \"value\": 2\n",
    "                },\n",
    "                \"color\": {\n",
    "                    \"value\": \"#ccc\"\n",
    "                }\n",
    "            }\n",
    "        },\n",
    "        {\n",
    "            \"mark\": \"rule\",\n",
    "            \"encoding\": {\n",
    "                \"x\": {\n",
    "                    \"value\": width/100 * 60\n",
    "                },\n",
    "                \"size\": {\n",
    "                    \"value\": 2\n",
    "                },\n",
    "                \"color\": {\n",
    "                    \"value\": \"#ccc\"\n",
    "                }\n",
    "            }\n",
    "        }\n",
    "    ]\n",
    "}, module_grades)\n",
    "\n",
    "output[\"hist\"] = chart.spec\n",
    "display_vg(chart.spec)"
   ]
  },
  {
   "cell_type": "code",
   "execution_count": 5,
   "metadata": {},
   "outputs": [],
   "source": [
    "stats = {}\n",
    "stats[\"median\"] = round(module_grades['final_grade'].median(), 1)\n",
    "stats[\"gte70\"] = int(module_grades[module_grades['final_grade'] >= 70]['final_grade'].count())\n",
    "stats[\"gte60\"] = int(module_grades[module_grades['final_grade'] >= 60]['final_grade'].count() - stats[\"gte70\"])\n",
    "stats[\"lte40\"] = int(module_grades[module_grades['final_grade'] <= 40]['final_grade'].count())\n",
    "stats[\"zeros\"] = int(module_grades[module_grades['final_grade'] == 0]['final_grade'].count())\n",
    "\n",
    "output[\"stats\"] = stats"
   ]
  },
  {
   "cell_type": "code",
   "execution_count": 6,
   "metadata": {},
   "outputs": [
    {
     "data": {
      "text/html": [
       "<div>\n",
       "<table border=\"1\" class=\"dataframe\">\n",
       "  <thead>\n",
       "    <tr style=\"text-align: right;\">\n",
       "      <th></th>\n",
       "      <th>#01</th>\n",
       "      <th>#01_weighted</th>\n",
       "      <th>#02</th>\n",
       "      <th>#02_weighted</th>\n",
       "      <th>final_grade</th>\n",
       "      <th>average_grade</th>\n",
       "    </tr>\n",
       "    <tr>\n",
       "      <th>user</th>\n",
       "      <th></th>\n",
       "      <th></th>\n",
       "      <th></th>\n",
       "      <th></th>\n",
       "      <th></th>\n",
       "      <th></th>\n",
       "    </tr>\n",
       "  </thead>\n",
       "  <tbody>\n",
       "    <tr>\n",
       "      <th>0a628068de9c2a70f8685e318f5dbd07badc53704c8d7655949fda7415f195ec98c3a4d43e3957661f2fd0fce73b4814b58cf552cd35d1865cf6bf42f3e69565</th>\n",
       "      <td>96.0</td>\n",
       "      <td>76.8</td>\n",
       "      <td>89</td>\n",
       "      <td>17.8</td>\n",
       "      <td>94.6</td>\n",
       "      <td>79.8</td>\n",
       "    </tr>\n",
       "    <tr>\n",
       "      <th>0a6d48869596d53488f8838878198bf3caac38548d83ad7e14734297de4253f8199a814b7db1bab6091835250c7bdcc75acc14a1572f112a3967c79b1503013e</th>\n",
       "      <td>64.0</td>\n",
       "      <td>51.2</td>\n",
       "      <td>95</td>\n",
       "      <td>19.0</td>\n",
       "      <td>70.2</td>\n",
       "      <td>54.0</td>\n",
       "    </tr>\n",
       "    <tr>\n",
       "      <th>0a8e012a21baf4c32928caa65c149c2afd8a970a7a28820b215decefbe66778c28ae0af71c47544033919fb74846139140f9ec20dd5d8350cd3bcef2155391ff</th>\n",
       "      <td>85.0</td>\n",
       "      <td>68.0</td>\n",
       "      <td>83</td>\n",
       "      <td>16.6</td>\n",
       "      <td>84.6</td>\n",
       "      <td>20.2</td>\n",
       "    </tr>\n",
       "    <tr>\n",
       "      <th>18e4e11be10aaf08723ffb8f2f731ffb96d9ebdc5f38368f4b2f1e46b5f85a919d3f60d2daafcb07ead56fe24bfa63f6d13eff337a1e5f0b550c609e918bd8dc</th>\n",
       "      <td>79.0</td>\n",
       "      <td>63.2</td>\n",
       "      <td>87</td>\n",
       "      <td>17.4</td>\n",
       "      <td>80.6</td>\n",
       "      <td>28.4</td>\n",
       "    </tr>\n",
       "    <tr>\n",
       "      <th>1a70e13e29d382e20adf383c93d02fed2bf9b1855867b0d22415c983e81e7750f6da13abf1523d908362d4a5c8faff44b303f1c6b1572f0acf2013608633fc02</th>\n",
       "      <td>95.0</td>\n",
       "      <td>76.0</td>\n",
       "      <td>91</td>\n",
       "      <td>18.2</td>\n",
       "      <td>94.2</td>\n",
       "      <td>4.1</td>\n",
       "    </tr>\n",
       "  </tbody>\n",
       "</table>\n",
       "</div>"
      ],
      "text/plain": [
       "                                                     #01  #01_weighted  #02  \\\n",
       "user                                                                          \n",
       "0a628068de9c2a70f8685e318f5dbd07badc53704c8d765...  96.0          76.8   89   \n",
       "0a6d48869596d53488f8838878198bf3caac38548d83ad7...  64.0          51.2   95   \n",
       "0a8e012a21baf4c32928caa65c149c2afd8a970a7a28820...  85.0          68.0   83   \n",
       "18e4e11be10aaf08723ffb8f2f731ffb96d9ebdc5f38368...  79.0          63.2   87   \n",
       "1a70e13e29d382e20adf383c93d02fed2bf9b1855867b0d...  95.0          76.0   91   \n",
       "\n",
       "                                                    #02_weighted  final_grade  \\\n",
       "user                                                                            \n",
       "0a628068de9c2a70f8685e318f5dbd07badc53704c8d765...          17.8         94.6   \n",
       "0a6d48869596d53488f8838878198bf3caac38548d83ad7...          19.0         70.2   \n",
       "0a8e012a21baf4c32928caa65c149c2afd8a970a7a28820...          16.6         84.6   \n",
       "18e4e11be10aaf08723ffb8f2f731ffb96d9ebdc5f38368...          17.4         80.6   \n",
       "1a70e13e29d382e20adf383c93d02fed2bf9b1855867b0d...          18.2         94.2   \n",
       "\n",
       "                                                    average_grade  \n",
       "user                                                               \n",
       "0a628068de9c2a70f8685e318f5dbd07badc53704c8d765...           79.8  \n",
       "0a6d48869596d53488f8838878198bf3caac38548d83ad7...           54.0  \n",
       "0a8e012a21baf4c32928caa65c149c2afd8a970a7a28820...           20.2  \n",
       "18e4e11be10aaf08723ffb8f2f731ffb96d9ebdc5f38368...           28.4  \n",
       "1a70e13e29d382e20adf383c93d02fed2bf9b1855867b0d...            4.1  "
      ]
     },
     "execution_count": 6,
     "metadata": {},
     "output_type": "execute_result"
    }
   ],
   "source": [
    "# random average grades for now\n",
    "average_grades = pd.DataFrame((np.random.random_sample(module_grades.shape[0]) * 100).round(1), columns=['average_grade'], index=module_grades.index)\n",
    "compare_grades = module_grades.merge(average_grades, left_index=True, right_index=True)\n",
    "\n",
    "# compare_grades = average_grades.to_frame().merge(grades['grade'].to_frame(), left_index=True, right_index=True, sort=True)\n",
    "compare_grades.head()"
   ]
  },
  {
   "cell_type": "code",
   "execution_count": 12,
   "metadata": {},
   "outputs": [
    {
     "data": {
      "application/vnd.vegalite.v2+json": {
       "$schema": "https://vega.github.io/schema/vega-lite/v2.0.json",
       "data": {
        "values": [
         {
          "#01": 96,
          "#01_weighted": 76.80000000000001,
          "#02": 89,
          "#02_weighted": 17.8,
          "average_grade": 79.8,
          "final_grade": 94.60000000000001
         },
         {
          "#01": 64,
          "#01_weighted": 51.2,
          "#02": 95,
          "#02_weighted": 19,
          "average_grade": 54,
          "final_grade": 70.2
         },
         {
          "#01": 85,
          "#01_weighted": 68,
          "#02": 83,
          "#02_weighted": 16.6,
          "average_grade": 20.2,
          "final_grade": 84.6
         },
         {
          "#01": 79,
          "#01_weighted": 63.2,
          "#02": 87,
          "#02_weighted": 17.400000000000002,
          "average_grade": 28.4,
          "final_grade": 80.60000000000001
         },
         {
          "#01": 95,
          "#01_weighted": 76,
          "#02": 91,
          "#02_weighted": 18.2,
          "average_grade": 4.1,
          "final_grade": 94.2
         },
         {
          "#01": 19,
          "#01_weighted": 15.200000000000001,
          "#02": 73,
          "#02_weighted": 14.600000000000001,
          "average_grade": 2.6,
          "final_grade": 29.800000000000004
         },
         {
          "#01": 33,
          "#01_weighted": 26.400000000000002,
          "#02": 68,
          "#02_weighted": 13.600000000000001,
          "average_grade": 51.4,
          "final_grade": 40
         },
         {
          "#01": 60,
          "#01_weighted": 48,
          "#02": 62,
          "#02_weighted": 12.4,
          "average_grade": 89.2,
          "final_grade": 60.4
         },
         {
          "#01": 17,
          "#01_weighted": 13.600000000000001,
          "#02": 0,
          "#02_weighted": 0,
          "average_grade": 50.4,
          "final_grade": 13.600000000000001
         },
         {
          "#01": 100,
          "#01_weighted": 80,
          "#02": 93,
          "#02_weighted": 18.6,
          "average_grade": 17.4,
          "final_grade": 98.6
         },
         {
          "#01": 64,
          "#01_weighted": 51.2,
          "#02": 69,
          "#02_weighted": 13.8,
          "average_grade": 64.1,
          "final_grade": 65
         },
         {
          "#01": 58,
          "#01_weighted": 46.400000000000006,
          "#02": 82,
          "#02_weighted": 16.400000000000002,
          "average_grade": 49.3,
          "final_grade": 62.80000000000001
         },
         {
          "#01": 73,
          "#01_weighted": 58.400000000000006,
          "#02": 77,
          "#02_weighted": 15.4,
          "average_grade": 71.5,
          "final_grade": 73.80000000000001
         },
         {
          "#01": 79,
          "#01_weighted": 63.2,
          "#02": 79,
          "#02_weighted": 15.8,
          "average_grade": 10.7,
          "final_grade": 79
         },
         {
          "#01": 0,
          "#01_weighted": 0,
          "#02": 0,
          "#02_weighted": 0,
          "average_grade": 15.1,
          "final_grade": 0
         },
         {
          "#01": 93,
          "#01_weighted": 74.4,
          "#02": 90,
          "#02_weighted": 18,
          "average_grade": 35.8,
          "final_grade": 92.4
         },
         {
          "#01": 0,
          "#01_weighted": 0,
          "#02": 0,
          "#02_weighted": 0,
          "average_grade": 88.5,
          "final_grade": 0
         },
         {
          "#01": 90,
          "#01_weighted": 72,
          "#02": 77,
          "#02_weighted": 15.4,
          "average_grade": 60.1,
          "final_grade": 87.4
         },
         {
          "#01": 95,
          "#01_weighted": 76,
          "#02": 88,
          "#02_weighted": 17.6,
          "average_grade": 98.2,
          "final_grade": 93.6
         },
         {
          "#01": 78,
          "#01_weighted": 62.400000000000006,
          "#02": 79,
          "#02_weighted": 15.8,
          "average_grade": 2.4,
          "final_grade": 78.2
         },
         {
          "#01": 86,
          "#01_weighted": 68.8,
          "#02": 75,
          "#02_weighted": 15,
          "average_grade": 65,
          "final_grade": 83.8
         },
         {
          "#01": 72,
          "#01_weighted": 57.6,
          "#02": 75,
          "#02_weighted": 15,
          "average_grade": 76.9,
          "final_grade": 72.6
         },
         {
          "#01": 52,
          "#01_weighted": 41.6,
          "#02": 88,
          "#02_weighted": 17.6,
          "average_grade": 13.4,
          "final_grade": 59.2
         },
         {
          "#01": 78,
          "#01_weighted": 62.400000000000006,
          "#02": 77,
          "#02_weighted": 15.4,
          "average_grade": 43.4,
          "final_grade": 77.80000000000001
         },
         {
          "#01": 74,
          "#01_weighted": 59.2,
          "#02": 89,
          "#02_weighted": 17.8,
          "average_grade": 99.3,
          "final_grade": 77
         },
         {
          "#01": 84,
          "#01_weighted": 67.2,
          "#02": 77,
          "#02_weighted": 15.4,
          "average_grade": 72.8,
          "final_grade": 82.60000000000001
         },
         {
          "#01": 27,
          "#01_weighted": 21.6,
          "#02": 0,
          "#02_weighted": 0,
          "average_grade": 46.4,
          "final_grade": 21.6
         },
         {
          "#01": 93,
          "#01_weighted": 74.4,
          "#02": 88,
          "#02_weighted": 17.6,
          "average_grade": 3.3,
          "final_grade": 92
         },
         {
          "#01": 89,
          "#01_weighted": 71.2,
          "#02": 82,
          "#02_weighted": 16.400000000000002,
          "average_grade": 75.8,
          "final_grade": 87.60000000000001
         },
         {
          "#01": 92,
          "#01_weighted": 73.60000000000001,
          "#02": 77,
          "#02_weighted": 15.4,
          "average_grade": 14.3,
          "final_grade": 89.00000000000001
         },
         {
          "#01": 66,
          "#01_weighted": 52.800000000000004,
          "#02": 83,
          "#02_weighted": 16.6,
          "average_grade": 67.1,
          "final_grade": 69.4
         },
         {
          "#01": 76,
          "#01_weighted": 60.800000000000004,
          "#02": 88,
          "#02_weighted": 17.6,
          "average_grade": 82.7,
          "final_grade": 78.4
         },
         {
          "#01": 90,
          "#01_weighted": 72,
          "#02": 77,
          "#02_weighted": 15.4,
          "average_grade": 81.1,
          "final_grade": 87.4
         },
         {
          "#01": 57,
          "#01_weighted": 45.6,
          "#02": 65,
          "#02_weighted": 13,
          "average_grade": 74.6,
          "final_grade": 58.6
         },
         {
          "#01": 83,
          "#01_weighted": 66.4,
          "#02": 62,
          "#02_weighted": 12.4,
          "average_grade": 70,
          "final_grade": 78.80000000000001
         },
         {
          "#01": 78,
          "#01_weighted": 62.400000000000006,
          "#02": 82,
          "#02_weighted": 16.400000000000002,
          "average_grade": 10.6,
          "final_grade": 78.80000000000001
         },
         {
          "#01": 78,
          "#01_weighted": 62.400000000000006,
          "#02": 82,
          "#02_weighted": 16.400000000000002,
          "average_grade": 61.6,
          "final_grade": 78.80000000000001
         },
         {
          "#01": 70,
          "#01_weighted": 56,
          "#02": 84,
          "#02_weighted": 16.8,
          "average_grade": 81.7,
          "final_grade": 72.8
         },
         {
          "#01": 81,
          "#01_weighted": 64.8,
          "#02": 77,
          "#02_weighted": 15.4,
          "average_grade": 88.5,
          "final_grade": 80.2
         },
         {
          "#01": 67,
          "#01_weighted": 53.6,
          "#02": 62,
          "#02_weighted": 12.4,
          "average_grade": 57.9,
          "final_grade": 66
         },
         {
          "#01": 72,
          "#01_weighted": 57.6,
          "#02": 75,
          "#02_weighted": 15,
          "average_grade": 39.6,
          "final_grade": 72.6
         },
         {
          "#01": 89,
          "#01_weighted": 71.2,
          "#02": 74,
          "#02_weighted": 14.8,
          "average_grade": 15.2,
          "final_grade": 86
         },
         {
          "#01": 78,
          "#01_weighted": 62.400000000000006,
          "#02": 75,
          "#02_weighted": 15,
          "average_grade": 81.7,
          "final_grade": 77.4
         },
         {
          "#01": 89,
          "#01_weighted": 71.2,
          "#02": 85,
          "#02_weighted": 17,
          "average_grade": 28.5,
          "final_grade": 88.2
         },
         {
          "#01": 70,
          "#01_weighted": 56,
          "#02": 74,
          "#02_weighted": 14.8,
          "average_grade": 87.9,
          "final_grade": 70.8
         },
         {
          "#01": 63,
          "#01_weighted": 50.400000000000006,
          "#02": 77,
          "#02_weighted": 15.4,
          "average_grade": 81.6,
          "final_grade": 65.80000000000001
         },
         {
          "#01": 54,
          "#01_weighted": 43.2,
          "#02": 80,
          "#02_weighted": 16,
          "average_grade": 67.8,
          "final_grade": 59.2
         },
         {
          "#01": 66,
          "#01_weighted": 52.800000000000004,
          "#02": 75,
          "#02_weighted": 15,
          "average_grade": 36.5,
          "final_grade": 67.80000000000001
         },
         {
          "#01": 54,
          "#01_weighted": 43.2,
          "#02": 87,
          "#02_weighted": 17.400000000000002,
          "average_grade": 63.1,
          "final_grade": 60.60000000000001
         },
         {
          "#01": 65,
          "#01_weighted": 52,
          "#02": 83,
          "#02_weighted": 16.6,
          "average_grade": 36.2,
          "final_grade": 68.6
         },
         {
          "#01": 78,
          "#01_weighted": 62.400000000000006,
          "#02": 88,
          "#02_weighted": 17.6,
          "average_grade": 30.5,
          "final_grade": 80
         },
         {
          "#01": 72,
          "#01_weighted": 57.6,
          "#02": 69,
          "#02_weighted": 13.8,
          "average_grade": 82.3,
          "final_grade": 71.4
         },
         {
          "#01": 89,
          "#01_weighted": 71.2,
          "#02": 85,
          "#02_weighted": 17,
          "average_grade": 4.8,
          "final_grade": 88.2
         },
         {
          "#01": 29,
          "#01_weighted": 23.200000000000003,
          "#02": 76,
          "#02_weighted": 15.200000000000001,
          "average_grade": 83.6,
          "final_grade": 38.400000000000006
         },
         {
          "#01": 77,
          "#01_weighted": 61.6,
          "#02": 77,
          "#02_weighted": 15.4,
          "average_grade": 37.9,
          "final_grade": 77
         },
         {
          "#01": 3,
          "#01_weighted": 2.4000000000000004,
          "#02": 0,
          "#02_weighted": 0,
          "average_grade": 88.8,
          "final_grade": 2.4000000000000004
         },
         {
          "#01": 53,
          "#01_weighted": 42.400000000000006,
          "#02": 90,
          "#02_weighted": 18,
          "average_grade": 79.7,
          "final_grade": 60.400000000000006
         },
         {
          "#01": 61,
          "#01_weighted": 48.800000000000004,
          "#02": 61,
          "#02_weighted": 12.200000000000001,
          "average_grade": 50,
          "final_grade": 61.00000000000001
         },
         {
          "#01": 73,
          "#01_weighted": 58.400000000000006,
          "#02": 77,
          "#02_weighted": 15.4,
          "average_grade": 84.2,
          "final_grade": 73.80000000000001
         },
         {
          "#01": 33,
          "#01_weighted": 26.400000000000002,
          "#02": 62,
          "#02_weighted": 12.4,
          "average_grade": 7.3,
          "final_grade": 38.800000000000004
         },
         {
          "#01": 3,
          "#01_weighted": 2.4000000000000004,
          "#02": 0,
          "#02_weighted": 0,
          "average_grade": 67.5,
          "final_grade": 2.4000000000000004
         },
         {
          "#01": 55,
          "#01_weighted": 44,
          "#02": 62,
          "#02_weighted": 12.4,
          "average_grade": 85.9,
          "final_grade": 56.4
         },
         {
          "#01": 85,
          "#01_weighted": 68,
          "#02": 86,
          "#02_weighted": 17.2,
          "average_grade": 86,
          "final_grade": 85.2
         },
         {
          "#01": 66,
          "#01_weighted": 52.800000000000004,
          "#02": 74,
          "#02_weighted": 14.8,
          "average_grade": 90.3,
          "final_grade": 67.60000000000001
         },
         {
          "#01": 63,
          "#01_weighted": 50.400000000000006,
          "#02": 92,
          "#02_weighted": 18.400000000000002,
          "average_grade": 52.9,
          "final_grade": 68.80000000000001
         },
         {
          "#01": 96,
          "#01_weighted": 76.80000000000001,
          "#02": 85,
          "#02_weighted": 17,
          "average_grade": 44.9,
          "final_grade": 93.80000000000001
         },
         {
          "#01": 57,
          "#01_weighted": 45.6,
          "#02": 91,
          "#02_weighted": 18.2,
          "average_grade": 34.2,
          "final_grade": 63.8
         },
         {
          "#01": 92,
          "#01_weighted": 73.60000000000001,
          "#02": 89,
          "#02_weighted": 17.8,
          "average_grade": 21.2,
          "final_grade": 91.4
         },
         {
          "#01": 94,
          "#01_weighted": 75.2,
          "#02": 92,
          "#02_weighted": 18.400000000000002,
          "average_grade": 62.8,
          "final_grade": 93.60000000000001
         },
         {
          "#01": 73,
          "#01_weighted": 58.400000000000006,
          "#02": 93,
          "#02_weighted": 18.6,
          "average_grade": 50.6,
          "final_grade": 77
         }
        ]
       },
       "height": 400,
       "layer": [
        {
         "encoding": {
          "x": {
           "axis": {
            "title": "Average Grade"
           },
           "field": "average_grade",
           "type": "quantitative"
          },
          "y": {
           "axis": {
            "title": "Module grade"
           },
           "field": "final_grade",
           "typs": "quantitative"
          }
         },
         "mark": "circle"
        },
        {
         "encoding": {
          "color": {
           "value": "red"
          },
          "size": {
           "value": 1
          },
          "x": {
           "value": 0
          },
          "y": {
           "value": 400
          }
         },
         "mark": "rule"
        }
       ],
       "title": "Module performance comparison",
       "width": 800
      }
     },
     "metadata": {},
     "output_type": "display_data"
    }
   ],
   "source": [
    "chart = VegaLite({\n",
    "    \"$schema\": \"https://vega.github.io/schema/vega-lite/v2.0.json\",\n",
    "    \"title\": \"Module performance comparison\",\n",
    "    \"height\": height,\n",
    "    \"width\": width,\n",
    "    \"layer\": [\n",
    "        {\n",
    "            \"mark\": \"circle\",\n",
    "            \"encoding\": {\n",
    "                \"x\": {\n",
    "                    \"field\": \"average_grade\",\n",
    "                    \"type\": \"quantitative\",\n",
    "                    \"axis\": {\n",
    "                        \"title\": \"Average Grade\"\n",
    "                    }\n",
    "                },\n",
    "                \"y\": {\n",
    "                    \"field\": \"final_grade\", \n",
    "                    \"typs\": \"quantitative\",\n",
    "                    \"axis\": {\n",
    "                        \"title\": \"Module grade\"\n",
    "                    }\n",
    "                }\n",
    "            }\n",
    "        },\n",
    "        {\n",
    "            \"mark\": \"rule\",\n",
    "            \"encoding\": {\n",
    "                \"x\": {\n",
    "                    \"value\": 0\n",
    "                },\n",
    "                \"y\": {\n",
    "                    \"value\": height\n",
    "                },\n",
    "                \"size\": {\n",
    "                    \"value\": 1\n",
    "                },\n",
    "                \"color\": {\n",
    "                    \"value\": \"red\"\n",
    "                }\n",
    "            }\n",
    "        }\n",
    "    ]\n",
    "}, compare_grades)\n",
    "\n",
    "output[\"compare\"] = chart.spec\n",
    "display_vg(chart.spec)"
   ]
  },
  {
   "cell_type": "code",
   "execution_count": 13,
   "metadata": {},
   "outputs": [],
   "source": [
    "save_file(\"../data/generated/{0}.json\".format(module), json.dumps(output))\n",
    "# output"
   ]
  },
  {
   "cell_type": "code",
   "execution_count": null,
   "metadata": {},
   "outputs": [],
   "source": []
  }
 ],
 "metadata": {
  "kernelspec": {
   "display_name": "Python 3",
   "language": "python",
   "name": "python3"
  },
  "language_info": {
   "codemirror_mode": {
    "name": "ipython",
    "version": 3
   },
   "file_extension": ".py",
   "mimetype": "text/x-python",
   "name": "python",
   "nbconvert_exporter": "python",
   "pygments_lexer": "ipython3",
   "version": "3.6.3"
  }
 },
 "nbformat": 4,
 "nbformat_minor": 2
}
