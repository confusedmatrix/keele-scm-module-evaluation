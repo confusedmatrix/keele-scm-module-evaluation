{
 "cells": [
  {
   "cell_type": "code",
   "execution_count": 1,
   "metadata": {},
   "outputs": [],
   "source": [
    "import pandas as pd\n",
    "import numpy as np\n",
    "import os\n",
    "import json\n",
    "import re\n",
    "from hashlib import sha512\n",
    "from vega import VegaLite\n",
    "from wordcloud import WordCloud\n",
    "from IPython.display import display\n",
    "\n",
    "def display_vg(spec):\n",
    "    bundle = {}\n",
    "    bundle['application/vnd.vegalite.v2+json'] = spec\n",
    "    display(bundle, raw=True)\n",
    "    \n",
    "def mkdir(directory):\n",
    "    \"\"\"\n",
    "    :param string directory: \n",
    "    :return: \n",
    "    \"\"\"\n",
    "    try:\n",
    "        os.mkdir(directory)\n",
    "    except FileExistsError:\n",
    "        pass\n",
    "    \n",
    "def save_file(file_name, data):\n",
    "    with open(file_name, \"w\") as f:\n",
    "        f.write(data)\n",
    "        "
   ]
  },
  {
   "cell_type": "code",
   "execution_count": 2,
   "metadata": {},
   "outputs": [],
   "source": [
    "mkdir(\"../data/generated/\")\n",
    "mkdir(\"../data/generated/images\")"
   ]
  },
  {
   "cell_type": "code",
   "execution_count": 3,
   "metadata": {},
   "outputs": [
    {
     "data": {
      "text/plain": [
       "['CSC-10032']"
      ]
     },
     "execution_count": 3,
     "metadata": {},
     "output_type": "execute_result"
    }
   ],
   "source": [
    "def get_modules(root):\n",
    "    modules = [item for item in os.listdir(root) if os.path.isdir(os.path.join(root, item))]\n",
    "    \n",
    "    return modules\n",
    "\n",
    "modules = get_modules(\"../data/raw/modules\")\n",
    "\n",
    "modules"
   ]
  },
  {
   "cell_type": "code",
   "execution_count": 4,
   "metadata": {},
   "outputs": [
    {
     "name": "stdout",
     "output_type": "stream",
     "text": [
      "CSC-10032\n",
      "[0.5, 0.5]\n"
     ]
    },
    {
     "data": {
      "text/html": [
       "<div>\n",
       "<style scoped>\n",
       "    .dataframe tbody tr th:only-of-type {\n",
       "        vertical-align: middle;\n",
       "    }\n",
       "\n",
       "    .dataframe tbody tr th {\n",
       "        vertical-align: top;\n",
       "    }\n",
       "\n",
       "    .dataframe thead th {\n",
       "        text-align: right;\n",
       "    }\n",
       "</style>\n",
       "<table border=\"1\" class=\"dataframe\">\n",
       "  <thead>\n",
       "    <tr style=\"text-align: right;\">\n",
       "      <th></th>\n",
       "      <th>#01</th>\n",
       "      <th>#01_weighted</th>\n",
       "      <th>#02</th>\n",
       "      <th>#02_weighted</th>\n",
       "      <th>final_grade</th>\n",
       "    </tr>\n",
       "    <tr>\n",
       "      <th>user</th>\n",
       "      <th></th>\n",
       "      <th></th>\n",
       "      <th></th>\n",
       "      <th></th>\n",
       "      <th></th>\n",
       "    </tr>\n",
       "  </thead>\n",
       "  <tbody>\n",
       "    <tr>\n",
       "      <th>13015197</th>\n",
       "      <td>0.0</td>\n",
       "      <td>0.0</td>\n",
       "      <td>0.0</td>\n",
       "      <td>0.0</td>\n",
       "      <td>0.0</td>\n",
       "    </tr>\n",
       "    <tr>\n",
       "      <th>14011845</th>\n",
       "      <td>86.0</td>\n",
       "      <td>43.0</td>\n",
       "      <td>83.0</td>\n",
       "      <td>41.5</td>\n",
       "      <td>84.5</td>\n",
       "    </tr>\n",
       "    <tr>\n",
       "      <th>15010954</th>\n",
       "      <td>72.0</td>\n",
       "      <td>36.0</td>\n",
       "      <td>62.0</td>\n",
       "      <td>31.0</td>\n",
       "      <td>67.0</td>\n",
       "    </tr>\n",
       "    <tr>\n",
       "      <th>15011855</th>\n",
       "      <td>34.0</td>\n",
       "      <td>17.0</td>\n",
       "      <td>67.0</td>\n",
       "      <td>33.5</td>\n",
       "      <td>50.5</td>\n",
       "    </tr>\n",
       "    <tr>\n",
       "      <th>15014342</th>\n",
       "      <td>73.0</td>\n",
       "      <td>36.5</td>\n",
       "      <td>91.0</td>\n",
       "      <td>45.5</td>\n",
       "      <td>82.0</td>\n",
       "    </tr>\n",
       "  </tbody>\n",
       "</table>\n",
       "</div>"
      ],
      "text/plain": [
       "           #01  #01_weighted   #02  #02_weighted  final_grade\n",
       "user                                                         \n",
       "13015197   0.0           0.0   0.0           0.0          0.0\n",
       "14011845  86.0          43.0  83.0          41.5         84.5\n",
       "15010954  72.0          36.0  62.0          31.0         67.0\n",
       "15011855  34.0          17.0  67.0          33.5         50.5\n",
       "15014342  73.0          36.5  91.0          45.5         82.0"
      ]
     },
     "execution_count": 4,
     "metadata": {},
     "output_type": "execute_result"
    }
   ],
   "source": [
    "module = \"CSC-10032\"\n",
    "print(module)\n",
    "# mkdir(\"../data/generated/images/{0}\".format(module))\n",
    "\n",
    "output = {}\n",
    "output[\"module_code\"] = module\n",
    "\n",
    "def get_grades(module):\n",
    "    file = '../data/raw/modules/{0}/grades.csv'.format(module)\n",
    "    with open(file, \"r\") as f:\n",
    "        fline = f.readline()\n",
    "        assessment_weights = [int(weight)/100 for weight in re.findall(r\"\\((.*?)%\\)\", fline)]\n",
    "        \n",
    "    grades = pd.read_csv(file, skiprows=[0])\n",
    "    grades = grades[['#Ass#', 'Mark', '#Cand Key']]\n",
    "    grades.columns = ['ass', 'grade', 'user']\n",
    "#     grades['user'] = grades['user'].str.replace(r'#|/[0-9]', '').apply(lambda u: sha512(u.encode('utf-8')).hexdigest())\n",
    "    grades['user'] = grades['user'].str.replace(r'#|/[0-9]', '').astype('int')\n",
    "    grades = grades.set_index('user')\n",
    "\n",
    "    assessments = grades['ass'].unique()\n",
    "    module_grades = pd.DataFrame([], index=grades.index.unique())\n",
    "\n",
    "    for k, ass in enumerate(assessments):\n",
    "        assessment_grades = grades[grades['ass'] == ass]['grade'].to_frame()\n",
    "        assessment_grades.columns = [ass]\n",
    "        assessment_grades['{0}_weighted'.format(ass)] = assessment_grades[ass] * assessment_weights[k]\n",
    "        module_grades = module_grades.merge(assessment_grades, left_index=True, right_index=True, how=\"outer\")\n",
    "\n",
    "    module_grades = module_grades.fillna(0)\n",
    "    module_grades['final_grade'] = module_grades.filter(regex=\"_weighted\").sum(axis=1)\n",
    "    \n",
    "    return module_grades, assessment_weights\n",
    "\n",
    "def get_year_and_semester(module):\n",
    "    file = '../data/raw/modules/{0}/grades.csv'.format(module)\n",
    "    grades = pd.read_csv(file, skiprows=[0])\n",
    "    \n",
    "    return (grades.iloc[0]['Year'], grades.iloc[0]['Period'])\n",
    "\n",
    "year, semester = get_year_and_semester(module)\n",
    "output[\"year\"] = year\n",
    "output[\"semester\"] = re.sub(r\"SEM\", \"\", semester)\n",
    "module_grades, weights = get_grades(module)\n",
    "\n",
    "output[\"num_students\"] = module_grades.shape[0]\n",
    "print(weights)\n",
    "module_grades.head()"
   ]
  },
  {
   "cell_type": "code",
   "execution_count": 5,
   "metadata": {},
   "outputs": [
    {
     "data": {
      "application/vnd.vegalite.v2+json": {
       "$schema": "https://vega.github.io/schema/vega-lite/v2.0.json",
       "data": {
        "values": [
         {
          "#01": 0,
          "#01_weighted": 0,
          "#02": 0,
          "#02_weighted": 0,
          "final_grade": 0
         },
         {
          "#01": 86,
          "#01_weighted": 43,
          "#02": 83,
          "#02_weighted": 41.5,
          "final_grade": 84.5
         },
         {
          "#01": 72,
          "#01_weighted": 36,
          "#02": 62,
          "#02_weighted": 31,
          "final_grade": 67
         },
         {
          "#01": 34,
          "#01_weighted": 17,
          "#02": 67,
          "#02_weighted": 33.5,
          "final_grade": 50.5
         },
         {
          "#01": 73,
          "#01_weighted": 36.5,
          "#02": 91,
          "#02_weighted": 45.5,
          "final_grade": 82
         },
         {
          "#01": 85,
          "#01_weighted": 42.5,
          "#02": 78,
          "#02_weighted": 39,
          "final_grade": 81.5
         },
         {
          "#01": 0,
          "#01_weighted": 0,
          "#02": 60,
          "#02_weighted": 30,
          "final_grade": 30
         },
         {
          "#01": 0,
          "#01_weighted": 0,
          "#02": 52,
          "#02_weighted": 26,
          "final_grade": 26
         },
         {
          "#01": 52,
          "#01_weighted": 26,
          "#02": 50,
          "#02_weighted": 25,
          "final_grade": 51
         },
         {
          "#01": 0,
          "#01_weighted": 0,
          "#02": 0,
          "#02_weighted": 0,
          "final_grade": 0
         },
         {
          "#01": 69,
          "#01_weighted": 34.5,
          "#02": 65,
          "#02_weighted": 32.5,
          "final_grade": 67
         },
         {
          "#01": 84,
          "#01_weighted": 42,
          "#02": 91,
          "#02_weighted": 45.5,
          "final_grade": 87.5
         },
         {
          "#01": 51,
          "#01_weighted": 25.5,
          "#02": 53,
          "#02_weighted": 26.5,
          "final_grade": 52
         },
         {
          "#01": 51,
          "#01_weighted": 25.5,
          "#02": 75,
          "#02_weighted": 37.5,
          "final_grade": 63
         },
         {
          "#01": 58,
          "#01_weighted": 29,
          "#02": 80,
          "#02_weighted": 40,
          "final_grade": 69
         },
         {
          "#01": 85,
          "#01_weighted": 42.5,
          "#02": 79,
          "#02_weighted": 39.5,
          "final_grade": 82
         },
         {
          "#01": 84,
          "#01_weighted": 42,
          "#02": 83,
          "#02_weighted": 41.5,
          "final_grade": 83.5
         },
         {
          "#01": 55,
          "#01_weighted": 27.5,
          "#02": 83,
          "#02_weighted": 41.5,
          "final_grade": 69
         },
         {
          "#01": 94,
          "#01_weighted": 47,
          "#02": 87,
          "#02_weighted": 43.5,
          "final_grade": 90.5
         },
         {
          "#01": 78,
          "#01_weighted": 39,
          "#02": 94,
          "#02_weighted": 47,
          "final_grade": 86
         },
         {
          "#01": 75,
          "#01_weighted": 37.5,
          "#02": 77,
          "#02_weighted": 38.5,
          "final_grade": 76
         },
         {
          "#01": 62,
          "#01_weighted": 31,
          "#02": 86,
          "#02_weighted": 43,
          "final_grade": 74
         },
         {
          "#01": 51,
          "#01_weighted": 25.5,
          "#02": 61,
          "#02_weighted": 30.5,
          "final_grade": 56
         },
         {
          "#01": 38,
          "#01_weighted": 19,
          "#02": 68,
          "#02_weighted": 34,
          "final_grade": 53
         },
         {
          "#01": 36,
          "#01_weighted": 18,
          "#02": 76,
          "#02_weighted": 38,
          "final_grade": 56
         },
         {
          "#01": 83,
          "#01_weighted": 41.5,
          "#02": 68,
          "#02_weighted": 34,
          "final_grade": 75.5
         },
         {
          "#01": 0,
          "#01_weighted": 0,
          "#02": 69,
          "#02_weighted": 34.5,
          "final_grade": 34.5
         },
         {
          "#01": 8,
          "#01_weighted": 4,
          "#02": 82,
          "#02_weighted": 41,
          "final_grade": 45
         },
         {
          "#01": 79,
          "#01_weighted": 39.5,
          "#02": 91,
          "#02_weighted": 45.5,
          "final_grade": 85
         },
         {
          "#01": 84,
          "#01_weighted": 42,
          "#02": 94,
          "#02_weighted": 47,
          "final_grade": 89
         },
         {
          "#01": 96,
          "#01_weighted": 48,
          "#02": 88,
          "#02_weighted": 44,
          "final_grade": 92
         },
         {
          "#01": 80,
          "#01_weighted": 40,
          "#02": 92,
          "#02_weighted": 46,
          "final_grade": 86
         },
         {
          "#01": 57,
          "#01_weighted": 28.5,
          "#02": 60,
          "#02_weighted": 30,
          "final_grade": 58.5
         },
         {
          "#01": 89,
          "#01_weighted": 44.5,
          "#02": 93,
          "#02_weighted": 46.5,
          "final_grade": 91
         },
         {
          "#01": 83,
          "#01_weighted": 41.5,
          "#02": 93,
          "#02_weighted": 46.5,
          "final_grade": 88
         },
         {
          "#01": 89,
          "#01_weighted": 44.5,
          "#02": 91,
          "#02_weighted": 45.5,
          "final_grade": 90
         },
         {
          "#01": 72,
          "#01_weighted": 36,
          "#02": 66,
          "#02_weighted": 33,
          "final_grade": 69
         },
         {
          "#01": 0,
          "#01_weighted": 0,
          "#02": 0,
          "#02_weighted": 0,
          "final_grade": 0
         },
         {
          "#01": 91,
          "#01_weighted": 45.5,
          "#02": 84,
          "#02_weighted": 42,
          "final_grade": 87.5
         },
         {
          "#01": 83,
          "#01_weighted": 41.5,
          "#02": 44,
          "#02_weighted": 22,
          "final_grade": 63.5
         },
         {
          "#01": 75,
          "#01_weighted": 37.5,
          "#02": 77,
          "#02_weighted": 38.5,
          "final_grade": 76
         },
         {
          "#01": 61,
          "#01_weighted": 30.5,
          "#02": 52,
          "#02_weighted": 26,
          "final_grade": 56.5
         },
         {
          "#01": 80,
          "#01_weighted": 40,
          "#02": 72,
          "#02_weighted": 36,
          "final_grade": 76
         },
         {
          "#01": 89,
          "#01_weighted": 44.5,
          "#02": 87,
          "#02_weighted": 43.5,
          "final_grade": 88
         },
         {
          "#01": 74,
          "#01_weighted": 37,
          "#02": 64,
          "#02_weighted": 32,
          "final_grade": 69
         },
         {
          "#01": 83,
          "#01_weighted": 41.5,
          "#02": 72,
          "#02_weighted": 36,
          "final_grade": 77.5
         },
         {
          "#01": 0,
          "#01_weighted": 0,
          "#02": 0,
          "#02_weighted": 0,
          "final_grade": 0
         },
         {
          "#01": 68,
          "#01_weighted": 34,
          "#02": 61,
          "#02_weighted": 30.5,
          "final_grade": 64.5
         },
         {
          "#01": 65,
          "#01_weighted": 32.5,
          "#02": 95,
          "#02_weighted": 47.5,
          "final_grade": 80
         },
         {
          "#01": 78,
          "#01_weighted": 39,
          "#02": 69,
          "#02_weighted": 34.5,
          "final_grade": 73.5
         },
         {
          "#01": 72,
          "#01_weighted": 36,
          "#02": 82,
          "#02_weighted": 41,
          "final_grade": 77
         },
         {
          "#01": 66,
          "#01_weighted": 33,
          "#02": 50,
          "#02_weighted": 25,
          "final_grade": 58
         },
         {
          "#01": 0,
          "#01_weighted": 0,
          "#02": 78,
          "#02_weighted": 39,
          "final_grade": 39
         },
         {
          "#01": 0,
          "#01_weighted": 0,
          "#02": 0,
          "#02_weighted": 0,
          "final_grade": 0
         },
         {
          "#01": 71,
          "#01_weighted": 35.5,
          "#02": 0,
          "#02_weighted": 0,
          "final_grade": 35.5
         },
         {
          "#01": 78,
          "#01_weighted": 39,
          "#02": 86,
          "#02_weighted": 43,
          "final_grade": 82
         },
         {
          "#01": 87,
          "#01_weighted": 43.5,
          "#02": 80,
          "#02_weighted": 40,
          "final_grade": 83.5
         },
         {
          "#01": 83,
          "#01_weighted": 41.5,
          "#02": 92,
          "#02_weighted": 46,
          "final_grade": 87.5
         },
         {
          "#01": 76,
          "#01_weighted": 38,
          "#02": 83,
          "#02_weighted": 41.5,
          "final_grade": 79.5
         },
         {
          "#01": 78,
          "#01_weighted": 39,
          "#02": 76,
          "#02_weighted": 38,
          "final_grade": 77
         },
         {
          "#01": 91,
          "#01_weighted": 45.5,
          "#02": 70,
          "#02_weighted": 35,
          "final_grade": 80.5
         },
         {
          "#01": 64,
          "#01_weighted": 32,
          "#02": 76,
          "#02_weighted": 38,
          "final_grade": 70
         },
         {
          "#01": 29,
          "#01_weighted": 14.5,
          "#02": 0,
          "#02_weighted": 0,
          "final_grade": 14.5
         },
         {
          "#01": 75,
          "#01_weighted": 37.5,
          "#02": 88,
          "#02_weighted": 44,
          "final_grade": 81.5
         },
         {
          "#01": 40,
          "#01_weighted": 20,
          "#02": 88,
          "#02_weighted": 44,
          "final_grade": 64
         },
         {
          "#01": 75,
          "#01_weighted": 37.5,
          "#02": 81,
          "#02_weighted": 40.5,
          "final_grade": 78
         },
         {
          "#01": 85,
          "#01_weighted": 42.5,
          "#02": 57,
          "#02_weighted": 28.5,
          "final_grade": 71
         },
         {
          "#01": 96,
          "#01_weighted": 48,
          "#02": 80,
          "#02_weighted": 40,
          "final_grade": 88
         },
         {
          "#01": 62,
          "#01_weighted": 31,
          "#02": 68,
          "#02_weighted": 34,
          "final_grade": 65
         },
         {
          "#01": 77,
          "#01_weighted": 38.5,
          "#02": 56,
          "#02_weighted": 28,
          "final_grade": 66.5
         },
         {
          "#01": 72,
          "#01_weighted": 36,
          "#02": 69,
          "#02_weighted": 34.5,
          "final_grade": 70.5
         },
         {
          "#01": 57,
          "#01_weighted": 28.5,
          "#02": 69,
          "#02_weighted": 34.5,
          "final_grade": 63
         },
         {
          "#01": 78,
          "#01_weighted": 39,
          "#02": 87,
          "#02_weighted": 43.5,
          "final_grade": 82.5
         },
         {
          "#01": 94,
          "#01_weighted": 47,
          "#02": 100,
          "#02_weighted": 50,
          "final_grade": 97
         },
         {
          "#01": 73,
          "#01_weighted": 36.5,
          "#02": 88,
          "#02_weighted": 44,
          "final_grade": 80.5
         },
         {
          "#01": 0,
          "#01_weighted": 0,
          "#02": 0,
          "#02_weighted": 0,
          "final_grade": 0
         },
         {
          "#01": 82,
          "#01_weighted": 41,
          "#02": 93,
          "#02_weighted": 46.5,
          "final_grade": 87.5
         },
         {
          "#01": 76,
          "#01_weighted": 38,
          "#02": 84,
          "#02_weighted": 42,
          "final_grade": 80
         },
         {
          "#01": 89,
          "#01_weighted": 44.5,
          "#02": 72,
          "#02_weighted": 36,
          "final_grade": 80.5
         },
         {
          "#01": 41,
          "#01_weighted": 20.5,
          "#02": 38,
          "#02_weighted": 19,
          "final_grade": 39.5
         },
         {
          "#01": 65,
          "#01_weighted": 32.5,
          "#02": 0,
          "#02_weighted": 0,
          "final_grade": 32.5
         },
         {
          "#01": 0,
          "#01_weighted": 0,
          "#02": 0,
          "#02_weighted": 0,
          "final_grade": 0
         },
         {
          "#01": 57,
          "#01_weighted": 28.5,
          "#02": 83,
          "#02_weighted": 41.5,
          "final_grade": 70
         }
        ]
       },
       "height": 400,
       "layer": [
        {
         "encoding": {
          "color": {
           "bin": {
            "step": 10
           },
           "field": "final_grade",
           "legend": null,
           "type": "quantitative"
          },
          "x": {
           "axis": {
            "tickCount": 10,
            "title": "Grade"
           },
           "bin": {
            "step": 10
           },
           "field": "final_grade",
           "scale": {
            "domain": [
             0,
             100
            ]
           },
           "type": "quantitative"
          },
          "y": {
           "aggregate": "count",
           "axis": {
            "title": "Number of students"
           },
           "type": "quantitative"
          }
         },
         "mark": "bar"
        },
        {
         "encoding": {
          "color": {
           "value": "#ccc"
          },
          "size": {
           "value": 2
          },
          "x": {
           "value": 320
          }
         },
         "mark": "rule"
        },
        {
         "encoding": {
          "color": {
           "value": "#ccc"
          },
          "size": {
           "value": 2
          },
          "x": {
           "value": 480
          }
         },
         "mark": "rule"
        }
       ],
       "title": "Final grade histogram",
       "width": 800
      },
      "image/png": "[encoded data removed]"
     },
     "metadata": {},
     "output_type": "display_data"
    }
   ],
   "source": [
    "height = 400\n",
    "width = 800\n",
    "\n",
    "def build_grade_histogram(height, width, data, grade_field, title):\n",
    "    return VegaLite({\n",
    "        \"$schema\": \"https://vega.github.io/schema/vega-lite/v2.0.json\",\n",
    "        \"title\": title,\n",
    "        \"height\": height,\n",
    "        \"width\": width,\n",
    "        \"layer\": [\n",
    "            {\n",
    "                \"mark\": \"bar\",\n",
    "                \"encoding\": {\n",
    "                    \"x\": {\n",
    "                        \"bin\": { \"step\": 10 },\n",
    "                        \"field\": grade_field,\n",
    "                        \"type\": \"quantitative\",\n",
    "                        \"axis\": { \"title\": \"Grade\", \"tickCount\": 10 },\n",
    "                        \"scale\": { \"domain\": [0, 100]}\n",
    "                    },\n",
    "                    \"y\": {\n",
    "                        \"aggregate\": \"count\",\n",
    "                        \"type\": \"quantitative\",\n",
    "                        \"axis\": { \"title\": \"Number of students\" }\n",
    "                    },\n",
    "                    \"color\": {\n",
    "                        \"bin\": { \"step\": 10 },\n",
    "                        \"field\": grade_field,\n",
    "                        \"type\": \"quantitative\",\n",
    "                        \"legend\": None\n",
    "                    }\n",
    "                }\n",
    "            },\n",
    "            {\n",
    "                \"mark\": \"rule\",\n",
    "                \"encoding\": {\n",
    "                    \"x\": {\n",
    "                        \"value\": width/100 * 40\n",
    "                    },\n",
    "                    \"size\": {\n",
    "                        \"value\": 2\n",
    "                    },\n",
    "                    \"color\": {\n",
    "                        \"value\": \"#ccc\"\n",
    "                    }\n",
    "                }\n",
    "            },\n",
    "            {\n",
    "                \"mark\": \"rule\",\n",
    "                \"encoding\": {\n",
    "                    \"x\": {\n",
    "                        \"value\": width/100 * 60\n",
    "                    },\n",
    "                    \"size\": {\n",
    "                        \"value\": 2\n",
    "                    },\n",
    "                    \"color\": {\n",
    "                        \"value\": \"#ccc\"\n",
    "                    }\n",
    "                }\n",
    "            }\n",
    "        ]\n",
    "    }, data)\n",
    "\n",
    "chart = build_grade_histogram(height, width, module_grades, \"final_grade\", \"Final grade histogram\")\n",
    "output[\"hist\"] = chart.spec\n",
    "\n",
    "display_vg(chart.spec)"
   ]
  },
  {
   "cell_type": "code",
   "execution_count": 6,
   "metadata": {},
   "outputs": [
    {
     "data": {
      "text/plain": [
       "{'median': 71.0, 'gte70': 45, 'gte60': 13, 'lte40': 15, 'zeros': 7}"
      ]
     },
     "execution_count": 6,
     "metadata": {},
     "output_type": "execute_result"
    }
   ],
   "source": [
    "def get_grade_stats(grades):\n",
    "    stats = {}\n",
    "    stats[\"median\"] = round(grades['final_grade'].median(), 1)\n",
    "    stats[\"gte70\"] = int(grades[grades['final_grade'] >= 70]['final_grade'].count())\n",
    "    stats[\"gte60\"] = int(grades[grades['final_grade'] >= 60]['final_grade'].count() - stats[\"gte70\"])\n",
    "    stats[\"lte40\"] = int(grades[grades['final_grade'] <= 40]['final_grade'].count())\n",
    "    stats[\"zeros\"] = int(grades[grades['final_grade'] == 0]['final_grade'].count())\n",
    "\n",
    "    return stats\n",
    "\n",
    "output[\"stats\"] = get_grade_stats(module_grades)\n",
    "\n",
    "output[\"stats\"]"
   ]
  },
  {
   "cell_type": "code",
   "execution_count": 7,
   "metadata": {},
   "outputs": [
    {
     "data": {
      "text/html": [
       "<div>\n",
       "<style scoped>\n",
       "    .dataframe tbody tr th:only-of-type {\n",
       "        vertical-align: middle;\n",
       "    }\n",
       "\n",
       "    .dataframe tbody tr th {\n",
       "        vertical-align: top;\n",
       "    }\n",
       "\n",
       "    .dataframe thead th {\n",
       "        text-align: right;\n",
       "    }\n",
       "</style>\n",
       "<table border=\"1\" class=\"dataframe\">\n",
       "  <thead>\n",
       "    <tr style=\"text-align: right;\">\n",
       "      <th></th>\n",
       "      <th>#01</th>\n",
       "      <th>#01_weighted</th>\n",
       "      <th>#02</th>\n",
       "      <th>#02_weighted</th>\n",
       "      <th>final_grade</th>\n",
       "      <th>average_grade</th>\n",
       "    </tr>\n",
       "    <tr>\n",
       "      <th>user</th>\n",
       "      <th></th>\n",
       "      <th></th>\n",
       "      <th></th>\n",
       "      <th></th>\n",
       "      <th></th>\n",
       "      <th></th>\n",
       "    </tr>\n",
       "  </thead>\n",
       "  <tbody>\n",
       "    <tr>\n",
       "      <th>13015197</th>\n",
       "      <td>0.0</td>\n",
       "      <td>0.0</td>\n",
       "      <td>0.0</td>\n",
       "      <td>0.0</td>\n",
       "      <td>0.0</td>\n",
       "      <td>0.0</td>\n",
       "    </tr>\n",
       "    <tr>\n",
       "      <th>14011845</th>\n",
       "      <td>86.0</td>\n",
       "      <td>43.0</td>\n",
       "      <td>83.0</td>\n",
       "      <td>41.5</td>\n",
       "      <td>84.5</td>\n",
       "      <td>84.5</td>\n",
       "    </tr>\n",
       "    <tr>\n",
       "      <th>15010954</th>\n",
       "      <td>72.0</td>\n",
       "      <td>36.0</td>\n",
       "      <td>62.0</td>\n",
       "      <td>31.0</td>\n",
       "      <td>67.0</td>\n",
       "      <td>67.0</td>\n",
       "    </tr>\n",
       "    <tr>\n",
       "      <th>15011855</th>\n",
       "      <td>34.0</td>\n",
       "      <td>17.0</td>\n",
       "      <td>67.0</td>\n",
       "      <td>33.5</td>\n",
       "      <td>50.5</td>\n",
       "      <td>50.5</td>\n",
       "    </tr>\n",
       "    <tr>\n",
       "      <th>15014342</th>\n",
       "      <td>73.0</td>\n",
       "      <td>36.5</td>\n",
       "      <td>91.0</td>\n",
       "      <td>45.5</td>\n",
       "      <td>82.0</td>\n",
       "      <td>82.0</td>\n",
       "    </tr>\n",
       "  </tbody>\n",
       "</table>\n",
       "</div>"
      ],
      "text/plain": [
       "           #01  #01_weighted   #02  #02_weighted  final_grade  average_grade\n",
       "user                                                                        \n",
       "13015197   0.0           0.0   0.0           0.0          0.0            0.0\n",
       "14011845  86.0          43.0  83.0          41.5         84.5           84.5\n",
       "15010954  72.0          36.0  62.0          31.0         67.0           67.0\n",
       "15011855  34.0          17.0  67.0          33.5         50.5           50.5\n",
       "15014342  73.0          36.5  91.0          45.5         82.0           82.0"
      ]
     },
     "execution_count": 7,
     "metadata": {},
     "output_type": "execute_result"
    }
   ],
   "source": [
    "all_grades = [get_grades(module)[0][\"final_grade\"] for module in modules]\n",
    "average_grades = pd.DataFrame(pd.concat(all_grades, axis=1).mean(axis=1), columns=[\"average_grade\"])\n",
    "# random averages\n",
    "# average_grades = pd.DataFrame((np.random.random_sample(module_grades.shape[0]) * 100).round(1), columns=[\"average_grade\"], index=module_grades.index)\n",
    "compare_grades = module_grades.merge(average_grades, left_index=True, right_index=True, how=\"left\")\n",
    "\n",
    "compare_grades.head()"
   ]
  },
  {
   "cell_type": "code",
   "execution_count": 8,
   "metadata": {},
   "outputs": [
    {
     "data": {
      "application/vnd.vegalite.v2+json": {
       "$schema": "https://vega.github.io/schema/vega-lite/v2.0.json",
       "data": {
        "values": [
         {
          "#01": 0,
          "#01_weighted": 0,
          "#02": 0,
          "#02_weighted": 0,
          "average_grade": 0,
          "final_grade": 0
         },
         {
          "#01": 86,
          "#01_weighted": 43,
          "#02": 83,
          "#02_weighted": 41.5,
          "average_grade": 84.5,
          "final_grade": 84.5
         },
         {
          "#01": 72,
          "#01_weighted": 36,
          "#02": 62,
          "#02_weighted": 31,
          "average_grade": 67,
          "final_grade": 67
         },
         {
          "#01": 34,
          "#01_weighted": 17,
          "#02": 67,
          "#02_weighted": 33.5,
          "average_grade": 50.5,
          "final_grade": 50.5
         },
         {
          "#01": 73,
          "#01_weighted": 36.5,
          "#02": 91,
          "#02_weighted": 45.5,
          "average_grade": 82,
          "final_grade": 82
         },
         {
          "#01": 85,
          "#01_weighted": 42.5,
          "#02": 78,
          "#02_weighted": 39,
          "average_grade": 81.5,
          "final_grade": 81.5
         },
         {
          "#01": 0,
          "#01_weighted": 0,
          "#02": 60,
          "#02_weighted": 30,
          "average_grade": 30,
          "final_grade": 30
         },
         {
          "#01": 0,
          "#01_weighted": 0,
          "#02": 52,
          "#02_weighted": 26,
          "average_grade": 26,
          "final_grade": 26
         },
         {
          "#01": 52,
          "#01_weighted": 26,
          "#02": 50,
          "#02_weighted": 25,
          "average_grade": 51,
          "final_grade": 51
         },
         {
          "#01": 0,
          "#01_weighted": 0,
          "#02": 0,
          "#02_weighted": 0,
          "average_grade": 0,
          "final_grade": 0
         },
         {
          "#01": 69,
          "#01_weighted": 34.5,
          "#02": 65,
          "#02_weighted": 32.5,
          "average_grade": 67,
          "final_grade": 67
         },
         {
          "#01": 84,
          "#01_weighted": 42,
          "#02": 91,
          "#02_weighted": 45.5,
          "average_grade": 87.5,
          "final_grade": 87.5
         },
         {
          "#01": 51,
          "#01_weighted": 25.5,
          "#02": 53,
          "#02_weighted": 26.5,
          "average_grade": 52,
          "final_grade": 52
         },
         {
          "#01": 51,
          "#01_weighted": 25.5,
          "#02": 75,
          "#02_weighted": 37.5,
          "average_grade": 63,
          "final_grade": 63
         },
         {
          "#01": 58,
          "#01_weighted": 29,
          "#02": 80,
          "#02_weighted": 40,
          "average_grade": 69,
          "final_grade": 69
         },
         {
          "#01": 85,
          "#01_weighted": 42.5,
          "#02": 79,
          "#02_weighted": 39.5,
          "average_grade": 82,
          "final_grade": 82
         },
         {
          "#01": 84,
          "#01_weighted": 42,
          "#02": 83,
          "#02_weighted": 41.5,
          "average_grade": 83.5,
          "final_grade": 83.5
         },
         {
          "#01": 55,
          "#01_weighted": 27.5,
          "#02": 83,
          "#02_weighted": 41.5,
          "average_grade": 69,
          "final_grade": 69
         },
         {
          "#01": 94,
          "#01_weighted": 47,
          "#02": 87,
          "#02_weighted": 43.5,
          "average_grade": 90.5,
          "final_grade": 90.5
         },
         {
          "#01": 78,
          "#01_weighted": 39,
          "#02": 94,
          "#02_weighted": 47,
          "average_grade": 86,
          "final_grade": 86
         },
         {
          "#01": 75,
          "#01_weighted": 37.5,
          "#02": 77,
          "#02_weighted": 38.5,
          "average_grade": 76,
          "final_grade": 76
         },
         {
          "#01": 62,
          "#01_weighted": 31,
          "#02": 86,
          "#02_weighted": 43,
          "average_grade": 74,
          "final_grade": 74
         },
         {
          "#01": 51,
          "#01_weighted": 25.5,
          "#02": 61,
          "#02_weighted": 30.5,
          "average_grade": 56,
          "final_grade": 56
         },
         {
          "#01": 38,
          "#01_weighted": 19,
          "#02": 68,
          "#02_weighted": 34,
          "average_grade": 53,
          "final_grade": 53
         },
         {
          "#01": 36,
          "#01_weighted": 18,
          "#02": 76,
          "#02_weighted": 38,
          "average_grade": 56,
          "final_grade": 56
         },
         {
          "#01": 83,
          "#01_weighted": 41.5,
          "#02": 68,
          "#02_weighted": 34,
          "average_grade": 75.5,
          "final_grade": 75.5
         },
         {
          "#01": 0,
          "#01_weighted": 0,
          "#02": 69,
          "#02_weighted": 34.5,
          "average_grade": 34.5,
          "final_grade": 34.5
         },
         {
          "#01": 8,
          "#01_weighted": 4,
          "#02": 82,
          "#02_weighted": 41,
          "average_grade": 45,
          "final_grade": 45
         },
         {
          "#01": 79,
          "#01_weighted": 39.5,
          "#02": 91,
          "#02_weighted": 45.5,
          "average_grade": 85,
          "final_grade": 85
         },
         {
          "#01": 84,
          "#01_weighted": 42,
          "#02": 94,
          "#02_weighted": 47,
          "average_grade": 89,
          "final_grade": 89
         },
         {
          "#01": 96,
          "#01_weighted": 48,
          "#02": 88,
          "#02_weighted": 44,
          "average_grade": 92,
          "final_grade": 92
         },
         {
          "#01": 80,
          "#01_weighted": 40,
          "#02": 92,
          "#02_weighted": 46,
          "average_grade": 86,
          "final_grade": 86
         },
         {
          "#01": 57,
          "#01_weighted": 28.5,
          "#02": 60,
          "#02_weighted": 30,
          "average_grade": 58.5,
          "final_grade": 58.5
         },
         {
          "#01": 89,
          "#01_weighted": 44.5,
          "#02": 93,
          "#02_weighted": 46.5,
          "average_grade": 91,
          "final_grade": 91
         },
         {
          "#01": 83,
          "#01_weighted": 41.5,
          "#02": 93,
          "#02_weighted": 46.5,
          "average_grade": 88,
          "final_grade": 88
         },
         {
          "#01": 89,
          "#01_weighted": 44.5,
          "#02": 91,
          "#02_weighted": 45.5,
          "average_grade": 90,
          "final_grade": 90
         },
         {
          "#01": 72,
          "#01_weighted": 36,
          "#02": 66,
          "#02_weighted": 33,
          "average_grade": 69,
          "final_grade": 69
         },
         {
          "#01": 0,
          "#01_weighted": 0,
          "#02": 0,
          "#02_weighted": 0,
          "average_grade": 0,
          "final_grade": 0
         },
         {
          "#01": 91,
          "#01_weighted": 45.5,
          "#02": 84,
          "#02_weighted": 42,
          "average_grade": 87.5,
          "final_grade": 87.5
         },
         {
          "#01": 83,
          "#01_weighted": 41.5,
          "#02": 44,
          "#02_weighted": 22,
          "average_grade": 63.5,
          "final_grade": 63.5
         },
         {
          "#01": 75,
          "#01_weighted": 37.5,
          "#02": 77,
          "#02_weighted": 38.5,
          "average_grade": 76,
          "final_grade": 76
         },
         {
          "#01": 61,
          "#01_weighted": 30.5,
          "#02": 52,
          "#02_weighted": 26,
          "average_grade": 56.5,
          "final_grade": 56.5
         },
         {
          "#01": 80,
          "#01_weighted": 40,
          "#02": 72,
          "#02_weighted": 36,
          "average_grade": 76,
          "final_grade": 76
         },
         {
          "#01": 89,
          "#01_weighted": 44.5,
          "#02": 87,
          "#02_weighted": 43.5,
          "average_grade": 88,
          "final_grade": 88
         },
         {
          "#01": 74,
          "#01_weighted": 37,
          "#02": 64,
          "#02_weighted": 32,
          "average_grade": 69,
          "final_grade": 69
         },
         {
          "#01": 83,
          "#01_weighted": 41.5,
          "#02": 72,
          "#02_weighted": 36,
          "average_grade": 77.5,
          "final_grade": 77.5
         },
         {
          "#01": 0,
          "#01_weighted": 0,
          "#02": 0,
          "#02_weighted": 0,
          "average_grade": 0,
          "final_grade": 0
         },
         {
          "#01": 68,
          "#01_weighted": 34,
          "#02": 61,
          "#02_weighted": 30.5,
          "average_grade": 64.5,
          "final_grade": 64.5
         },
         {
          "#01": 65,
          "#01_weighted": 32.5,
          "#02": 95,
          "#02_weighted": 47.5,
          "average_grade": 80,
          "final_grade": 80
         },
         {
          "#01": 78,
          "#01_weighted": 39,
          "#02": 69,
          "#02_weighted": 34.5,
          "average_grade": 73.5,
          "final_grade": 73.5
         },
         {
          "#01": 72,
          "#01_weighted": 36,
          "#02": 82,
          "#02_weighted": 41,
          "average_grade": 77,
          "final_grade": 77
         },
         {
          "#01": 66,
          "#01_weighted": 33,
          "#02": 50,
          "#02_weighted": 25,
          "average_grade": 58,
          "final_grade": 58
         },
         {
          "#01": 0,
          "#01_weighted": 0,
          "#02": 78,
          "#02_weighted": 39,
          "average_grade": 39,
          "final_grade": 39
         },
         {
          "#01": 0,
          "#01_weighted": 0,
          "#02": 0,
          "#02_weighted": 0,
          "average_grade": 0,
          "final_grade": 0
         },
         {
          "#01": 71,
          "#01_weighted": 35.5,
          "#02": 0,
          "#02_weighted": 0,
          "average_grade": 35.5,
          "final_grade": 35.5
         },
         {
          "#01": 78,
          "#01_weighted": 39,
          "#02": 86,
          "#02_weighted": 43,
          "average_grade": 82,
          "final_grade": 82
         },
         {
          "#01": 87,
          "#01_weighted": 43.5,
          "#02": 80,
          "#02_weighted": 40,
          "average_grade": 83.5,
          "final_grade": 83.5
         },
         {
          "#01": 83,
          "#01_weighted": 41.5,
          "#02": 92,
          "#02_weighted": 46,
          "average_grade": 87.5,
          "final_grade": 87.5
         },
         {
          "#01": 76,
          "#01_weighted": 38,
          "#02": 83,
          "#02_weighted": 41.5,
          "average_grade": 79.5,
          "final_grade": 79.5
         },
         {
          "#01": 78,
          "#01_weighted": 39,
          "#02": 76,
          "#02_weighted": 38,
          "average_grade": 77,
          "final_grade": 77
         },
         {
          "#01": 91,
          "#01_weighted": 45.5,
          "#02": 70,
          "#02_weighted": 35,
          "average_grade": 80.5,
          "final_grade": 80.5
         },
         {
          "#01": 64,
          "#01_weighted": 32,
          "#02": 76,
          "#02_weighted": 38,
          "average_grade": 70,
          "final_grade": 70
         },
         {
          "#01": 29,
          "#01_weighted": 14.5,
          "#02": 0,
          "#02_weighted": 0,
          "average_grade": 14.5,
          "final_grade": 14.5
         },
         {
          "#01": 75,
          "#01_weighted": 37.5,
          "#02": 88,
          "#02_weighted": 44,
          "average_grade": 81.5,
          "final_grade": 81.5
         },
         {
          "#01": 40,
          "#01_weighted": 20,
          "#02": 88,
          "#02_weighted": 44,
          "average_grade": 64,
          "final_grade": 64
         },
         {
          "#01": 75,
          "#01_weighted": 37.5,
          "#02": 81,
          "#02_weighted": 40.5,
          "average_grade": 78,
          "final_grade": 78
         },
         {
          "#01": 85,
          "#01_weighted": 42.5,
          "#02": 57,
          "#02_weighted": 28.5,
          "average_grade": 71,
          "final_grade": 71
         },
         {
          "#01": 96,
          "#01_weighted": 48,
          "#02": 80,
          "#02_weighted": 40,
          "average_grade": 88,
          "final_grade": 88
         },
         {
          "#01": 62,
          "#01_weighted": 31,
          "#02": 68,
          "#02_weighted": 34,
          "average_grade": 65,
          "final_grade": 65
         },
         {
          "#01": 77,
          "#01_weighted": 38.5,
          "#02": 56,
          "#02_weighted": 28,
          "average_grade": 66.5,
          "final_grade": 66.5
         },
         {
          "#01": 72,
          "#01_weighted": 36,
          "#02": 69,
          "#02_weighted": 34.5,
          "average_grade": 70.5,
          "final_grade": 70.5
         },
         {
          "#01": 57,
          "#01_weighted": 28.5,
          "#02": 69,
          "#02_weighted": 34.5,
          "average_grade": 63,
          "final_grade": 63
         },
         {
          "#01": 78,
          "#01_weighted": 39,
          "#02": 87,
          "#02_weighted": 43.5,
          "average_grade": 82.5,
          "final_grade": 82.5
         },
         {
          "#01": 94,
          "#01_weighted": 47,
          "#02": 100,
          "#02_weighted": 50,
          "average_grade": 97,
          "final_grade": 97
         },
         {
          "#01": 73,
          "#01_weighted": 36.5,
          "#02": 88,
          "#02_weighted": 44,
          "average_grade": 80.5,
          "final_grade": 80.5
         },
         {
          "#01": 0,
          "#01_weighted": 0,
          "#02": 0,
          "#02_weighted": 0,
          "average_grade": 0,
          "final_grade": 0
         },
         {
          "#01": 82,
          "#01_weighted": 41,
          "#02": 93,
          "#02_weighted": 46.5,
          "average_grade": 87.5,
          "final_grade": 87.5
         },
         {
          "#01": 76,
          "#01_weighted": 38,
          "#02": 84,
          "#02_weighted": 42,
          "average_grade": 80,
          "final_grade": 80
         },
         {
          "#01": 89,
          "#01_weighted": 44.5,
          "#02": 72,
          "#02_weighted": 36,
          "average_grade": 80.5,
          "final_grade": 80.5
         },
         {
          "#01": 41,
          "#01_weighted": 20.5,
          "#02": 38,
          "#02_weighted": 19,
          "average_grade": 39.5,
          "final_grade": 39.5
         },
         {
          "#01": 65,
          "#01_weighted": 32.5,
          "#02": 0,
          "#02_weighted": 0,
          "average_grade": 32.5,
          "final_grade": 32.5
         },
         {
          "#01": 0,
          "#01_weighted": 0,
          "#02": 0,
          "#02_weighted": 0,
          "average_grade": 0,
          "final_grade": 0
         },
         {
          "#01": 57,
          "#01_weighted": 28.5,
          "#02": 83,
          "#02_weighted": 41.5,
          "average_grade": 70,
          "final_grade": 70
         }
        ]
       },
       "height": 400,
       "layer": [
        {
         "encoding": {
          "x": {
           "axis": {
            "title": "Average Grade"
           },
           "field": "average_grade",
           "scale": {
            "domain": [
             0,
             100
            ]
           },
           "type": "quantitative"
          },
          "y": {
           "axis": {
            "title": "Module grade"
           },
           "field": "final_grade",
           "scale": {
            "domain": [
             0,
             100
            ]
           },
           "typs": "quantitative"
          }
         },
         "mark": "point"
        },
        {
         "encoding": {
          "color": {
           "value": "red"
          },
          "size": {
           "value": 1
          },
          "x": {
           "value": 0
          },
          "y": {
           "value": 400
          }
         },
         "mark": "rule"
        },
        {
         "encoding": {
          "text": {
           "value": "Students who achieved a better grade in this module than their average grade over all modules"
          },
          "x": {
           "value": 266.6666666666667
          },
          "y": {
           "value": 40
          }
         },
         "mark": "text"
        },
        {
         "encoding": {
          "text": {
           "value": "Students who achieved a worse grade in this module than their average grade over all modules"
          },
          "x": {
           "value": 533.3333333333333
          },
          "y": {
           "value": 360
          }
         },
         "mark": "text"
        }
       ],
       "title": "Module performance comparison",
       "width": 800
      },
      "image/png": "[encoded data removed]"
     },
     "metadata": {},
     "output_type": "display_data"
    }
   ],
   "source": [
    "def build_grade_comparison_plot(height, width, data):\n",
    "    return VegaLite({\n",
    "        \"$schema\": \"https://vega.github.io/schema/vega-lite/v2.0.json\",\n",
    "        \"title\": \"Module performance comparison\",\n",
    "        \"height\": height,\n",
    "        \"width\": width,\n",
    "        \"layer\": [\n",
    "            {\n",
    "                \"mark\": \"point\",\n",
    "                \"encoding\": {\n",
    "                    \"x\": {\n",
    "                        \"field\": \"average_grade\",\n",
    "                        \"type\": \"quantitative\",\n",
    "                        \"axis\": { \"title\": \"Average Grade\" },\n",
    "                        \"scale\": { \"domain\": [0, 100]}\n",
    "                    },\n",
    "                    \"y\": {\n",
    "                        \"field\": \"final_grade\", \n",
    "                        \"typs\": \"quantitative\",\n",
    "                        \"axis\": { \"title\": \"Module grade\" },\n",
    "                        \"scale\": { \"domain\": [0, 100]}\n",
    "                    }\n",
    "                }\n",
    "            },\n",
    "            {\n",
    "                \"mark\": \"rule\",\n",
    "                \"encoding\": {\n",
    "                    \"x\": {\n",
    "                        \"value\": 0\n",
    "                    },\n",
    "                    \"y\": {\n",
    "                        \"value\": height\n",
    "                    },\n",
    "                    \"size\": {\n",
    "                        \"value\": 1\n",
    "                    },\n",
    "                    \"color\": {\n",
    "                        \"value\": \"red\"\n",
    "                    }\n",
    "                }\n",
    "            },\n",
    "            {\n",
    "                \"mark\": \"text\",\n",
    "                \"encoding\": {\n",
    "                    \"x\": {\n",
    "                        \"value\": width / 3\n",
    "                    },\n",
    "                    \"y\": {\n",
    "                        \"value\": height / 10\n",
    "                    },\n",
    "                    \"text\": {\n",
    "                        \"value\": \"Students who achieved a better grade in this module than their average grade over all modules\",\n",
    "                    },\n",
    "                }\n",
    "            },\n",
    "            {\n",
    "                \"mark\": \"text\",\n",
    "                \"encoding\": {\n",
    "                    \"x\": {\n",
    "                        \"value\": width - (width / 3)\n",
    "                    },\n",
    "                    \"y\": {\n",
    "                        \"value\": height - (height / 10)\n",
    "                    },\n",
    "                    \"text\": {\n",
    "                        \"value\": \"Students who achieved a worse grade in this module than their average grade over all modules\",\n",
    "                    },\n",
    "                }\n",
    "            }\n",
    "        ]\n",
    "    }, data)\n",
    "        \n",
    "chart = build_grade_comparison_plot(height, width, compare_grades)\n",
    "output[\"compare\"] = chart.spec\n",
    "\n",
    "display_vg(chart.spec)"
   ]
  },
  {
   "cell_type": "markdown",
   "metadata": {},
   "source": [
    "## Learning analytics data"
   ]
  },
  {
   "cell_type": "code",
   "execution_count": 17,
   "metadata": {},
   "outputs": [
    {
     "data": {
      "text/html": [
       "<div>\n",
       "<style scoped>\n",
       "    .dataframe tbody tr th:only-of-type {\n",
       "        vertical-align: middle;\n",
       "    }\n",
       "\n",
       "    .dataframe tbody tr th {\n",
       "        vertical-align: top;\n",
       "    }\n",
       "\n",
       "    .dataframe thead th {\n",
       "        text-align: right;\n",
       "    }\n",
       "</style>\n",
       "<table border=\"1\" class=\"dataframe\">\n",
       "  <thead>\n",
       "    <tr style=\"text-align: right;\">\n",
       "      <th></th>\n",
       "      <th>ACC_TOT_WK0</th>\n",
       "      <th>ACC_DUR_WK0</th>\n",
       "      <th>ACC_MEAN_DUR_WK0</th>\n",
       "      <th>ACC_COUNT_WK0</th>\n",
       "      <th>C_GRP_Coursework_WK0</th>\n",
       "      <th>C_GRP_Lectures_WK0</th>\n",
       "      <th>C_GRP_Practicals_WK0</th>\n",
       "      <th>ABS_WK0</th>\n",
       "      <th>LC_TOT</th>\n",
       "    </tr>\n",
       "    <tr>\n",
       "      <th>STU_ID</th>\n",
       "      <th></th>\n",
       "      <th></th>\n",
       "      <th></th>\n",
       "      <th></th>\n",
       "      <th></th>\n",
       "      <th></th>\n",
       "      <th></th>\n",
       "      <th></th>\n",
       "      <th></th>\n",
       "    </tr>\n",
       "  </thead>\n",
       "  <tbody>\n",
       "    <tr>\n",
       "      <th>15011855</th>\n",
       "      <td>3.083333</td>\n",
       "      <td>17.730567</td>\n",
       "      <td>2.532938</td>\n",
       "      <td>0.666667</td>\n",
       "      <td>1.000000</td>\n",
       "      <td>0.083333</td>\n",
       "      <td>0.333333</td>\n",
       "      <td>0.333333</td>\n",
       "      <td>0.000000</td>\n",
       "    </tr>\n",
       "    <tr>\n",
       "      <th>15014342</th>\n",
       "      <td>7.416667</td>\n",
       "      <td>30.965267</td>\n",
       "      <td>4.493318</td>\n",
       "      <td>1.250000</td>\n",
       "      <td>1.083333</td>\n",
       "      <td>0.750000</td>\n",
       "      <td>1.333333</td>\n",
       "      <td>0.166667</td>\n",
       "      <td>0.166667</td>\n",
       "    </tr>\n",
       "    <tr>\n",
       "      <th>16011881</th>\n",
       "      <td>7.166667</td>\n",
       "      <td>15.426375</td>\n",
       "      <td>2.216532</td>\n",
       "      <td>1.250000</td>\n",
       "      <td>1.500000</td>\n",
       "      <td>0.166667</td>\n",
       "      <td>1.166667</td>\n",
       "      <td>0.083333</td>\n",
       "      <td>0.000000</td>\n",
       "    </tr>\n",
       "    <tr>\n",
       "      <th>16012442</th>\n",
       "      <td>14.083333</td>\n",
       "      <td>27.998625</td>\n",
       "      <td>4.210287</td>\n",
       "      <td>2.583333</td>\n",
       "      <td>1.750000</td>\n",
       "      <td>1.916667</td>\n",
       "      <td>2.416667</td>\n",
       "      <td>0.166667</td>\n",
       "      <td>0.166667</td>\n",
       "    </tr>\n",
       "    <tr>\n",
       "      <th>16014883</th>\n",
       "      <td>7.916667</td>\n",
       "      <td>21.277792</td>\n",
       "      <td>3.039685</td>\n",
       "      <td>1.250000</td>\n",
       "      <td>1.500000</td>\n",
       "      <td>0.166667</td>\n",
       "      <td>1.833333</td>\n",
       "      <td>0.000000</td>\n",
       "      <td>0.166667</td>\n",
       "    </tr>\n",
       "  </tbody>\n",
       "</table>\n",
       "</div>"
      ],
      "text/plain": [
       "          ACC_TOT_WK0  ACC_DUR_WK0  ACC_MEAN_DUR_WK0  ACC_COUNT_WK0  \\\n",
       "STU_ID                                                                \n",
       "15011855     3.083333    17.730567          2.532938       0.666667   \n",
       "15014342     7.416667    30.965267          4.493318       1.250000   \n",
       "16011881     7.166667    15.426375          2.216532       1.250000   \n",
       "16012442    14.083333    27.998625          4.210287       2.583333   \n",
       "16014883     7.916667    21.277792          3.039685       1.250000   \n",
       "\n",
       "          C_GRP_Coursework_WK0  C_GRP_Lectures_WK0  C_GRP_Practicals_WK0  \\\n",
       "STU_ID                                                                     \n",
       "15011855              1.000000            0.083333              0.333333   \n",
       "15014342              1.083333            0.750000              1.333333   \n",
       "16011881              1.500000            0.166667              1.166667   \n",
       "16012442              1.750000            1.916667              2.416667   \n",
       "16014883              1.500000            0.166667              1.833333   \n",
       "\n",
       "           ABS_WK0    LC_TOT  \n",
       "STU_ID                        \n",
       "15011855  0.333333  0.000000  \n",
       "15014342  0.166667  0.166667  \n",
       "16011881  0.083333  0.000000  \n",
       "16012442  0.166667  0.166667  \n",
       "16014883  0.000000  0.166667  "
      ]
     },
     "execution_count": 17,
     "metadata": {},
     "output_type": "execute_result"
    }
   ],
   "source": [
    "def get_la_data(module):\n",
    "    file = '../data/raw/modules/{0}/la.csv'.format(module)\n",
    "    la = pd.read_csv(file)\n",
    "    la['STU_ID'] = la['STU_ID'].astype('int')\n",
    "    la_mean_per_user = la.drop(['USER', 'WK'], axis=1).groupby(['STU_ID']).sum()\n",
    "#     la_mean_per_user['ACC_MEAN_DUR_WK0'] =  la_mean_per_user['ACC_MEAN_DUR_WK0'].apply(lambda x: x/12)\n",
    "    la_mean_per_user = la_mean_per_user.apply(lambda x: x/12)\n",
    "    la_mean_per_week = la.drop(['STU_ID', 'USER'], axis=1).groupby(['WK']).mean().reset_index()\n",
    "    \n",
    "    return la_mean_per_user, la_mean_per_week\n",
    "\n",
    "lapu, lapw = get_la_data(module)\n",
    "lapu.head()"
   ]
  },
  {
   "cell_type": "code",
   "execution_count": 35,
   "metadata": {},
   "outputs": [
    {
     "data": {
      "text/plain": [
       "['ACC_TOT_WK0',\n",
       " 'ACC_DUR_WK0',\n",
       " 'ACC_MEAN_DUR_WK0',\n",
       " 'ACC_COUNT_WK0',\n",
       " 'C_GRP_Coursework_WK0',\n",
       " 'C_GRP_Lectures_WK0',\n",
       " 'C_GRP_Practicals_WK0',\n",
       " 'ABS_WK0',\n",
       " 'LC_TOT']"
      ]
     },
     "execution_count": 35,
     "metadata": {},
     "output_type": "execute_result"
    }
   ],
   "source": [
    "def build_la_line_chart(height, width, data, field, title):\n",
    "    return VegaLite({\n",
    "        \"$schema\": \"https://vega.github.io/schema/vega-lite/v2.0.json\",\n",
    "        \"title\": title,\n",
    "        \"height\": height,\n",
    "        \"width\": width,\n",
    "        \"layer\": [\n",
    "            {\n",
    "                \"mark\": \"line\",\n",
    "                \"encoding\": {\n",
    "                    \"x\": {\n",
    "                        \"field\": 'WK',\n",
    "                        \"type\": \"quantitative\",\n",
    "                        \"axis\": { \"title\": \"Week\", \"tickCount\": 12 },\n",
    "                    },\n",
    "                    \"y\": {\n",
    "                        \"field\": field,\n",
    "                        \"type\": \"quantitative\",\n",
    "                        \"axis\": { \"title\": field }\n",
    "                    }\n",
    "                }\n",
    "            },\n",
    "            {\n",
    "                \"mark\": \"point\",\n",
    "                \"encoding\": {\n",
    "                    \"x\": {\n",
    "                        \"field\": \"WK\",\n",
    "                        \"type\": \"quantitative\",\n",
    "                    },\n",
    "                    \"y\": {\n",
    "                        \"field\": field,\n",
    "                        \"type\": \"quantitative\",\n",
    "                    }\n",
    "                }\n",
    "            }\n",
    "        ]\n",
    "    }, data)\n",
    "\n",
    "chart = build_la_line_chart(height, width, lapw, \"ACC_MEAN_DUR_WK0\", \"Total clicks per week\")\n",
    "output[\"la_line\"] = chart.spec\n",
    "\n",
    "# display_vg(chart.spec)\n",
    "[col for col in lapw.drop(['WK'], axis=1).columns]"
   ]
  },
  {
   "cell_type": "code",
   "execution_count": 25,
   "metadata": {},
   "outputs": [
    {
     "data": {
      "text/html": [
       "<div>\n",
       "<style scoped>\n",
       "    .dataframe tbody tr th:only-of-type {\n",
       "        vertical-align: middle;\n",
       "    }\n",
       "\n",
       "    .dataframe tbody tr th {\n",
       "        vertical-align: top;\n",
       "    }\n",
       "\n",
       "    .dataframe thead th {\n",
       "        text-align: right;\n",
       "    }\n",
       "</style>\n",
       "<table border=\"1\" class=\"dataframe\">\n",
       "  <thead>\n",
       "    <tr style=\"text-align: right;\">\n",
       "      <th></th>\n",
       "      <th>ACC_TOT_WK0</th>\n",
       "      <th>ACC_DUR_WK0</th>\n",
       "      <th>ACC_MEAN_DUR_WK0</th>\n",
       "      <th>ACC_COUNT_WK0</th>\n",
       "      <th>C_GRP_Coursework_WK0</th>\n",
       "      <th>C_GRP_Lectures_WK0</th>\n",
       "      <th>C_GRP_Practicals_WK0</th>\n",
       "      <th>ABS_WK0</th>\n",
       "      <th>LC_TOT</th>\n",
       "      <th>#01</th>\n",
       "      <th>#01_weighted</th>\n",
       "      <th>#02</th>\n",
       "      <th>#02_weighted</th>\n",
       "      <th>final_grade</th>\n",
       "    </tr>\n",
       "    <tr>\n",
       "      <th>STU_ID</th>\n",
       "      <th></th>\n",
       "      <th></th>\n",
       "      <th></th>\n",
       "      <th></th>\n",
       "      <th></th>\n",
       "      <th></th>\n",
       "      <th></th>\n",
       "      <th></th>\n",
       "      <th></th>\n",
       "      <th></th>\n",
       "      <th></th>\n",
       "      <th></th>\n",
       "      <th></th>\n",
       "      <th></th>\n",
       "    </tr>\n",
       "  </thead>\n",
       "  <tbody>\n",
       "    <tr>\n",
       "      <th>15011855</th>\n",
       "      <td>37</td>\n",
       "      <td>212.7668</td>\n",
       "      <td>2.532938</td>\n",
       "      <td>8</td>\n",
       "      <td>12</td>\n",
       "      <td>1</td>\n",
       "      <td>4</td>\n",
       "      <td>4</td>\n",
       "      <td>0</td>\n",
       "      <td>34.0</td>\n",
       "      <td>17.0</td>\n",
       "      <td>67.0</td>\n",
       "      <td>33.5</td>\n",
       "      <td>50.5</td>\n",
       "    </tr>\n",
       "    <tr>\n",
       "      <th>15014342</th>\n",
       "      <td>89</td>\n",
       "      <td>371.5832</td>\n",
       "      <td>4.493318</td>\n",
       "      <td>15</td>\n",
       "      <td>13</td>\n",
       "      <td>9</td>\n",
       "      <td>16</td>\n",
       "      <td>2</td>\n",
       "      <td>2</td>\n",
       "      <td>73.0</td>\n",
       "      <td>36.5</td>\n",
       "      <td>91.0</td>\n",
       "      <td>45.5</td>\n",
       "      <td>82.0</td>\n",
       "    </tr>\n",
       "    <tr>\n",
       "      <th>16011881</th>\n",
       "      <td>86</td>\n",
       "      <td>185.1165</td>\n",
       "      <td>2.216532</td>\n",
       "      <td>15</td>\n",
       "      <td>18</td>\n",
       "      <td>2</td>\n",
       "      <td>14</td>\n",
       "      <td>1</td>\n",
       "      <td>0</td>\n",
       "      <td>51.0</td>\n",
       "      <td>25.5</td>\n",
       "      <td>53.0</td>\n",
       "      <td>26.5</td>\n",
       "      <td>52.0</td>\n",
       "    </tr>\n",
       "    <tr>\n",
       "      <th>16012442</th>\n",
       "      <td>169</td>\n",
       "      <td>335.9835</td>\n",
       "      <td>4.210287</td>\n",
       "      <td>31</td>\n",
       "      <td>21</td>\n",
       "      <td>23</td>\n",
       "      <td>29</td>\n",
       "      <td>2</td>\n",
       "      <td>2</td>\n",
       "      <td>58.0</td>\n",
       "      <td>29.0</td>\n",
       "      <td>80.0</td>\n",
       "      <td>40.0</td>\n",
       "      <td>69.0</td>\n",
       "    </tr>\n",
       "    <tr>\n",
       "      <th>16014883</th>\n",
       "      <td>95</td>\n",
       "      <td>255.3335</td>\n",
       "      <td>3.039685</td>\n",
       "      <td>15</td>\n",
       "      <td>18</td>\n",
       "      <td>2</td>\n",
       "      <td>22</td>\n",
       "      <td>0</td>\n",
       "      <td>2</td>\n",
       "      <td>55.0</td>\n",
       "      <td>27.5</td>\n",
       "      <td>83.0</td>\n",
       "      <td>41.5</td>\n",
       "      <td>69.0</td>\n",
       "    </tr>\n",
       "  </tbody>\n",
       "</table>\n",
       "</div>"
      ],
      "text/plain": [
       "          ACC_TOT_WK0  ACC_DUR_WK0  ACC_MEAN_DUR_WK0  ACC_COUNT_WK0  \\\n",
       "STU_ID                                                                \n",
       "15011855           37     212.7668          2.532938              8   \n",
       "15014342           89     371.5832          4.493318             15   \n",
       "16011881           86     185.1165          2.216532             15   \n",
       "16012442          169     335.9835          4.210287             31   \n",
       "16014883           95     255.3335          3.039685             15   \n",
       "\n",
       "          C_GRP_Coursework_WK0  C_GRP_Lectures_WK0  C_GRP_Practicals_WK0  \\\n",
       "STU_ID                                                                     \n",
       "15011855                    12                   1                     4   \n",
       "15014342                    13                   9                    16   \n",
       "16011881                    18                   2                    14   \n",
       "16012442                    21                  23                    29   \n",
       "16014883                    18                   2                    22   \n",
       "\n",
       "          ABS_WK0  LC_TOT   #01  #01_weighted   #02  #02_weighted  final_grade  \n",
       "STU_ID                                                                          \n",
       "15011855        4       0  34.0          17.0  67.0          33.5         50.5  \n",
       "15014342        2       2  73.0          36.5  91.0          45.5         82.0  \n",
       "16011881        1       0  51.0          25.5  53.0          26.5         52.0  \n",
       "16012442        2       2  58.0          29.0  80.0          40.0         69.0  \n",
       "16014883        0       2  55.0          27.5  83.0          41.5         69.0  "
      ]
     },
     "execution_count": 25,
     "metadata": {},
     "output_type": "execute_result"
    }
   ],
   "source": [
    "def get_la_vs_grades(la, grades):\n",
    "    merged = la.merge(grades, how=\"left\", left_index=True, right_index=True)\n",
    "    \n",
    "    return merged\n",
    "\n",
    "cs = get_la_vs_grades(lapu, module_grades)\n",
    "cs.head()"
   ]
  },
  {
   "cell_type": "code",
   "execution_count": 13,
   "metadata": {},
   "outputs": [
    {
     "data": {
      "application/vnd.vegalite.v2+json": {
       "$schema": "https://vega.github.io/schema/vega-lite/v2.0.json",
       "data": {
        "values": [
         {
          "#01": 34,
          "#01_weighted": 17,
          "#02": 67,
          "#02_weighted": 33.5,
          "ABS_WK0": 4,
          "ACC_COUNT_WK0": 8,
          "ACC_DUR_WK0": 212.7668,
          "ACC_MEAN_DUR_WK0": 2.5329380955,
          "ACC_TOT_WK0": 37,
          "C_GRP_Coursework_WK0": 12,
          "C_GRP_Lectures_WK0": 1,
          "C_GRP_Practicals_WK0": 4,
          "LC_TOT": 0,
          "final_grade": 50.5
         },
         {
          "#01": 73,
          "#01_weighted": 36.5,
          "#02": 91,
          "#02_weighted": 45.5,
          "ABS_WK0": 2,
          "ACC_COUNT_WK0": 15,
          "ACC_DUR_WK0": 371.58320000000003,
          "ACC_MEAN_DUR_WK0": 4.493318452333333,
          "ACC_TOT_WK0": 89,
          "C_GRP_Coursework_WK0": 13,
          "C_GRP_Lectures_WK0": 9,
          "C_GRP_Practicals_WK0": 16,
          "LC_TOT": 2,
          "final_grade": 82
         },
         {
          "#01": 51,
          "#01_weighted": 25.5,
          "#02": 53,
          "#02_weighted": 26.5,
          "ABS_WK0": 1,
          "ACC_COUNT_WK0": 15,
          "ACC_DUR_WK0": 185.1165,
          "ACC_MEAN_DUR_WK0": 2.216532341666667,
          "ACC_TOT_WK0": 86,
          "C_GRP_Coursework_WK0": 18,
          "C_GRP_Lectures_WK0": 2,
          "C_GRP_Practicals_WK0": 14,
          "LC_TOT": 0,
          "final_grade": 52
         },
         {
          "#01": 58,
          "#01_weighted": 29,
          "#02": 80,
          "#02_weighted": 40,
          "ABS_WK0": 2,
          "ACC_COUNT_WK0": 31,
          "ACC_DUR_WK0": 335.9835,
          "ACC_MEAN_DUR_WK0": 4.210286508416667,
          "ACC_TOT_WK0": 169,
          "C_GRP_Coursework_WK0": 21,
          "C_GRP_Lectures_WK0": 23,
          "C_GRP_Practicals_WK0": 29,
          "LC_TOT": 2,
          "final_grade": 69
         },
         {
          "#01": 55,
          "#01_weighted": 27.5,
          "#02": 83,
          "#02_weighted": 41.5,
          "ABS_WK0": 0,
          "ACC_COUNT_WK0": 15,
          "ACC_DUR_WK0": 255.33349999999996,
          "ACC_MEAN_DUR_WK0": 3.0396845238333334,
          "ACC_TOT_WK0": 95,
          "C_GRP_Coursework_WK0": 18,
          "C_GRP_Lectures_WK0": 2,
          "C_GRP_Practicals_WK0": 22,
          "LC_TOT": 2,
          "final_grade": 69
         },
         {
          "#01": 94,
          "#01_weighted": 47,
          "#02": 87,
          "#02_weighted": 43.5,
          "ABS_WK0": 0,
          "ACC_COUNT_WK0": 25,
          "ACC_DUR_WK0": 212.0997,
          "ACC_MEAN_DUR_WK0": 2.55789999975,
          "ACC_TOT_WK0": 134,
          "C_GRP_Coursework_WK0": 21,
          "C_GRP_Lectures_WK0": 8,
          "C_GRP_Practicals_WK0": 38,
          "LC_TOT": 0,
          "final_grade": 90.5
         },
         {
          "#01": 78,
          "#01_weighted": 39,
          "#02": 94,
          "#02_weighted": 47,
          "ABS_WK0": 0,
          "ACC_COUNT_WK0": 25,
          "ACC_DUR_WK0": 588.2500000000001,
          "ACC_MEAN_DUR_WK0": 7.0336970243333345,
          "ACC_TOT_WK0": 184,
          "C_GRP_Coursework_WK0": 19,
          "C_GRP_Lectures_WK0": 8,
          "C_GRP_Practicals_WK0": 35,
          "LC_TOT": 0,
          "final_grade": 86
         },
         {
          "#01": 75,
          "#01_weighted": 37.5,
          "#02": 77,
          "#02_weighted": 38.5,
          "ABS_WK0": 5,
          "ACC_COUNT_WK0": 24,
          "ACC_DUR_WK0": 95.6001,
          "ACC_MEAN_DUR_WK0": 1.1391214285,
          "ACC_TOT_WK0": 86,
          "C_GRP_Coursework_WK0": 12,
          "C_GRP_Lectures_WK0": 15,
          "C_GRP_Practicals_WK0": 8,
          "LC_TOT": 1,
          "final_grade": 76
         },
         {
          "#01": 51,
          "#01_weighted": 25.5,
          "#02": 61,
          "#02_weighted": 30.5,
          "ABS_WK0": 2,
          "ACC_COUNT_WK0": 10,
          "ACC_DUR_WK0": 72.3835,
          "ACC_MEAN_DUR_WK0": 0.8617083333333334,
          "ACC_TOT_WK0": 59,
          "C_GRP_Coursework_WK0": 12,
          "C_GRP_Lectures_WK0": 4,
          "C_GRP_Practicals_WK0": 2,
          "LC_TOT": 0,
          "final_grade": 56
         },
         {
          "#01": 8,
          "#01_weighted": 4,
          "#02": 82,
          "#02_weighted": 41,
          "ABS_WK0": 3,
          "ACC_COUNT_WK0": 15,
          "ACC_DUR_WK0": 305.53319999999997,
          "ACC_MEAN_DUR_WK0": 3.6595882940833335,
          "ACC_TOT_WK0": 98,
          "C_GRP_Coursework_WK0": 20,
          "C_GRP_Lectures_WK0": 8,
          "C_GRP_Practicals_WK0": 9,
          "LC_TOT": 2,
          "final_grade": 45
         },
         {
          "#01": 84,
          "#01_weighted": 42,
          "#02": 94,
          "#02_weighted": 47,
          "ABS_WK0": 0,
          "ACC_COUNT_WK0": 28,
          "ACC_DUR_WK0": 168.4667,
          "ACC_MEAN_DUR_WK0": 2.0195773806666666,
          "ACC_TOT_WK0": 138,
          "C_GRP_Coursework_WK0": 19,
          "C_GRP_Lectures_WK0": 9,
          "C_GRP_Practicals_WK0": 31,
          "LC_TOT": 1,
          "final_grade": 89
         },
         {
          "#01": 96,
          "#01_weighted": 48,
          "#02": 88,
          "#02_weighted": 44,
          "ABS_WK0": 1,
          "ACC_COUNT_WK0": 35,
          "ACC_DUR_WK0": 630.4,
          "ACC_MEAN_DUR_WK0": 7.639847818749999,
          "ACC_TOT_WK0": 181,
          "C_GRP_Coursework_WK0": 11,
          "C_GRP_Lectures_WK0": 23,
          "C_GRP_Practicals_WK0": 40,
          "LC_TOT": 0,
          "final_grade": 92
         },
         {
          "#01": 80,
          "#01_weighted": 40,
          "#02": 92,
          "#02_weighted": 46,
          "ABS_WK0": 2,
          "ACC_COUNT_WK0": 9,
          "ACC_DUR_WK0": 39.0166,
          "ACC_MEAN_DUR_WK0": 0.46448333333333336,
          "ACC_TOT_WK0": 55,
          "C_GRP_Coursework_WK0": 12,
          "C_GRP_Lectures_WK0": 2,
          "C_GRP_Practicals_WK0": 9,
          "LC_TOT": 0,
          "final_grade": 86
         },
         {
          "#01": 57,
          "#01_weighted": 28.5,
          "#02": 60,
          "#02_weighted": 30,
          "ABS_WK0": 0,
          "ACC_COUNT_WK0": 23,
          "ACC_DUR_WK0": 458.56679999999994,
          "ACC_MEAN_DUR_WK0": 5.46881785675,
          "ACC_TOT_WK0": 183,
          "C_GRP_Coursework_WK0": 20,
          "C_GRP_Lectures_WK0": 11,
          "C_GRP_Practicals_WK0": 34,
          "LC_TOT": 1,
          "final_grade": 58.5
         },
         {
          "#01": 89,
          "#01_weighted": 44.5,
          "#02": 93,
          "#02_weighted": 46.5,
          "ABS_WK0": 2,
          "ACC_COUNT_WK0": 14,
          "ACC_DUR_WK0": 429.1001,
          "ACC_MEAN_DUR_WK0": 5.11666785725,
          "ACC_TOT_WK0": 155,
          "C_GRP_Coursework_WK0": 26,
          "C_GRP_Lectures_WK0": 7,
          "C_GRP_Practicals_WK0": 18,
          "LC_TOT": 0,
          "final_grade": 91
         },
         {
          "#01": 83,
          "#01_weighted": 41.5,
          "#02": 93,
          "#02_weighted": 46.5,
          "ABS_WK0": 1,
          "ACC_COUNT_WK0": 15,
          "ACC_DUR_WK0": 367.8333,
          "ACC_MEAN_DUR_WK0": 4.378967856916667,
          "ACC_TOT_WK0": 90,
          "C_GRP_Coursework_WK0": 17,
          "C_GRP_Lectures_WK0": 4,
          "C_GRP_Practicals_WK0": 19,
          "LC_TOT": 2,
          "final_grade": 88
         },
         {
          "#01": 89,
          "#01_weighted": 44.5,
          "#02": 91,
          "#02_weighted": 45.5,
          "ABS_WK0": 1,
          "ACC_COUNT_WK0": 22,
          "ACC_DUR_WK0": 302.33340000000004,
          "ACC_MEAN_DUR_WK0": 3.6310851191666664,
          "ACC_TOT_WK0": 180,
          "C_GRP_Coursework_WK0": 24,
          "C_GRP_Lectures_WK0": 10,
          "C_GRP_Practicals_WK0": 41,
          "LC_TOT": 0,
          "final_grade": 90
         },
         {
          "#01": 72,
          "#01_weighted": 36,
          "#02": 66,
          "#02_weighted": 33,
          "ABS_WK0": 0,
          "ACC_COUNT_WK0": 21,
          "ACC_DUR_WK0": 588.8668999999999,
          "ACC_MEAN_DUR_WK0": 7.012370436583333,
          "ACC_TOT_WK0": 103,
          "C_GRP_Coursework_WK0": 15,
          "C_GRP_Lectures_WK0": 4,
          "C_GRP_Practicals_WK0": 25,
          "LC_TOT": 0,
          "final_grade": 69
         },
         {
          "#01": 75,
          "#01_weighted": 37.5,
          "#02": 77,
          "#02_weighted": 38.5,
          "ABS_WK0": 2,
          "ACC_COUNT_WK0": 19,
          "ACC_DUR_WK0": 225.04960000000003,
          "ACC_MEAN_DUR_WK0": 2.703731944,
          "ACC_TOT_WK0": 124,
          "C_GRP_Coursework_WK0": 12,
          "C_GRP_Lectures_WK0": 10,
          "C_GRP_Practicals_WK0": 24,
          "LC_TOT": 1,
          "final_grade": 76
         },
         {
          "#01": 89,
          "#01_weighted": 44.5,
          "#02": 87,
          "#02_weighted": 43.5,
          "ABS_WK0": 2,
          "ACC_COUNT_WK0": 16,
          "ACC_DUR_WK0": 936.6001,
          "ACC_MEAN_DUR_WK0": 11.150629562833332,
          "ACC_TOT_WK0": 129,
          "C_GRP_Coursework_WK0": 12,
          "C_GRP_Lectures_WK0": 12,
          "C_GRP_Practicals_WK0": 25,
          "LC_TOT": 0,
          "final_grade": 88
         },
         {
          "#01": 65,
          "#01_weighted": 32.5,
          "#02": 95,
          "#02_weighted": 47.5,
          "ABS_WK0": 0,
          "ACC_COUNT_WK0": 34,
          "ACC_DUR_WK0": 593.1835000000001,
          "ACC_MEAN_DUR_WK0": 7.067230952416668,
          "ACC_TOT_WK0": 200,
          "C_GRP_Coursework_WK0": 16,
          "C_GRP_Lectures_WK0": 34,
          "C_GRP_Practicals_WK0": 43,
          "LC_TOT": 2,
          "final_grade": 80
         },
         {
          "#01": 78,
          "#01_weighted": 39,
          "#02": 69,
          "#02_weighted": 34.5,
          "ABS_WK0": 1,
          "ACC_COUNT_WK0": 29,
          "ACC_DUR_WK0": 547.8165,
          "ACC_MEAN_DUR_WK0": 6.698708333083332,
          "ACC_TOT_WK0": 190,
          "C_GRP_Coursework_WK0": 26,
          "C_GRP_Lectures_WK0": 10,
          "C_GRP_Practicals_WK0": 38,
          "LC_TOT": 1,
          "final_grade": 73.5
         },
         {
          "#01": 66,
          "#01_weighted": 33,
          "#02": 50,
          "#02_weighted": 25,
          "ABS_WK0": 3,
          "ACC_COUNT_WK0": 21,
          "ACC_DUR_WK0": 212.63320000000002,
          "ACC_MEAN_DUR_WK0": 2.5313476189166666,
          "ACC_TOT_WK0": 109,
          "C_GRP_Coursework_WK0": 12,
          "C_GRP_Lectures_WK0": 15,
          "C_GRP_Practicals_WK0": 20,
          "LC_TOT": 0,
          "final_grade": 58
         },
         {
          "#01": 71,
          "#01_weighted": 35.5,
          "#02": 0,
          "#02_weighted": 0,
          "ABS_WK0": 0,
          "ACC_COUNT_WK0": 25,
          "ACC_DUR_WK0": 297.0001,
          "ACC_MEAN_DUR_WK0": 3.5751996027499993,
          "ACC_TOT_WK0": 167,
          "C_GRP_Coursework_WK0": 12,
          "C_GRP_Lectures_WK0": 20,
          "C_GRP_Practicals_WK0": 19,
          "LC_TOT": 1,
          "final_grade": 35.5
         },
         {
          "#01": 87,
          "#01_weighted": 43.5,
          "#02": 80,
          "#02_weighted": 40,
          "ABS_WK0": 1,
          "ACC_COUNT_WK0": 15,
          "ACC_DUR_WK0": 586.25,
          "ACC_MEAN_DUR_WK0": 7.022982738166667,
          "ACC_TOT_WK0": 122,
          "C_GRP_Coursework_WK0": 15,
          "C_GRP_Lectures_WK0": 12,
          "C_GRP_Practicals_WK0": 20,
          "LC_TOT": 0,
          "final_grade": 83.5
         },
         {
          "#01": 78,
          "#01_weighted": 39,
          "#02": 76,
          "#02_weighted": 38,
          "ABS_WK0": 0,
          "ACC_COUNT_WK0": 26,
          "ACC_DUR_WK0": 298.8664,
          "ACC_MEAN_DUR_WK0": 3.559355356333333,
          "ACC_TOT_WK0": 211,
          "C_GRP_Coursework_WK0": 17,
          "C_GRP_Lectures_WK0": 8,
          "C_GRP_Practicals_WK0": 35,
          "LC_TOT": 1,
          "final_grade": 77
         },
         {
          "#01": 91,
          "#01_weighted": 45.5,
          "#02": 70,
          "#02_weighted": 35,
          "ABS_WK0": 0,
          "ACC_COUNT_WK0": 16,
          "ACC_DUR_WK0": 24.6997,
          "ACC_MEAN_DUR_WK0": 0.3001285715,
          "ACC_TOT_WK0": 108,
          "C_GRP_Coursework_WK0": 9,
          "C_GRP_Lectures_WK0": 6,
          "C_GRP_Practicals_WK0": 28,
          "LC_TOT": 0,
          "final_grade": 80.5
         },
         {
          "#01": 64,
          "#01_weighted": 32,
          "#02": 76,
          "#02_weighted": 38,
          "ABS_WK0": 2,
          "ACC_COUNT_WK0": 14,
          "ACC_DUR_WK0": 144.88320000000002,
          "ACC_MEAN_DUR_WK0": 1.7249323413333337,
          "ACC_TOT_WK0": 96,
          "C_GRP_Coursework_WK0": 23,
          "C_GRP_Lectures_WK0": 6,
          "C_GRP_Practicals_WK0": 8,
          "LC_TOT": 1,
          "final_grade": 70
         },
         {
          "#01": 75,
          "#01_weighted": 37.5,
          "#02": 88,
          "#02_weighted": 44,
          "ABS_WK0": 1,
          "ACC_COUNT_WK0": 17,
          "ACC_DUR_WK0": 367.4666,
          "ACC_MEAN_DUR_WK0": 4.59692380975,
          "ACC_TOT_WK0": 114,
          "C_GRP_Coursework_WK0": 12,
          "C_GRP_Lectures_WK0": 5,
          "C_GRP_Practicals_WK0": 29,
          "LC_TOT": 0,
          "final_grade": 81.5
         },
         {
          "#01": 40,
          "#01_weighted": 20,
          "#02": 88,
          "#02_weighted": 44,
          "ABS_WK0": 1,
          "ACC_COUNT_WK0": 10,
          "ACC_DUR_WK0": 475.3501,
          "ACC_MEAN_DUR_WK0": 5.65892976225,
          "ACC_TOT_WK0": 94,
          "C_GRP_Coursework_WK0": 25,
          "C_GRP_Lectures_WK0": 2,
          "C_GRP_Practicals_WK0": 7,
          "LC_TOT": 1,
          "final_grade": 64
         },
         {
          "#01": 75,
          "#01_weighted": 37.5,
          "#02": 81,
          "#02_weighted": 40.5,
          "ABS_WK0": 2,
          "ACC_COUNT_WK0": 12,
          "ACC_DUR_WK0": 509.8004,
          "ACC_MEAN_DUR_WK0": 6.0690523807500005,
          "ACC_TOT_WK0": 114,
          "C_GRP_Coursework_WK0": 25,
          "C_GRP_Lectures_WK0": 9,
          "C_GRP_Practicals_WK0": 9,
          "LC_TOT": 0,
          "final_grade": 78
         },
         {
          "#01": 96,
          "#01_weighted": 48,
          "#02": 80,
          "#02_weighted": 40,
          "ABS_WK0": 0,
          "ACC_COUNT_WK0": 12,
          "ACC_DUR_WK0": 282.3327,
          "ACC_MEAN_DUR_WK0": 3.3611035717499997,
          "ACC_TOT_WK0": 94,
          "C_GRP_Coursework_WK0": 20,
          "C_GRP_Lectures_WK0": 12,
          "C_GRP_Practicals_WK0": 11,
          "LC_TOT": 1,
          "final_grade": 88
         },
         {
          "#01": 62,
          "#01_weighted": 31,
          "#02": 68,
          "#02_weighted": 34,
          "ABS_WK0": 0,
          "ACC_COUNT_WK0": 18,
          "ACC_DUR_WK0": 776.6002000000001,
          "ACC_MEAN_DUR_WK0": 9.245868849499999,
          "ACC_TOT_WK0": 134,
          "C_GRP_Coursework_WK0": 13,
          "C_GRP_Lectures_WK0": 15,
          "C_GRP_Practicals_WK0": 24,
          "LC_TOT": 0,
          "final_grade": 65
         },
         {
          "#01": 77,
          "#01_weighted": 38.5,
          "#02": 56,
          "#02_weighted": 28,
          "ABS_WK0": 3,
          "ACC_COUNT_WK0": 17,
          "ACC_DUR_WK0": 144.8999,
          "ACC_MEAN_DUR_WK0": 1.7250319445000002,
          "ACC_TOT_WK0": 93,
          "C_GRP_Coursework_WK0": 17,
          "C_GRP_Lectures_WK0": 9,
          "C_GRP_Practicals_WK0": 14,
          "LC_TOT": 0,
          "final_grade": 66.5
         },
         {
          "#01": 94,
          "#01_weighted": 47,
          "#02": 100,
          "#02_weighted": 50,
          "ABS_WK0": 1,
          "ACC_COUNT_WK0": 41,
          "ACC_DUR_WK0": 594.9827,
          "ACC_MEAN_DUR_WK0": 7.275190476083332,
          "ACC_TOT_WK0": 230,
          "C_GRP_Coursework_WK0": 20,
          "C_GRP_Lectures_WK0": 38,
          "C_GRP_Practicals_WK0": 35,
          "LC_TOT": 4,
          "final_grade": 97
         },
         {
          "#01": 82,
          "#01_weighted": 41,
          "#02": 93,
          "#02_weighted": 46.5,
          "ABS_WK0": 0,
          "ACC_COUNT_WK0": 32,
          "ACC_DUR_WK0": 1204.4162999999999,
          "ACC_MEAN_DUR_WK0": 14.68858690466667,
          "ACC_TOT_WK0": 185,
          "C_GRP_Coursework_WK0": 12,
          "C_GRP_Lectures_WK0": 21,
          "C_GRP_Practicals_WK0": 41,
          "LC_TOT": 0,
          "final_grade": 87.5
         },
         {
          "#01": 76,
          "#01_weighted": 38,
          "#02": 84,
          "#02_weighted": 42,
          "ABS_WK0": 2,
          "ACC_COUNT_WK0": 23,
          "ACC_DUR_WK0": 560.5334,
          "ACC_MEAN_DUR_WK0": 6.693288095166666,
          "ACC_TOT_WK0": 125,
          "C_GRP_Coursework_WK0": 10,
          "C_GRP_Lectures_WK0": 18,
          "C_GRP_Practicals_WK0": 28,
          "LC_TOT": 0,
          "final_grade": 80
         },
         {
          "#01": 89,
          "#01_weighted": 44.5,
          "#02": 72,
          "#02_weighted": 36,
          "ABS_WK0": 2,
          "ACC_COUNT_WK0": 19,
          "ACC_DUR_WK0": 315.3999,
          "ACC_MEAN_DUR_WK0": 3.76805416625,
          "ACC_TOT_WK0": 131,
          "C_GRP_Coursework_WK0": 17,
          "C_GRP_Lectures_WK0": 9,
          "C_GRP_Practicals_WK0": 18,
          "LC_TOT": 2,
          "final_grade": 80.5
         },
         {
          "#01": 41,
          "#01_weighted": 20.5,
          "#02": 38,
          "#02_weighted": 19,
          "ABS_WK0": 2,
          "ACC_COUNT_WK0": 34,
          "ACC_DUR_WK0": 701.7164000000001,
          "ACC_MEAN_DUR_WK0": 8.566035118916668,
          "ACC_TOT_WK0": 216,
          "C_GRP_Coursework_WK0": 32,
          "C_GRP_Lectures_WK0": 23,
          "C_GRP_Practicals_WK0": 28,
          "LC_TOT": 3,
          "final_grade": 39.5
         }
        ]
       },
       "height": 400,
       "layer": [
        {
         "encoding": {
          "x": {
           "axis": {
            "title": "Final Grade"
           },
           "field": "final_grade",
           "scale": {
            "domain": [
             0,
             100
            ]
           },
           "type": "quantitative"
          },
          "y": {
           "axis": {
            "title": "C_GRP_Practicals_WK0"
           },
           "field": "C_GRP_Practicals_WK0",
           "type": "quantitative"
          }
         },
         "mark": "point"
        }
       ],
       "title": "Total clicks vs grade",
       "width": 800
      },
      "image/png": "[encoded data removed]"
     },
     "metadata": {},
     "output_type": "display_data"
    }
   ],
   "source": [
    "def build_la_grade_comparison_plot(height, width, data, field, title):\n",
    "    return VegaLite({\n",
    "        \"$schema\": \"https://vega.github.io/schema/vega-lite/v2.0.json\",\n",
    "        \"title\": title,\n",
    "        \"height\": height,\n",
    "        \"width\": width,\n",
    "        \"layer\": [\n",
    "            {\n",
    "                \"mark\": \"point\",\n",
    "                \"encoding\": {\n",
    "                    \"x\": {\n",
    "                        \"field\": \"final_grade\",\n",
    "                        \"type\": \"quantitative\",\n",
    "                        \"axis\": { \"title\": \"Final Grade\" },\n",
    "                        \"scale\": { \"domain\": [0, 100]}\n",
    "                    },\n",
    "                    \"y\": {\n",
    "                        \"field\": field,\n",
    "                        \"type\": \"quantitative\",\n",
    "                        \"axis\": { \"title\": field }\n",
    "                    }\n",
    "                }\n",
    "            }\n",
    "        ]\n",
    "    }, data)\n",
    "        \n",
    "chart = build_la_grade_comparison_plot(height, width, cs, \"C_GRP_Practicals_WK0\", \"Total clicks vs grade\")\n",
    "output[\"compare\"] = chart.spec\n",
    "\n",
    "display_vg(chart.spec)"
   ]
  },
  {
   "cell_type": "markdown",
   "metadata": {},
   "source": [
    "## Multiple choice questions"
   ]
  },
  {
   "cell_type": "code",
   "execution_count": 14,
   "metadata": {},
   "outputs": [
    {
     "data": {
      "text/html": [
       "<div>\n",
       "<style scoped>\n",
       "    .dataframe tbody tr th:only-of-type {\n",
       "        vertical-align: middle;\n",
       "    }\n",
       "\n",
       "    .dataframe tbody tr th {\n",
       "        vertical-align: top;\n",
       "    }\n",
       "\n",
       "    .dataframe thead th {\n",
       "        text-align: right;\n",
       "    }\n",
       "</style>\n",
       "<table border=\"1\" class=\"dataframe\">\n",
       "  <thead>\n",
       "    <tr style=\"text-align: right;\">\n",
       "      <th></th>\n",
       "      <th>answer</th>\n",
       "      <th>q1</th>\n",
       "      <th>q2</th>\n",
       "      <th>q3</th>\n",
       "      <th>q4</th>\n",
       "      <th>q5</th>\n",
       "      <th>q6</th>\n",
       "      <th>q7</th>\n",
       "    </tr>\n",
       "  </thead>\n",
       "  <tbody>\n",
       "    <tr>\n",
       "      <th>0</th>\n",
       "      <td>Strongly Agree</td>\n",
       "      <td>14.0</td>\n",
       "      <td>9.0</td>\n",
       "      <td>9.0</td>\n",
       "      <td>8.0</td>\n",
       "      <td>6.0</td>\n",
       "      <td>8.0</td>\n",
       "      <td>9.0</td>\n",
       "    </tr>\n",
       "    <tr>\n",
       "      <th>1</th>\n",
       "      <td>Agree</td>\n",
       "      <td>13.0</td>\n",
       "      <td>18.0</td>\n",
       "      <td>17.0</td>\n",
       "      <td>16.0</td>\n",
       "      <td>17.0</td>\n",
       "      <td>17.0</td>\n",
       "      <td>16.0</td>\n",
       "    </tr>\n",
       "    <tr>\n",
       "      <th>2</th>\n",
       "      <td>Disagree</td>\n",
       "      <td>0.0</td>\n",
       "      <td>0.0</td>\n",
       "      <td>0.0</td>\n",
       "      <td>1.0</td>\n",
       "      <td>4.0</td>\n",
       "      <td>1.0</td>\n",
       "      <td>2.0</td>\n",
       "    </tr>\n",
       "    <tr>\n",
       "      <th>3</th>\n",
       "      <td>Strongly Disagree</td>\n",
       "      <td>0.0</td>\n",
       "      <td>0.0</td>\n",
       "      <td>0.0</td>\n",
       "      <td>2.0</td>\n",
       "      <td>0.0</td>\n",
       "      <td>0.0</td>\n",
       "      <td>0.0</td>\n",
       "    </tr>\n",
       "    <tr>\n",
       "      <th>4</th>\n",
       "      <td>N/A</td>\n",
       "      <td>0.0</td>\n",
       "      <td>0.0</td>\n",
       "      <td>0.0</td>\n",
       "      <td>0.0</td>\n",
       "      <td>0.0</td>\n",
       "      <td>0.0</td>\n",
       "      <td>0.0</td>\n",
       "    </tr>\n",
       "  </tbody>\n",
       "</table>\n",
       "</div>"
      ],
      "text/plain": [
       "              answer    q1    q2    q3    q4    q5    q6    q7\n",
       "0     Strongly Agree  14.0   9.0   9.0   8.0   6.0   8.0   9.0\n",
       "1              Agree  13.0  18.0  17.0  16.0  17.0  17.0  16.0\n",
       "2           Disagree   0.0   0.0   0.0   1.0   4.0   1.0   2.0\n",
       "3  Strongly Disagree   0.0   0.0   0.0   2.0   0.0   0.0   0.0\n",
       "4                N/A   0.0   0.0   0.0   0.0   0.0   0.0   0.0"
      ]
     },
     "execution_count": 14,
     "metadata": {},
     "output_type": "execute_result"
    }
   ],
   "source": [
    "mc_options = [\n",
    "    \"Strongly Agree\",\n",
    "    \"Agree\",\n",
    "    \"Disagree\",\n",
    "    \"Strongly Disagree\",\n",
    "    \"N/A\"\n",
    "]\n",
    "\n",
    "def get_student_multi_choice_feedback(module, answers):\n",
    "    fb = pd.read_csv(\"../data/raw/modules/{0}/feedback.csv\".format(module))\n",
    "    fbq = pd.DataFrame(fb.filter(regex=r\"^\\d\\.\", axis=1))\n",
    "    fbq = fbq.drop(fbq.columns[len(fbq.columns)-2:], axis=1)\n",
    "\n",
    "    fb_answers = pd.DataFrame(fbq.apply(pd.value_counts))\n",
    "    answers = pd.DataFrame(answers, columns=[\"answer\"])\n",
    "    answers = pd.DataFrame(answers).merge(fb_answers, left_on=\"answer\", right_index=True, how=\"left\").fillna(0)\n",
    "    answers.columns = [\"answer\"] + [\"q{0}\".format(i+1) for i in range(len(fbq.columns))]\n",
    "    \n",
    "    return fbq.columns.tolist(), answers\n",
    "\n",
    "sfbq, sfba = get_student_multi_choice_feedback(module, mc_options)\n",
    "\n",
    "sfba"
   ]
  },
  {
   "cell_type": "markdown",
   "metadata": {},
   "source": [
    "## Additional comments for multiple choice questions"
   ]
  },
  {
   "cell_type": "code",
   "execution_count": 15,
   "metadata": {},
   "outputs": [
    {
     "data": {
      "text/plain": [
       "[[],\n",
       " [],\n",
       " [],\n",
       " ['It was really interesting to see the actual work/ interests of the lecturers themselves',\n",
       "  'I already have a lot of experience in the subjects discussed in the lectures, but staff made it very interesting and engaging anyway.'],\n",
       " ['Much better on average than the other modules',\n",
       "  'To me, the practicals are more of a place to force myself to work efficiently, rather than procrastinate the work, and the fact that I can ask questions doing it make the practicals very useful'],\n",
       " [],\n",
       " []]"
      ]
     },
     "execution_count": 15,
     "metadata": {},
     "output_type": "execute_result"
    }
   ],
   "source": [
    "def get_textual_student_feedback(module):\n",
    "    fb = pd.read_csv(\"../data/raw/modules/{0}/feedback.csv\".format(module))\n",
    "    fb = fb.filter(regex=r\"additional comments\", axis=1)\n",
    "    \n",
    "    text_fb = []\n",
    "    for col in fb:\n",
    "        text_fb.append(fb[col].dropna().drop_duplicates().tolist())\n",
    "    \n",
    "    return text_fb\n",
    "    \n",
    "get_textual_student_feedback(module)"
   ]
  },
  {
   "cell_type": "code",
   "execution_count": 16,
   "metadata": {},
   "outputs": [
    {
     "data": {
      "application/vnd.vegalite.v2+json": {
       "$schema": "https://vega.github.io/schema/vega-lite/v2.0.json",
       "data": {
        "values": [
         {
          "answer": "Strongly Agree",
          "q1": 14,
          "q2": 9,
          "q3": 9,
          "q4": 8,
          "q5": 6,
          "q6": 8,
          "q7": 9
         },
         {
          "answer": "Agree",
          "q1": 13,
          "q2": 18,
          "q3": 17,
          "q4": 16,
          "q5": 17,
          "q6": 17,
          "q7": 16
         },
         {
          "answer": "Disagree",
          "q1": 0,
          "q2": 0,
          "q3": 0,
          "q4": 1,
          "q5": 4,
          "q6": 1,
          "q7": 2
         },
         {
          "answer": "Strongly Disagree",
          "q1": 0,
          "q2": 0,
          "q3": 0,
          "q4": 2,
          "q5": 0,
          "q6": 0,
          "q7": 0
         },
         {
          "answer": "N/A",
          "q1": 0,
          "q2": 0,
          "q3": 0,
          "q4": 0,
          "q5": 0,
          "q6": 0,
          "q7": 0
         }
        ]
       },
       "encoding": {
        "color": {
         "field": "answer",
         "legend": null,
         "type": "nominal"
        },
        "x": {
         "axis": {
          "title": ""
         },
         "field": "answer",
         "sort": null,
         "type": "nominal"
        },
        "y": {
         "axis": {
          "title": "count"
         },
         "field": "q1",
         "type": "quantitative"
        }
       },
       "height": 400,
       "mark": "bar",
       "title": "Staff are good at explaining things.",
       "width": 800
      },
      "image/png": "[encoded data removed]"
     },
     "metadata": {},
     "output_type": "display_data"
    }
   ],
   "source": [
    "def build_student_feedback_histogram(height, width, data, questions, question):\n",
    "    return VegaLite({\n",
    "        \"$schema\": \"https://vega.github.io/schema/vega-lite/v2.0.json\",\n",
    "        \"title\": re.sub(r\"\\d.\\s\", \"\", questions[question-1]),\n",
    "        \"height\": height,\n",
    "        \"width\": width,\n",
    "        \"mark\": \"bar\",\n",
    "        \"encoding\": {\n",
    "            \"x\": {\n",
    "                \"field\": \"answer\",\n",
    "                \"type\": \"nominal\",\n",
    "                \"sort\": None,\n",
    "                \"axis\": { \"title\": \"\" }\n",
    "            },\n",
    "            \"y\": {\n",
    "                \"field\": \"q{0}\".format(question),\n",
    "                \"type\": \"quantitative\",\n",
    "                \"axis\": { \"title\": \"count\" }\n",
    "            },\n",
    "            \"color\": {\n",
    "                \"field\": \"answer\",\n",
    "                \"type\": \"nominal\",\n",
    "                \"legend\": None,\n",
    "            }\n",
    "        }\n",
    "    }, data)\n",
    "\n",
    "chart = build_student_feedback_histogram(height, width, sfba, sfbq, 1)\n",
    "output[\"feedback\"] = chart.spec\n",
    "\n",
    "display_vg(chart.spec)"
   ]
  },
  {
   "cell_type": "markdown",
   "metadata": {},
   "source": [
    "## Descriptive questions"
   ]
  },
  {
   "cell_type": "code",
   "execution_count": 17,
   "metadata": {},
   "outputs": [
    {
     "data": {
      "text/plain": [
       "[0                                           Most things\n",
       " 1         Interesting topics delivered by great speaker\n",
       " 2                                                     -\n",
       " 3     Lectures are presented in an interesting and e...\n",
       " 5              Learning about Web Design in more detail\n",
       " 6                                                  Html\n",
       " 7     I enjoyed learning about the different element...\n",
       " 8     The engagement made with the class makes it fe...\n",
       " 9                                             Lectures \n",
       " 10                                           HTML intro\n",
       " 11                                              Nothing\n",
       " 12                           Lectures were really good.\n",
       " 13                                         The lectures\n",
       " 14       How passionate the lecturer is about this area\n",
       " 15    I appreciated that the module has playback as ...\n",
       " 16     Straight forward lessons with clear information \n",
       " 17                        The lecture on accessibility \n",
       " 18           The sections on good design vs bad design.\n",
       " 19                                           Not really\n",
       " 20    Lecturer is engaging and entertaining and he i...\n",
       " 22    The lectures and learning about how to make we...\n",
       " 23    I like the student engagement aspect with socr...\n",
       " 24    It's pretty easy to understand and learn, it's...\n",
       " 25                     Lecturer made module interesting\n",
       " 26    The lecturer Ed is very interesting and enthus...\n",
       " Name: 8. Was there anything in particular which you enjoyed in this module?, dtype: object,\n",
       " 0     Make coding either a bigger part or not in the...\n",
       " 2                                                     -\n",
       " 3     Coursework could do with some more guidance e....\n",
       " 5     No. Not much you can do as it needs to be begi...\n",
       " 6                           Put more past papers on kle\n",
       " 7                                 Nothing in particular\n",
       " 8     Some of the practicals seem a bit of a waste o...\n",
       " 9                                   Practical sessions \n",
       " 10    Much less filler please, it’s somewhat interes...\n",
       " 11                                          It was good\n",
       " 12                                                    -\n",
       " 13                                 Having less lectures\n",
       " 14    A few more examples on how HTML and CSS work (...\n",
       " 15                More focus on how to create criterias\n",
       " 16                                             Nothing \n",
       " 17                           More creation of web pages\n",
       " 18                                           No comment\n",
       " 19                                              Nothing\n",
       " 20    Boring and useless information. I would make t...\n",
       " 21                 Move one of the 9AMs to a later time\n",
       " 22     Have more practicals on HTML, CSS and JavaScript\n",
       " 23     I cannot think of anything to improve the module\n",
       " 24                               Just feels a tad bland\n",
       " 25               Make practicals a bit more interesting\n",
       " 26    I wouldn't know. This is a bloody good module ...\n",
       " Name: 9. If you could improve one thing about this module, what would it be?, dtype: object]"
      ]
     },
     "execution_count": 17,
     "metadata": {},
     "output_type": "execute_result"
    }
   ],
   "source": [
    "def get_descriptive_student_feedback(module):\n",
    "    fb = pd.read_csv(\"../data/raw/modules/{0}/feedback.csv\".format(module))\n",
    "    fb = fb.drop(fb.columns[0:-2], axis=1)\n",
    "\n",
    "    desc_fb = []\n",
    "    for col in fb:\n",
    "        desc_fb.append(fb[col].dropna())\n",
    "\n",
    "    return fb.columns.tolist(), desc_fb\n",
    "    \n",
    "dfbq, dfba = get_descriptive_student_feedback(module)\n",
    "dfba"
   ]
  },
  {
   "cell_type": "code",
   "execution_count": 18,
   "metadata": {},
   "outputs": [],
   "source": [
    "def build_word_cloud(text):\n",
    "    return WordCloud(background_color=\"black\", colormap=\"GnBu\", height=height, width=width, font_path=\"../fonts/caveat.ttf\").generate(text)\n",
    "\n",
    "try:\n",
    "    wordcloud = build_word_cloud(dfba[0].str.cat(sep=\" \"))\n",
    "    wordcloud.to_image()\n",
    "    # wordcloud.to_file(\"../data/generated/images/{0}/{1}.png\".format(module, desc_questions[0][0]))\n",
    "except(ValueError):\n",
    "    print(\"wordcloud could not be created\")"
   ]
  },
  {
   "cell_type": "markdown",
   "metadata": {},
   "source": [
    "## Staff feedback"
   ]
  },
  {
   "cell_type": "code",
   "execution_count": 14,
   "metadata": {},
   "outputs": [
    {
     "data": {
      "text/plain": [
       "{'Are you planning to make a minor amendment to your module?': 'No.',\n",
       " 'Do you have any further comments?': 'No.',\n",
       " 'Do you have any good practice that you would like to share?': 'None that I have not shared in previous module reviews.',\n",
       " 'Module tutor(s)': 'Martyn Parker',\n",
       " 'What, in your opinion, could be improved (including details of planned changes for next year)?': 'This module will no longer run. Next year a new year-long 30 credit module replaces both Investigations and Problem Solving (IPS) and Applicable Mathematics (AM). This new module combines elements of the two old 15 credit modules. \\n\\n1) The new 30 credit module will provide more time for formative work aligned to the summative assessments. There will be greater emphasis on producing electronic mathematics using suitable computer packages.\\n\\n2) The journals will be reworked to adapt the current 4Rs reflective module and the use of PebblePad to record student reflections aligned to the KUSP.\\n\\n3) Although the new 30 credit module combines IPS and AM, there will be a slight change in the topics for the group projects taken in semester 2. \\n\\n4) There will be a greater emphasis on tutorial-style classes with a focus on problem-based learning.',\n",
       " 'What, in your opinion, went well?': 'Student module evaluations show students value this module and the approach taken with the material. Since this is the last run of this module, further comment is deferred below. Students commented positively on the tutorial classes.'}"
      ]
     },
     "execution_count": 14,
     "metadata": {},
     "output_type": "execute_result"
    }
   ],
   "source": [
    "def get_staff_feedback(module):\n",
    "    fb = pd.read_csv(\"../data/raw/staff-feedback.csv\")\n",
    "    mfb = fb[fb[\"Module Code\"] == module]\n",
    "    if len(mfb) < 1:\n",
    "        return None\n",
    "    return mfb.drop([\"Timestamp\", \"Email address\", \"Module Code\", \"Module Name\"], axis=1).iloc[0].to_dict()\n",
    "\n",
    "staff_fb = get_staff_feedback(module)\n",
    "\n",
    "output[\"staff_feedback\"] = staff_fb\n",
    "staff_fb"
   ]
  },
  {
   "cell_type": "code",
   "execution_count": 15,
   "metadata": {},
   "outputs": [],
   "source": [
    "# save_file(\"../data/generated/{0}.json\".format(module), json.dumps(output))\n",
    "# output"
   ]
  }
 ],
 "metadata": {
  "kernelspec": {
   "display_name": "Python 3",
   "language": "python",
   "name": "python3"
  },
  "language_info": {
   "codemirror_mode": {
    "name": "ipython",
    "version": 3
   },
   "file_extension": ".py",
   "mimetype": "text/x-python",
   "name": "python",
   "nbconvert_exporter": "python",
   "pygments_lexer": "ipython3",
   "version": "3.6.5"
  }
 },
 "nbformat": 4,
 "nbformat_minor": 2
}
