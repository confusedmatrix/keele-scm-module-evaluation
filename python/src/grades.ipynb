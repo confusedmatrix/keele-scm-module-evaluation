{
 "cells": [
  {
   "cell_type": "code",
   "execution_count": 1,
   "metadata": {},
   "outputs": [],
   "source": [
    "import pandas as pd\n",
    "import numpy as np\n",
    "import os\n",
    "import json\n",
    "import re\n",
    "from hashlib import sha512\n",
    "from vega import VegaLite\n",
    "from wordcloud import WordCloud\n",
    "from IPython.display import display\n",
    "\n",
    "def display_vg(spec):\n",
    "    bundle = {}\n",
    "    bundle['application/vnd.vegalite.v2+json'] = spec\n",
    "    display(bundle, raw=True)\n",
    "    \n",
    "def mkdir(directory):\n",
    "    \"\"\"\n",
    "    :param string directory: \n",
    "    :return: \n",
    "    \"\"\"\n",
    "    try:\n",
    "        os.mkdir(directory)\n",
    "    except FileExistsError:\n",
    "        pass\n",
    "    \n",
    "def save_file(file_name, data):\n",
    "    with open(file_name, \"w\") as f:\n",
    "        f.write(data)\n",
    "        "
   ]
  },
  {
   "cell_type": "code",
   "execution_count": 2,
   "metadata": {},
   "outputs": [],
   "source": [
    "mkdir(\"../data/generated/\")\n",
    "mkdir(\"../data/generated/images\")"
   ]
  },
  {
   "cell_type": "code",
   "execution_count": 2,
   "metadata": {},
   "outputs": [
    {
     "data": {
      "text/plain": [
       "['CSC-10032',\n",
       " 'CSC-10035',\n",
       " 'CSC-20002',\n",
       " 'CSC-30002',\n",
       " 'CSC-10034',\n",
       " 'CSC-20004',\n",
       " 'MAT-40004',\n",
       " 'MAT-40003',\n",
       " 'MAT-20005',\n",
       " 'MAT-30034',\n",
       " 'MAT-30033',\n",
       " 'MAT-30002',\n",
       " 'MAT-20032',\n",
       " 'MAT-20004',\n",
       " 'MAT-30004',\n",
       " 'CSC-40050',\n",
       " 'MAT-10051',\n",
       " 'MAT-30032',\n",
       " 'CSC-40044',\n",
       " 'MAT-20028',\n",
       " 'MAT-10043',\n",
       " 'CSC-40042',\n",
       " 'CSC-40045',\n",
       " 'MAT-30011',\n",
       " 'MAT-30016',\n",
       " 'MAT-30029',\n",
       " 'MAT-20029',\n",
       " 'MAT-20016',\n",
       " 'CSC-30021',\n",
       " 'CSC-30019',\n",
       " 'MAT-40010',\n",
       " 'CSC-20021',\n",
       " 'CSC-10029',\n",
       " 'CSC-30016',\n",
       " 'CSC-30018',\n",
       " 'CSC-30020',\n",
       " 'CSC-10026',\n",
       " 'CSC-20037',\n",
       " 'MAT-40008',\n",
       " 'CSC-20038',\n",
       " 'MAT-40009',\n",
       " 'MAT-30030',\n",
       " 'MAT-30037',\n",
       " 'MAT-30001',\n",
       " 'MAT-30039',\n",
       " 'MAT-20008',\n",
       " 'CSC-40039',\n",
       " 'MAT-30038',\n",
       " 'MAT-00006',\n",
       " 'CSC-40038',\n",
       " 'MAT-20031',\n",
       " 'MAT-20025',\n",
       " 'MAT-30013',\n",
       " 'MAT-30014',\n",
       " 'MAT-10046',\n",
       " 'MAT-20023',\n",
       " 'CSY-30001',\n",
       " 'MAT-10047',\n",
       " 'MAT-30024',\n",
       " 'CSC-40046',\n",
       " 'MAT-30023',\n",
       " 'CSC-40041',\n",
       " 'MAT-10049',\n",
       " 'CSC-20022',\n",
       " 'MAT-40014',\n",
       " 'MAT-40013',\n",
       " 'CSC-30025',\n",
       " 'CSC-30022',\n",
       " 'CSC-20024',\n",
       " 'MAT-40012',\n",
       " 'CSC-20023',\n",
       " 'CSC-10025',\n",
       " 'CSC-30012']"
      ]
     },
     "execution_count": 2,
     "metadata": {},
     "output_type": "execute_result"
    }
   ],
   "source": [
    "def get_modules(root):\n",
    "    modules = [item for item in os.listdir(root) if os.path.isdir(os.path.join(root, item))]\n",
    "    \n",
    "    return modules\n",
    "\n",
    "modules = get_modules(\"../data/raw/modules\")\n",
    "\n",
    "modules"
   ]
  },
  {
   "cell_type": "code",
   "execution_count": 6,
   "metadata": {},
   "outputs": [
    {
     "name": "stdout",
     "output_type": "stream",
     "text": [
      "CSC-30016\n"
     ]
    },
    {
     "ename": "FileNotFoundError",
     "evalue": "File b'../data/raw/modules/CSC-30016/grades.csv' does not exist",
     "output_type": "error",
     "traceback": [
      "\u001b[0;31m---------------------------------------------------------------------------\u001b[0m",
      "\u001b[0;31mFileNotFoundError\u001b[0m                         Traceback (most recent call last)",
      "\u001b[0;32m<ipython-input-6-689560584899>\u001b[0m in \u001b[0;36m<module>\u001b[0;34m()\u001b[0m\n\u001b[1;32m     38\u001b[0m     \u001b[0;32mreturn\u001b[0m \u001b[0;34m(\u001b[0m\u001b[0mgrades\u001b[0m\u001b[0;34m.\u001b[0m\u001b[0miloc\u001b[0m\u001b[0;34m[\u001b[0m\u001b[0;36m0\u001b[0m\u001b[0;34m]\u001b[0m\u001b[0;34m[\u001b[0m\u001b[0;34m'Year'\u001b[0m\u001b[0;34m]\u001b[0m\u001b[0;34m,\u001b[0m \u001b[0mgrades\u001b[0m\u001b[0;34m.\u001b[0m\u001b[0miloc\u001b[0m\u001b[0;34m[\u001b[0m\u001b[0;36m0\u001b[0m\u001b[0;34m]\u001b[0m\u001b[0;34m[\u001b[0m\u001b[0;34m'Period'\u001b[0m\u001b[0;34m]\u001b[0m\u001b[0;34m)\u001b[0m\u001b[0;34m\u001b[0m\u001b[0m\n\u001b[1;32m     39\u001b[0m \u001b[0;34m\u001b[0m\u001b[0m\n\u001b[0;32m---> 40\u001b[0;31m \u001b[0myear\u001b[0m\u001b[0;34m,\u001b[0m \u001b[0msemester\u001b[0m \u001b[0;34m=\u001b[0m \u001b[0mget_year_and_semester\u001b[0m\u001b[0;34m(\u001b[0m\u001b[0mmodule\u001b[0m\u001b[0;34m)\u001b[0m\u001b[0;34m\u001b[0m\u001b[0m\n\u001b[0m\u001b[1;32m     41\u001b[0m \u001b[0moutput\u001b[0m\u001b[0;34m[\u001b[0m\u001b[0;34m\"year\"\u001b[0m\u001b[0;34m]\u001b[0m \u001b[0;34m=\u001b[0m \u001b[0myear\u001b[0m\u001b[0;34m\u001b[0m\u001b[0m\n\u001b[1;32m     42\u001b[0m \u001b[0moutput\u001b[0m\u001b[0;34m[\u001b[0m\u001b[0;34m\"semester\"\u001b[0m\u001b[0;34m]\u001b[0m \u001b[0;34m=\u001b[0m \u001b[0mre\u001b[0m\u001b[0;34m.\u001b[0m\u001b[0msub\u001b[0m\u001b[0;34m(\u001b[0m\u001b[0;34mr\"SEM\"\u001b[0m\u001b[0;34m,\u001b[0m \u001b[0;34m\"\"\u001b[0m\u001b[0;34m,\u001b[0m \u001b[0msemester\u001b[0m\u001b[0;34m)\u001b[0m\u001b[0;34m\u001b[0m\u001b[0m\n",
      "\u001b[0;32m<ipython-input-6-689560584899>\u001b[0m in \u001b[0;36mget_year_and_semester\u001b[0;34m(module)\u001b[0m\n\u001b[1;32m     34\u001b[0m \u001b[0;32mdef\u001b[0m \u001b[0mget_year_and_semester\u001b[0m\u001b[0;34m(\u001b[0m\u001b[0mmodule\u001b[0m\u001b[0;34m)\u001b[0m\u001b[0;34m:\u001b[0m\u001b[0;34m\u001b[0m\u001b[0m\n\u001b[1;32m     35\u001b[0m     \u001b[0mfile\u001b[0m \u001b[0;34m=\u001b[0m \u001b[0;34m'../data/raw/modules/{0}/grades.csv'\u001b[0m\u001b[0;34m.\u001b[0m\u001b[0mformat\u001b[0m\u001b[0;34m(\u001b[0m\u001b[0mmodule\u001b[0m\u001b[0;34m)\u001b[0m\u001b[0;34m\u001b[0m\u001b[0m\n\u001b[0;32m---> 36\u001b[0;31m     \u001b[0mgrades\u001b[0m \u001b[0;34m=\u001b[0m \u001b[0mpd\u001b[0m\u001b[0;34m.\u001b[0m\u001b[0mread_csv\u001b[0m\u001b[0;34m(\u001b[0m\u001b[0mfile\u001b[0m\u001b[0;34m,\u001b[0m \u001b[0mskiprows\u001b[0m\u001b[0;34m=\u001b[0m\u001b[0;34m[\u001b[0m\u001b[0;36m0\u001b[0m\u001b[0;34m]\u001b[0m\u001b[0;34m)\u001b[0m\u001b[0;34m\u001b[0m\u001b[0m\n\u001b[0m\u001b[1;32m     37\u001b[0m \u001b[0;34m\u001b[0m\u001b[0m\n\u001b[1;32m     38\u001b[0m     \u001b[0;32mreturn\u001b[0m \u001b[0;34m(\u001b[0m\u001b[0mgrades\u001b[0m\u001b[0;34m.\u001b[0m\u001b[0miloc\u001b[0m\u001b[0;34m[\u001b[0m\u001b[0;36m0\u001b[0m\u001b[0;34m]\u001b[0m\u001b[0;34m[\u001b[0m\u001b[0;34m'Year'\u001b[0m\u001b[0;34m]\u001b[0m\u001b[0;34m,\u001b[0m \u001b[0mgrades\u001b[0m\u001b[0;34m.\u001b[0m\u001b[0miloc\u001b[0m\u001b[0;34m[\u001b[0m\u001b[0;36m0\u001b[0m\u001b[0;34m]\u001b[0m\u001b[0;34m[\u001b[0m\u001b[0;34m'Period'\u001b[0m\u001b[0;34m]\u001b[0m\u001b[0;34m)\u001b[0m\u001b[0;34m\u001b[0m\u001b[0m\n",
      "\u001b[0;32m/opt/conda/lib/python3.6/site-packages/pandas/io/parsers.py\u001b[0m in \u001b[0;36mparser_f\u001b[0;34m(filepath_or_buffer, sep, delimiter, header, names, index_col, usecols, squeeze, prefix, mangle_dupe_cols, dtype, engine, converters, true_values, false_values, skipinitialspace, skiprows, nrows, na_values, keep_default_na, na_filter, verbose, skip_blank_lines, parse_dates, infer_datetime_format, keep_date_col, date_parser, dayfirst, iterator, chunksize, compression, thousands, decimal, lineterminator, quotechar, quoting, escapechar, comment, encoding, dialect, tupleize_cols, error_bad_lines, warn_bad_lines, skipfooter, skip_footer, doublequote, delim_whitespace, as_recarray, compact_ints, use_unsigned, low_memory, buffer_lines, memory_map, float_precision)\u001b[0m\n\u001b[1;32m    707\u001b[0m                     skip_blank_lines=skip_blank_lines)\n\u001b[1;32m    708\u001b[0m \u001b[0;34m\u001b[0m\u001b[0m\n\u001b[0;32m--> 709\u001b[0;31m         \u001b[0;32mreturn\u001b[0m \u001b[0m_read\u001b[0m\u001b[0;34m(\u001b[0m\u001b[0mfilepath_or_buffer\u001b[0m\u001b[0;34m,\u001b[0m \u001b[0mkwds\u001b[0m\u001b[0;34m)\u001b[0m\u001b[0;34m\u001b[0m\u001b[0m\n\u001b[0m\u001b[1;32m    710\u001b[0m \u001b[0;34m\u001b[0m\u001b[0m\n\u001b[1;32m    711\u001b[0m     \u001b[0mparser_f\u001b[0m\u001b[0;34m.\u001b[0m\u001b[0m__name__\u001b[0m \u001b[0;34m=\u001b[0m \u001b[0mname\u001b[0m\u001b[0;34m\u001b[0m\u001b[0m\n",
      "\u001b[0;32m/opt/conda/lib/python3.6/site-packages/pandas/io/parsers.py\u001b[0m in \u001b[0;36m_read\u001b[0;34m(filepath_or_buffer, kwds)\u001b[0m\n\u001b[1;32m    447\u001b[0m \u001b[0;34m\u001b[0m\u001b[0m\n\u001b[1;32m    448\u001b[0m     \u001b[0;31m# Create the parser.\u001b[0m\u001b[0;34m\u001b[0m\u001b[0;34m\u001b[0m\u001b[0m\n\u001b[0;32m--> 449\u001b[0;31m     \u001b[0mparser\u001b[0m \u001b[0;34m=\u001b[0m \u001b[0mTextFileReader\u001b[0m\u001b[0;34m(\u001b[0m\u001b[0mfilepath_or_buffer\u001b[0m\u001b[0;34m,\u001b[0m \u001b[0;34m**\u001b[0m\u001b[0mkwds\u001b[0m\u001b[0;34m)\u001b[0m\u001b[0;34m\u001b[0m\u001b[0m\n\u001b[0m\u001b[1;32m    450\u001b[0m \u001b[0;34m\u001b[0m\u001b[0m\n\u001b[1;32m    451\u001b[0m     \u001b[0;32mif\u001b[0m \u001b[0mchunksize\u001b[0m \u001b[0;32mor\u001b[0m \u001b[0miterator\u001b[0m\u001b[0;34m:\u001b[0m\u001b[0;34m\u001b[0m\u001b[0m\n",
      "\u001b[0;32m/opt/conda/lib/python3.6/site-packages/pandas/io/parsers.py\u001b[0m in \u001b[0;36m__init__\u001b[0;34m(self, f, engine, **kwds)\u001b[0m\n\u001b[1;32m    816\u001b[0m             \u001b[0mself\u001b[0m\u001b[0;34m.\u001b[0m\u001b[0moptions\u001b[0m\u001b[0;34m[\u001b[0m\u001b[0;34m'has_index_names'\u001b[0m\u001b[0;34m]\u001b[0m \u001b[0;34m=\u001b[0m \u001b[0mkwds\u001b[0m\u001b[0;34m[\u001b[0m\u001b[0;34m'has_index_names'\u001b[0m\u001b[0;34m]\u001b[0m\u001b[0;34m\u001b[0m\u001b[0m\n\u001b[1;32m    817\u001b[0m \u001b[0;34m\u001b[0m\u001b[0m\n\u001b[0;32m--> 818\u001b[0;31m         \u001b[0mself\u001b[0m\u001b[0;34m.\u001b[0m\u001b[0m_make_engine\u001b[0m\u001b[0;34m(\u001b[0m\u001b[0mself\u001b[0m\u001b[0;34m.\u001b[0m\u001b[0mengine\u001b[0m\u001b[0;34m)\u001b[0m\u001b[0;34m\u001b[0m\u001b[0m\n\u001b[0m\u001b[1;32m    819\u001b[0m \u001b[0;34m\u001b[0m\u001b[0m\n\u001b[1;32m    820\u001b[0m     \u001b[0;32mdef\u001b[0m \u001b[0mclose\u001b[0m\u001b[0;34m(\u001b[0m\u001b[0mself\u001b[0m\u001b[0;34m)\u001b[0m\u001b[0;34m:\u001b[0m\u001b[0;34m\u001b[0m\u001b[0m\n",
      "\u001b[0;32m/opt/conda/lib/python3.6/site-packages/pandas/io/parsers.py\u001b[0m in \u001b[0;36m_make_engine\u001b[0;34m(self, engine)\u001b[0m\n\u001b[1;32m   1047\u001b[0m     \u001b[0;32mdef\u001b[0m \u001b[0m_make_engine\u001b[0m\u001b[0;34m(\u001b[0m\u001b[0mself\u001b[0m\u001b[0;34m,\u001b[0m \u001b[0mengine\u001b[0m\u001b[0;34m=\u001b[0m\u001b[0;34m'c'\u001b[0m\u001b[0;34m)\u001b[0m\u001b[0;34m:\u001b[0m\u001b[0;34m\u001b[0m\u001b[0m\n\u001b[1;32m   1048\u001b[0m         \u001b[0;32mif\u001b[0m \u001b[0mengine\u001b[0m \u001b[0;34m==\u001b[0m \u001b[0;34m'c'\u001b[0m\u001b[0;34m:\u001b[0m\u001b[0;34m\u001b[0m\u001b[0m\n\u001b[0;32m-> 1049\u001b[0;31m             \u001b[0mself\u001b[0m\u001b[0;34m.\u001b[0m\u001b[0m_engine\u001b[0m \u001b[0;34m=\u001b[0m \u001b[0mCParserWrapper\u001b[0m\u001b[0;34m(\u001b[0m\u001b[0mself\u001b[0m\u001b[0;34m.\u001b[0m\u001b[0mf\u001b[0m\u001b[0;34m,\u001b[0m \u001b[0;34m**\u001b[0m\u001b[0mself\u001b[0m\u001b[0;34m.\u001b[0m\u001b[0moptions\u001b[0m\u001b[0;34m)\u001b[0m\u001b[0;34m\u001b[0m\u001b[0m\n\u001b[0m\u001b[1;32m   1050\u001b[0m         \u001b[0;32melse\u001b[0m\u001b[0;34m:\u001b[0m\u001b[0;34m\u001b[0m\u001b[0m\n\u001b[1;32m   1051\u001b[0m             \u001b[0;32mif\u001b[0m \u001b[0mengine\u001b[0m \u001b[0;34m==\u001b[0m \u001b[0;34m'python'\u001b[0m\u001b[0;34m:\u001b[0m\u001b[0;34m\u001b[0m\u001b[0m\n",
      "\u001b[0;32m/opt/conda/lib/python3.6/site-packages/pandas/io/parsers.py\u001b[0m in \u001b[0;36m__init__\u001b[0;34m(self, src, **kwds)\u001b[0m\n\u001b[1;32m   1693\u001b[0m         \u001b[0mkwds\u001b[0m\u001b[0;34m[\u001b[0m\u001b[0;34m'allow_leading_cols'\u001b[0m\u001b[0;34m]\u001b[0m \u001b[0;34m=\u001b[0m \u001b[0mself\u001b[0m\u001b[0;34m.\u001b[0m\u001b[0mindex_col\u001b[0m \u001b[0;32mis\u001b[0m \u001b[0;32mnot\u001b[0m \u001b[0;32mFalse\u001b[0m\u001b[0;34m\u001b[0m\u001b[0m\n\u001b[1;32m   1694\u001b[0m \u001b[0;34m\u001b[0m\u001b[0m\n\u001b[0;32m-> 1695\u001b[0;31m         \u001b[0mself\u001b[0m\u001b[0;34m.\u001b[0m\u001b[0m_reader\u001b[0m \u001b[0;34m=\u001b[0m \u001b[0mparsers\u001b[0m\u001b[0;34m.\u001b[0m\u001b[0mTextReader\u001b[0m\u001b[0;34m(\u001b[0m\u001b[0msrc\u001b[0m\u001b[0;34m,\u001b[0m \u001b[0;34m**\u001b[0m\u001b[0mkwds\u001b[0m\u001b[0;34m)\u001b[0m\u001b[0;34m\u001b[0m\u001b[0m\n\u001b[0m\u001b[1;32m   1696\u001b[0m \u001b[0;34m\u001b[0m\u001b[0m\n\u001b[1;32m   1697\u001b[0m         \u001b[0;31m# XXX\u001b[0m\u001b[0;34m\u001b[0m\u001b[0;34m\u001b[0m\u001b[0m\n",
      "\u001b[0;32mpandas/_libs/parsers.pyx\u001b[0m in \u001b[0;36mpandas._libs.parsers.TextReader.__cinit__\u001b[0;34m()\u001b[0m\n",
      "\u001b[0;32mpandas/_libs/parsers.pyx\u001b[0m in \u001b[0;36mpandas._libs.parsers.TextReader._setup_parser_source\u001b[0;34m()\u001b[0m\n",
      "\u001b[0;31mFileNotFoundError\u001b[0m: File b'../data/raw/modules/CSC-30016/grades.csv' does not exist"
     ]
    }
   ],
   "source": [
    "module = \"CSC-30016\"\n",
    "print(module)\n",
    "# mkdir(\"../data/generated/images/{0}\".format(module))\n",
    "\n",
    "output = {}\n",
    "output[\"module_code\"] = module\n",
    "\n",
    "def get_grades(module):\n",
    "    file = '../data/raw/modules/{0}/grades.csv'.format(module)\n",
    "    with open(file, \"r\") as f:\n",
    "        fline = f.readline()\n",
    "        assessment_weights = [int(weight)/100 for weight in re.findall(r\"\\((.*?)%\\)\", fline)]\n",
    "        \n",
    "    grades = pd.read_csv(file, skiprows=[0])\n",
    "    grades = grades[['#Ass#', 'Mark', '#Cand Key']]\n",
    "    grades.columns = ['ass', 'grade', 'user']\n",
    "    grades['user'] = grades['user'].str.replace(r'#|/[0-9]', '').apply(lambda u: sha512(u.encode('utf-8')).hexdigest())\n",
    "    grades = grades.set_index('user')\n",
    "\n",
    "    assessments = grades['ass'].unique()\n",
    "    module_grades = pd.DataFrame([], index=grades.index.unique())\n",
    "\n",
    "    for k, ass in enumerate(assessments):\n",
    "        assessment_grades = grades[grades['ass'] == ass]['grade'].to_frame()\n",
    "        assessment_grades.columns = [ass]\n",
    "        assessment_grades['{0}_weighted'.format(ass)] = assessment_grades[ass] * assessment_weights[k]\n",
    "        module_grades = module_grades.merge(assessment_grades, left_index=True, right_index=True, how=\"outer\")\n",
    "\n",
    "    module_grades = module_grades.fillna(0)\n",
    "    module_grades['final_grade'] = module_grades.filter(regex=\"_weighted\").sum(axis=1)\n",
    "    \n",
    "    return module_grades\n",
    "\n",
    "def get_year_and_semester(module):\n",
    "    file = '../data/raw/modules/{0}/grades.csv'.format(module)\n",
    "    grades = pd.read_csv(file, skiprows=[0])\n",
    "    \n",
    "    return (grades.iloc[0]['Year'], grades.iloc[0]['Period'])\n",
    "\n",
    "year, semester = get_year_and_semester(module)\n",
    "output[\"year\"] = year\n",
    "output[\"semester\"] = re.sub(r\"SEM\", \"\", semester)\n",
    "module_grades = get_grades(module)\n",
    "\n",
    "output[\"num_students\"] = module_grades.shape[0]\n",
    "module_grades.head()"
   ]
  },
  {
   "cell_type": "code",
   "execution_count": 7,
   "metadata": {},
   "outputs": [
    {
     "ename": "NameError",
     "evalue": "name 'module_grades' is not defined",
     "output_type": "error",
     "traceback": [
      "\u001b[0;31m---------------------------------------------------------------------------\u001b[0m",
      "\u001b[0;31mNameError\u001b[0m                                 Traceback (most recent call last)",
      "\u001b[0;32m<ipython-input-7-5f0fe9fc079f>\u001b[0m in \u001b[0;36m<module>\u001b[0;34m()\u001b[0m\n\u001b[1;32m     63\u001b[0m     }, data)\n\u001b[1;32m     64\u001b[0m \u001b[0;34m\u001b[0m\u001b[0m\n\u001b[0;32m---> 65\u001b[0;31m \u001b[0mchart\u001b[0m \u001b[0;34m=\u001b[0m \u001b[0mbuild_grade_histogram\u001b[0m\u001b[0;34m(\u001b[0m\u001b[0mheight\u001b[0m\u001b[0;34m,\u001b[0m \u001b[0mwidth\u001b[0m\u001b[0;34m,\u001b[0m \u001b[0mmodule_grades\u001b[0m\u001b[0;34m)\u001b[0m\u001b[0;34m\u001b[0m\u001b[0m\n\u001b[0m\u001b[1;32m     66\u001b[0m \u001b[0moutput\u001b[0m\u001b[0;34m[\u001b[0m\u001b[0;34m\"hist\"\u001b[0m\u001b[0;34m]\u001b[0m \u001b[0;34m=\u001b[0m \u001b[0mchart\u001b[0m\u001b[0;34m.\u001b[0m\u001b[0mspec\u001b[0m\u001b[0;34m\u001b[0m\u001b[0m\n\u001b[1;32m     67\u001b[0m \u001b[0;34m\u001b[0m\u001b[0m\n",
      "\u001b[0;31mNameError\u001b[0m: name 'module_grades' is not defined"
     ]
    }
   ],
   "source": [
    "height = 400\n",
    "width = 800\n",
    "\n",
    "def build_grade_histogram(height, width, data):\n",
    "    return VegaLite({\n",
    "        \"$schema\": \"https://vega.github.io/schema/vega-lite/v2.0.json\",\n",
    "        \"title\": \"Module attainment histogram\",\n",
    "        \"height\": height,\n",
    "        \"width\": width,\n",
    "        \"layer\": [\n",
    "            {\n",
    "                \"mark\": \"bar\",\n",
    "                \"encoding\": {\n",
    "                    \"x\": {\n",
    "                        \"bin\": { \"step\": 10 },\n",
    "                        \"field\": \"final_grade\",\n",
    "                        \"type\": \"quantitative\",\n",
    "                        \"axis\": { \"title\": \"Grade\", \"tickCount\": 10 },\n",
    "                        \"scale\": { \"domain\": [0, 100]}\n",
    "                    },\n",
    "                    \"y\": {\n",
    "                        \"aggregate\": \"count\",\n",
    "                        \"type\": \"quantitative\",\n",
    "                        \"axis\": { \"title\": \"Number of students\" }\n",
    "                    },\n",
    "                    \"color\": {\n",
    "                        \"bin\": { \"step\": 10 },\n",
    "                        \"field\": \"final_grade\",\n",
    "                        \"type\": \"quantitative\",\n",
    "                        \"legend\": None\n",
    "                    }\n",
    "                }\n",
    "            },\n",
    "            {\n",
    "                \"mark\": \"rule\",\n",
    "                \"encoding\": {\n",
    "                    \"x\": {\n",
    "                        \"value\": width/100 * 40\n",
    "                    },\n",
    "                    \"size\": {\n",
    "                        \"value\": 2\n",
    "                    },\n",
    "                    \"color\": {\n",
    "                        \"value\": \"#ccc\"\n",
    "                    }\n",
    "                }\n",
    "            },\n",
    "            {\n",
    "                \"mark\": \"rule\",\n",
    "                \"encoding\": {\n",
    "                    \"x\": {\n",
    "                        \"value\": width/100 * 60\n",
    "                    },\n",
    "                    \"size\": {\n",
    "                        \"value\": 2\n",
    "                    },\n",
    "                    \"color\": {\n",
    "                        \"value\": \"#ccc\"\n",
    "                    }\n",
    "                }\n",
    "            }\n",
    "        ]\n",
    "    }, data)\n",
    "\n",
    "chart = build_grade_histogram(height, width, module_grades)\n",
    "output[\"hist\"] = chart.spec\n",
    "\n",
    "display_vg(chart.spec)"
   ]
  },
  {
   "cell_type": "code",
   "execution_count": 8,
   "metadata": {},
   "outputs": [
    {
     "data": {
      "text/plain": [
       "{'median': 73.8, 'gte70': 42, 'gte60': 14, 'lte40': 10, 'zeros': 2}"
      ]
     },
     "execution_count": 8,
     "metadata": {},
     "output_type": "execute_result"
    }
   ],
   "source": [
    "def get_grade_stats(grades):\n",
    "    stats = {}\n",
    "    stats[\"median\"] = round(grades['final_grade'].median(), 1)\n",
    "    stats[\"gte70\"] = int(grades[grades['final_grade'] >= 70]['final_grade'].count())\n",
    "    stats[\"gte60\"] = int(grades[grades['final_grade'] >= 60]['final_grade'].count() - stats[\"gte70\"])\n",
    "    stats[\"lte40\"] = int(grades[grades['final_grade'] <= 40]['final_grade'].count())\n",
    "    stats[\"zeros\"] = int(grades[grades['final_grade'] == 0]['final_grade'].count())\n",
    "\n",
    "    return stats\n",
    "\n",
    "output[\"stats\"] = get_grade_stats(module_grades)\n",
    "\n",
    "output[\"stats\"]"
   ]
  },
  {
   "cell_type": "code",
   "execution_count": 9,
   "metadata": {},
   "outputs": [
    {
     "data": {
      "text/html": [
       "<div>\n",
       "<style scoped>\n",
       "    .dataframe tbody tr th:only-of-type {\n",
       "        vertical-align: middle;\n",
       "    }\n",
       "\n",
       "    .dataframe tbody tr th {\n",
       "        vertical-align: top;\n",
       "    }\n",
       "\n",
       "    .dataframe thead th {\n",
       "        text-align: right;\n",
       "    }\n",
       "</style>\n",
       "<table border=\"1\" class=\"dataframe\">\n",
       "  <thead>\n",
       "    <tr style=\"text-align: right;\">\n",
       "      <th></th>\n",
       "      <th>#01</th>\n",
       "      <th>#01_weighted</th>\n",
       "      <th>#02</th>\n",
       "      <th>#02_weighted</th>\n",
       "      <th>final_grade</th>\n",
       "      <th>average_grade</th>\n",
       "    </tr>\n",
       "    <tr>\n",
       "      <th>user</th>\n",
       "      <th></th>\n",
       "      <th></th>\n",
       "      <th></th>\n",
       "      <th></th>\n",
       "      <th></th>\n",
       "      <th></th>\n",
       "    </tr>\n",
       "  </thead>\n",
       "  <tbody>\n",
       "    <tr>\n",
       "      <th>0a628068de9c2a70f8685e318f5dbd07badc53704c8d7655949fda7415f195ec98c3a4d43e3957661f2fd0fce73b4814b58cf552cd35d1865cf6bf42f3e69565</th>\n",
       "      <td>96.0</td>\n",
       "      <td>76.8</td>\n",
       "      <td>89</td>\n",
       "      <td>17.8</td>\n",
       "      <td>94.6</td>\n",
       "      <td>94.6</td>\n",
       "    </tr>\n",
       "    <tr>\n",
       "      <th>0a6d48869596d53488f8838878198bf3caac38548d83ad7e14734297de4253f8199a814b7db1bab6091835250c7bdcc75acc14a1572f112a3967c79b1503013e</th>\n",
       "      <td>64.0</td>\n",
       "      <td>51.2</td>\n",
       "      <td>95</td>\n",
       "      <td>19.0</td>\n",
       "      <td>70.2</td>\n",
       "      <td>70.2</td>\n",
       "    </tr>\n",
       "    <tr>\n",
       "      <th>0a8e012a21baf4c32928caa65c149c2afd8a970a7a28820b215decefbe66778c28ae0af71c47544033919fb74846139140f9ec20dd5d8350cd3bcef2155391ff</th>\n",
       "      <td>85.0</td>\n",
       "      <td>68.0</td>\n",
       "      <td>83</td>\n",
       "      <td>16.6</td>\n",
       "      <td>84.6</td>\n",
       "      <td>84.6</td>\n",
       "    </tr>\n",
       "    <tr>\n",
       "      <th>18e4e11be10aaf08723ffb8f2f731ffb96d9ebdc5f38368f4b2f1e46b5f85a919d3f60d2daafcb07ead56fe24bfa63f6d13eff337a1e5f0b550c609e918bd8dc</th>\n",
       "      <td>79.0</td>\n",
       "      <td>63.2</td>\n",
       "      <td>87</td>\n",
       "      <td>17.4</td>\n",
       "      <td>80.6</td>\n",
       "      <td>80.6</td>\n",
       "    </tr>\n",
       "    <tr>\n",
       "      <th>1a70e13e29d382e20adf383c93d02fed2bf9b1855867b0d22415c983e81e7750f6da13abf1523d908362d4a5c8faff44b303f1c6b1572f0acf2013608633fc02</th>\n",
       "      <td>95.0</td>\n",
       "      <td>76.0</td>\n",
       "      <td>91</td>\n",
       "      <td>18.2</td>\n",
       "      <td>94.2</td>\n",
       "      <td>94.2</td>\n",
       "    </tr>\n",
       "  </tbody>\n",
       "</table>\n",
       "</div>"
      ],
      "text/plain": [
       "                                                     #01  #01_weighted  #02  \\\n",
       "user                                                                          \n",
       "0a628068de9c2a70f8685e318f5dbd07badc53704c8d765...  96.0          76.8   89   \n",
       "0a6d48869596d53488f8838878198bf3caac38548d83ad7...  64.0          51.2   95   \n",
       "0a8e012a21baf4c32928caa65c149c2afd8a970a7a28820...  85.0          68.0   83   \n",
       "18e4e11be10aaf08723ffb8f2f731ffb96d9ebdc5f38368...  79.0          63.2   87   \n",
       "1a70e13e29d382e20adf383c93d02fed2bf9b1855867b0d...  95.0          76.0   91   \n",
       "\n",
       "                                                    #02_weighted  final_grade  \\\n",
       "user                                                                            \n",
       "0a628068de9c2a70f8685e318f5dbd07badc53704c8d765...          17.8         94.6   \n",
       "0a6d48869596d53488f8838878198bf3caac38548d83ad7...          19.0         70.2   \n",
       "0a8e012a21baf4c32928caa65c149c2afd8a970a7a28820...          16.6         84.6   \n",
       "18e4e11be10aaf08723ffb8f2f731ffb96d9ebdc5f38368...          17.4         80.6   \n",
       "1a70e13e29d382e20adf383c93d02fed2bf9b1855867b0d...          18.2         94.2   \n",
       "\n",
       "                                                    average_grade  \n",
       "user                                                               \n",
       "0a628068de9c2a70f8685e318f5dbd07badc53704c8d765...           94.6  \n",
       "0a6d48869596d53488f8838878198bf3caac38548d83ad7...           70.2  \n",
       "0a8e012a21baf4c32928caa65c149c2afd8a970a7a28820...           84.6  \n",
       "18e4e11be10aaf08723ffb8f2f731ffb96d9ebdc5f38368...           80.6  \n",
       "1a70e13e29d382e20adf383c93d02fed2bf9b1855867b0d...           94.2  "
      ]
     },
     "execution_count": 9,
     "metadata": {},
     "output_type": "execute_result"
    }
   ],
   "source": [
    "all_grades = [get_grades(module)[\"final_grade\"] for module in modules]\n",
    "average_grades = pd.DataFrame(pd.concat(all_grades, axis=1).mean(axis=1), columns=[\"average_grade\"])\n",
    "# random averages\n",
    "# average_grades = pd.DataFrame((np.random.random_sample(module_grades.shape[0]) * 100).round(1), columns=[\"average_grade\"], index=module_grades.index)\n",
    "compare_grades = module_grades.merge(average_grades, left_index=True, right_index=True, how=\"left\")\n",
    "\n",
    "compare_grades.head()"
   ]
  },
  {
   "cell_type": "code",
   "execution_count": 10,
   "metadata": {},
   "outputs": [
    {
     "data": {
      "application/vnd.vegalite.v2+json": {
       "$schema": "https://vega.github.io/schema/vega-lite/v2.0.json",
       "data": {
        "values": [
         {
          "#01": 96,
          "#01_weighted": 76.80000000000001,
          "#02": 89,
          "#02_weighted": 17.8,
          "average_grade": 94.60000000000001,
          "final_grade": 94.60000000000001
         },
         {
          "#01": 64,
          "#01_weighted": 51.2,
          "#02": 95,
          "#02_weighted": 19,
          "average_grade": 70.2,
          "final_grade": 70.2
         },
         {
          "#01": 85,
          "#01_weighted": 68,
          "#02": 83,
          "#02_weighted": 16.6,
          "average_grade": 84.6,
          "final_grade": 84.6
         },
         {
          "#01": 79,
          "#01_weighted": 63.2,
          "#02": 87,
          "#02_weighted": 17.400000000000002,
          "average_grade": 80.60000000000001,
          "final_grade": 80.60000000000001
         },
         {
          "#01": 95,
          "#01_weighted": 76,
          "#02": 91,
          "#02_weighted": 18.2,
          "average_grade": 94.2,
          "final_grade": 94.2
         },
         {
          "#01": 19,
          "#01_weighted": 15.200000000000001,
          "#02": 73,
          "#02_weighted": 14.600000000000001,
          "average_grade": 29.800000000000004,
          "final_grade": 29.800000000000004
         },
         {
          "#01": 33,
          "#01_weighted": 26.400000000000002,
          "#02": 68,
          "#02_weighted": 13.600000000000001,
          "average_grade": 40,
          "final_grade": 40
         },
         {
          "#01": 60,
          "#01_weighted": 48,
          "#02": 62,
          "#02_weighted": 12.4,
          "average_grade": 60.4,
          "final_grade": 60.4
         },
         {
          "#01": 17,
          "#01_weighted": 13.600000000000001,
          "#02": 0,
          "#02_weighted": 0,
          "average_grade": 13.600000000000001,
          "final_grade": 13.600000000000001
         },
         {
          "#01": 100,
          "#01_weighted": 80,
          "#02": 93,
          "#02_weighted": 18.6,
          "average_grade": 98.6,
          "final_grade": 98.6
         },
         {
          "#01": 64,
          "#01_weighted": 51.2,
          "#02": 69,
          "#02_weighted": 13.8,
          "average_grade": 65,
          "final_grade": 65
         },
         {
          "#01": 58,
          "#01_weighted": 46.400000000000006,
          "#02": 82,
          "#02_weighted": 16.400000000000002,
          "average_grade": 62.80000000000001,
          "final_grade": 62.80000000000001
         },
         {
          "#01": 73,
          "#01_weighted": 58.400000000000006,
          "#02": 77,
          "#02_weighted": 15.4,
          "average_grade": 73.80000000000001,
          "final_grade": 73.80000000000001
         },
         {
          "#01": 79,
          "#01_weighted": 63.2,
          "#02": 79,
          "#02_weighted": 15.8,
          "average_grade": 79,
          "final_grade": 79
         },
         {
          "#01": 0,
          "#01_weighted": 0,
          "#02": 0,
          "#02_weighted": 0,
          "average_grade": 0,
          "final_grade": 0
         },
         {
          "#01": 93,
          "#01_weighted": 74.4,
          "#02": 90,
          "#02_weighted": 18,
          "average_grade": 92.4,
          "final_grade": 92.4
         },
         {
          "#01": 0,
          "#01_weighted": 0,
          "#02": 0,
          "#02_weighted": 0,
          "average_grade": 0,
          "final_grade": 0
         },
         {
          "#01": 90,
          "#01_weighted": 72,
          "#02": 77,
          "#02_weighted": 15.4,
          "average_grade": 87.4,
          "final_grade": 87.4
         },
         {
          "#01": 95,
          "#01_weighted": 76,
          "#02": 88,
          "#02_weighted": 17.6,
          "average_grade": 93.6,
          "final_grade": 93.6
         },
         {
          "#01": 78,
          "#01_weighted": 62.400000000000006,
          "#02": 79,
          "#02_weighted": 15.8,
          "average_grade": 78.2,
          "final_grade": 78.2
         },
         {
          "#01": 86,
          "#01_weighted": 68.8,
          "#02": 75,
          "#02_weighted": 15,
          "average_grade": 83.8,
          "final_grade": 83.8
         },
         {
          "#01": 72,
          "#01_weighted": 57.6,
          "#02": 75,
          "#02_weighted": 15,
          "average_grade": 72.6,
          "final_grade": 72.6
         },
         {
          "#01": 52,
          "#01_weighted": 41.6,
          "#02": 88,
          "#02_weighted": 17.6,
          "average_grade": 59.2,
          "final_grade": 59.2
         },
         {
          "#01": 78,
          "#01_weighted": 62.400000000000006,
          "#02": 77,
          "#02_weighted": 15.4,
          "average_grade": 77.80000000000001,
          "final_grade": 77.80000000000001
         },
         {
          "#01": 74,
          "#01_weighted": 59.2,
          "#02": 89,
          "#02_weighted": 17.8,
          "average_grade": 77,
          "final_grade": 77
         },
         {
          "#01": 84,
          "#01_weighted": 67.2,
          "#02": 77,
          "#02_weighted": 15.4,
          "average_grade": 82.60000000000001,
          "final_grade": 82.60000000000001
         },
         {
          "#01": 27,
          "#01_weighted": 21.6,
          "#02": 0,
          "#02_weighted": 0,
          "average_grade": 21.6,
          "final_grade": 21.6
         },
         {
          "#01": 93,
          "#01_weighted": 74.4,
          "#02": 88,
          "#02_weighted": 17.6,
          "average_grade": 92,
          "final_grade": 92
         },
         {
          "#01": 89,
          "#01_weighted": 71.2,
          "#02": 82,
          "#02_weighted": 16.400000000000002,
          "average_grade": 87.60000000000001,
          "final_grade": 87.60000000000001
         },
         {
          "#01": 92,
          "#01_weighted": 73.60000000000001,
          "#02": 77,
          "#02_weighted": 15.4,
          "average_grade": 89.00000000000001,
          "final_grade": 89.00000000000001
         },
         {
          "#01": 66,
          "#01_weighted": 52.800000000000004,
          "#02": 83,
          "#02_weighted": 16.6,
          "average_grade": 69.4,
          "final_grade": 69.4
         },
         {
          "#01": 76,
          "#01_weighted": 60.800000000000004,
          "#02": 88,
          "#02_weighted": 17.6,
          "average_grade": 78.4,
          "final_grade": 78.4
         },
         {
          "#01": 90,
          "#01_weighted": 72,
          "#02": 77,
          "#02_weighted": 15.4,
          "average_grade": 87.4,
          "final_grade": 87.4
         },
         {
          "#01": 57,
          "#01_weighted": 45.6,
          "#02": 65,
          "#02_weighted": 13,
          "average_grade": 58.6,
          "final_grade": 58.6
         },
         {
          "#01": 83,
          "#01_weighted": 66.4,
          "#02": 62,
          "#02_weighted": 12.4,
          "average_grade": 78.80000000000001,
          "final_grade": 78.80000000000001
         },
         {
          "#01": 78,
          "#01_weighted": 62.400000000000006,
          "#02": 82,
          "#02_weighted": 16.400000000000002,
          "average_grade": 78.80000000000001,
          "final_grade": 78.80000000000001
         },
         {
          "#01": 78,
          "#01_weighted": 62.400000000000006,
          "#02": 82,
          "#02_weighted": 16.400000000000002,
          "average_grade": 78.80000000000001,
          "final_grade": 78.80000000000001
         },
         {
          "#01": 70,
          "#01_weighted": 56,
          "#02": 84,
          "#02_weighted": 16.8,
          "average_grade": 72.8,
          "final_grade": 72.8
         },
         {
          "#01": 81,
          "#01_weighted": 64.8,
          "#02": 77,
          "#02_weighted": 15.4,
          "average_grade": 80.2,
          "final_grade": 80.2
         },
         {
          "#01": 67,
          "#01_weighted": 53.6,
          "#02": 62,
          "#02_weighted": 12.4,
          "average_grade": 66,
          "final_grade": 66
         },
         {
          "#01": 72,
          "#01_weighted": 57.6,
          "#02": 75,
          "#02_weighted": 15,
          "average_grade": 72.6,
          "final_grade": 72.6
         },
         {
          "#01": 89,
          "#01_weighted": 71.2,
          "#02": 74,
          "#02_weighted": 14.8,
          "average_grade": 86,
          "final_grade": 86
         },
         {
          "#01": 78,
          "#01_weighted": 62.400000000000006,
          "#02": 75,
          "#02_weighted": 15,
          "average_grade": 77.4,
          "final_grade": 77.4
         },
         {
          "#01": 89,
          "#01_weighted": 71.2,
          "#02": 85,
          "#02_weighted": 17,
          "average_grade": 88.2,
          "final_grade": 88.2
         },
         {
          "#01": 70,
          "#01_weighted": 56,
          "#02": 74,
          "#02_weighted": 14.8,
          "average_grade": 70.8,
          "final_grade": 70.8
         },
         {
          "#01": 63,
          "#01_weighted": 50.400000000000006,
          "#02": 77,
          "#02_weighted": 15.4,
          "average_grade": 65.80000000000001,
          "final_grade": 65.80000000000001
         },
         {
          "#01": 54,
          "#01_weighted": 43.2,
          "#02": 80,
          "#02_weighted": 16,
          "average_grade": 59.2,
          "final_grade": 59.2
         },
         {
          "#01": 66,
          "#01_weighted": 52.800000000000004,
          "#02": 75,
          "#02_weighted": 15,
          "average_grade": 67.80000000000001,
          "final_grade": 67.80000000000001
         },
         {
          "#01": 54,
          "#01_weighted": 43.2,
          "#02": 87,
          "#02_weighted": 17.400000000000002,
          "average_grade": 60.60000000000001,
          "final_grade": 60.60000000000001
         },
         {
          "#01": 65,
          "#01_weighted": 52,
          "#02": 83,
          "#02_weighted": 16.6,
          "average_grade": 68.6,
          "final_grade": 68.6
         },
         {
          "#01": 78,
          "#01_weighted": 62.400000000000006,
          "#02": 88,
          "#02_weighted": 17.6,
          "average_grade": 80,
          "final_grade": 80
         },
         {
          "#01": 72,
          "#01_weighted": 57.6,
          "#02": 69,
          "#02_weighted": 13.8,
          "average_grade": 71.4,
          "final_grade": 71.4
         },
         {
          "#01": 89,
          "#01_weighted": 71.2,
          "#02": 85,
          "#02_weighted": 17,
          "average_grade": 88.2,
          "final_grade": 88.2
         },
         {
          "#01": 29,
          "#01_weighted": 23.200000000000003,
          "#02": 76,
          "#02_weighted": 15.200000000000001,
          "average_grade": 38.400000000000006,
          "final_grade": 38.400000000000006
         },
         {
          "#01": 77,
          "#01_weighted": 61.6,
          "#02": 77,
          "#02_weighted": 15.4,
          "average_grade": 77,
          "final_grade": 77
         },
         {
          "#01": 3,
          "#01_weighted": 2.4000000000000004,
          "#02": 0,
          "#02_weighted": 0,
          "average_grade": 2.4000000000000004,
          "final_grade": 2.4000000000000004
         },
         {
          "#01": 53,
          "#01_weighted": 42.400000000000006,
          "#02": 90,
          "#02_weighted": 18,
          "average_grade": 60.400000000000006,
          "final_grade": 60.400000000000006
         },
         {
          "#01": 61,
          "#01_weighted": 48.800000000000004,
          "#02": 61,
          "#02_weighted": 12.200000000000001,
          "average_grade": 61.00000000000001,
          "final_grade": 61.00000000000001
         },
         {
          "#01": 73,
          "#01_weighted": 58.400000000000006,
          "#02": 77,
          "#02_weighted": 15.4,
          "average_grade": 73.80000000000001,
          "final_grade": 73.80000000000001
         },
         {
          "#01": 33,
          "#01_weighted": 26.400000000000002,
          "#02": 62,
          "#02_weighted": 12.4,
          "average_grade": 38.800000000000004,
          "final_grade": 38.800000000000004
         },
         {
          "#01": 3,
          "#01_weighted": 2.4000000000000004,
          "#02": 0,
          "#02_weighted": 0,
          "average_grade": 2.4000000000000004,
          "final_grade": 2.4000000000000004
         },
         {
          "#01": 55,
          "#01_weighted": 44,
          "#02": 62,
          "#02_weighted": 12.4,
          "average_grade": 56.4,
          "final_grade": 56.4
         },
         {
          "#01": 85,
          "#01_weighted": 68,
          "#02": 86,
          "#02_weighted": 17.2,
          "average_grade": 85.2,
          "final_grade": 85.2
         },
         {
          "#01": 66,
          "#01_weighted": 52.800000000000004,
          "#02": 74,
          "#02_weighted": 14.8,
          "average_grade": 67.60000000000001,
          "final_grade": 67.60000000000001
         },
         {
          "#01": 63,
          "#01_weighted": 50.400000000000006,
          "#02": 92,
          "#02_weighted": 18.400000000000002,
          "average_grade": 68.80000000000001,
          "final_grade": 68.80000000000001
         },
         {
          "#01": 96,
          "#01_weighted": 76.80000000000001,
          "#02": 85,
          "#02_weighted": 17,
          "average_grade": 93.80000000000001,
          "final_grade": 93.80000000000001
         },
         {
          "#01": 57,
          "#01_weighted": 45.6,
          "#02": 91,
          "#02_weighted": 18.2,
          "average_grade": 63.8,
          "final_grade": 63.8
         },
         {
          "#01": 92,
          "#01_weighted": 73.60000000000001,
          "#02": 89,
          "#02_weighted": 17.8,
          "average_grade": 91.4,
          "final_grade": 91.4
         },
         {
          "#01": 94,
          "#01_weighted": 75.2,
          "#02": 92,
          "#02_weighted": 18.400000000000002,
          "average_grade": 93.60000000000001,
          "final_grade": 93.60000000000001
         },
         {
          "#01": 73,
          "#01_weighted": 58.400000000000006,
          "#02": 93,
          "#02_weighted": 18.6,
          "average_grade": 77,
          "final_grade": 77
         }
        ]
       },
       "height": 400,
       "layer": [
        {
         "encoding": {
          "x": {
           "axis": {
            "title": "Average Grade"
           },
           "field": "average_grade",
           "scale": {
            "domain": [
             0,
             100
            ]
           },
           "type": "quantitative"
          },
          "y": {
           "axis": {
            "title": "Module grade"
           },
           "field": "final_grade",
           "scale": {
            "domain": [
             0,
             100
            ]
           },
           "typs": "quantitative"
          }
         },
         "mark": "circle"
        },
        {
         "encoding": {
          "color": {
           "value": "red"
          },
          "size": {
           "value": 1
          },
          "x": {
           "value": 0
          },
          "y": {
           "value": 400
          }
         },
         "mark": "rule"
        }
       ],
       "title": "Module performance comparison",
       "width": 800
      },
      "image/png": "[encoded data removed]"
     },
     "metadata": {},
     "output_type": "display_data"
    }
   ],
   "source": [
    "def build_grade_comparison_plot(height, width, data):\n",
    "    return VegaLite({\n",
    "        \"$schema\": \"https://vega.github.io/schema/vega-lite/v2.0.json\",\n",
    "        \"title\": \"Module performance comparison\",\n",
    "        \"height\": height,\n",
    "        \"width\": width,\n",
    "        \"layer\": [\n",
    "            {\n",
    "                \"mark\": \"circle\",\n",
    "                \"encoding\": {\n",
    "                    \"x\": {\n",
    "                        \"field\": \"average_grade\",\n",
    "                        \"type\": \"quantitative\",\n",
    "                        \"axis\": { \"title\": \"Average Grade\" },\n",
    "                        \"scale\": { \"domain\": [0, 100]}\n",
    "                    },\n",
    "                    \"y\": {\n",
    "                        \"field\": \"final_grade\", \n",
    "                        \"typs\": \"quantitative\",\n",
    "                        \"axis\": { \"title\": \"Module grade\" },\n",
    "                        \"scale\": { \"domain\": [0, 100]}\n",
    "                    }\n",
    "                }\n",
    "            },\n",
    "            {\n",
    "                \"mark\": \"rule\",\n",
    "                \"encoding\": {\n",
    "                    \"x\": {\n",
    "                        \"value\": 0\n",
    "                    },\n",
    "                    \"y\": {\n",
    "                        \"value\": height\n",
    "                    },\n",
    "                    \"size\": {\n",
    "                        \"value\": 1\n",
    "                    },\n",
    "                    \"color\": {\n",
    "                        \"value\": \"red\"\n",
    "                    }\n",
    "                }\n",
    "            }\n",
    "        ]\n",
    "    }, data)\n",
    "        \n",
    "chart = build_grade_comparison_plot(height, width, compare_grades)\n",
    "output[\"compare\"] = chart.spec\n",
    "\n",
    "display_vg(chart.spec)"
   ]
  },
  {
   "cell_type": "markdown",
   "metadata": {},
   "source": [
    "## Multiple choice questions"
   ]
  },
  {
   "cell_type": "code",
   "execution_count": 8,
   "metadata": {},
   "outputs": [
    {
     "data": {
      "text/html": [
       "<div>\n",
       "<style scoped>\n",
       "    .dataframe tbody tr th:only-of-type {\n",
       "        vertical-align: middle;\n",
       "    }\n",
       "\n",
       "    .dataframe tbody tr th {\n",
       "        vertical-align: top;\n",
       "    }\n",
       "\n",
       "    .dataframe thead th {\n",
       "        text-align: right;\n",
       "    }\n",
       "</style>\n",
       "<table border=\"1\" class=\"dataframe\">\n",
       "  <thead>\n",
       "    <tr style=\"text-align: right;\">\n",
       "      <th></th>\n",
       "      <th>answer</th>\n",
       "      <th>q1</th>\n",
       "      <th>q2</th>\n",
       "      <th>q3</th>\n",
       "      <th>q4</th>\n",
       "      <th>q5</th>\n",
       "      <th>q6</th>\n",
       "    </tr>\n",
       "  </thead>\n",
       "  <tbody>\n",
       "    <tr>\n",
       "      <th>0</th>\n",
       "      <td>Strongly Agree</td>\n",
       "      <td>0.0</td>\n",
       "      <td>0.0</td>\n",
       "      <td>0.0</td>\n",
       "      <td>0.0</td>\n",
       "      <td>0.0</td>\n",
       "      <td>0.0</td>\n",
       "    </tr>\n",
       "    <tr>\n",
       "      <th>1</th>\n",
       "      <td>Agree</td>\n",
       "      <td>1.0</td>\n",
       "      <td>1.0</td>\n",
       "      <td>1.0</td>\n",
       "      <td>0.0</td>\n",
       "      <td>1.0</td>\n",
       "      <td>0.0</td>\n",
       "    </tr>\n",
       "    <tr>\n",
       "      <th>2</th>\n",
       "      <td>Disagree</td>\n",
       "      <td>0.0</td>\n",
       "      <td>0.0</td>\n",
       "      <td>0.0</td>\n",
       "      <td>1.0</td>\n",
       "      <td>0.0</td>\n",
       "      <td>1.0</td>\n",
       "    </tr>\n",
       "    <tr>\n",
       "      <th>3</th>\n",
       "      <td>Strongly Disagree</td>\n",
       "      <td>0.0</td>\n",
       "      <td>0.0</td>\n",
       "      <td>0.0</td>\n",
       "      <td>0.0</td>\n",
       "      <td>0.0</td>\n",
       "      <td>0.0</td>\n",
       "    </tr>\n",
       "    <tr>\n",
       "      <th>4</th>\n",
       "      <td>N/A</td>\n",
       "      <td>0.0</td>\n",
       "      <td>0.0</td>\n",
       "      <td>0.0</td>\n",
       "      <td>0.0</td>\n",
       "      <td>0.0</td>\n",
       "      <td>0.0</td>\n",
       "    </tr>\n",
       "  </tbody>\n",
       "</table>\n",
       "</div>"
      ],
      "text/plain": [
       "              answer   q1   q2   q3   q4   q5   q6\n",
       "0     Strongly Agree  0.0  0.0  0.0  0.0  0.0  0.0\n",
       "1              Agree  1.0  1.0  1.0  0.0  1.0  0.0\n",
       "2           Disagree  0.0  0.0  0.0  1.0  0.0  1.0\n",
       "3  Strongly Disagree  0.0  0.0  0.0  0.0  0.0  0.0\n",
       "4                N/A  0.0  0.0  0.0  0.0  0.0  0.0"
      ]
     },
     "execution_count": 8,
     "metadata": {},
     "output_type": "execute_result"
    }
   ],
   "source": [
    "mc_options = [\n",
    "    \"Strongly Agree\",\n",
    "    \"Agree\",\n",
    "    \"Disagree\",\n",
    "    \"Strongly Disagree\",\n",
    "    \"N/A\"\n",
    "]\n",
    "\n",
    "def get_student_multi_choice_feedback(module, answers):\n",
    "    fb = pd.read_csv(\"../data/raw/modules/{0}/feedback.csv\".format(module))\n",
    "    fbq = pd.DataFrame(fb.filter(regex=r\"^\\d\\.\", axis=1))\n",
    "    fbq = fbq.drop(fbq.columns[len(fbq.columns)-2:], axis=1)\n",
    "\n",
    "    fb_answers = pd.DataFrame(fbq.apply(pd.value_counts))\n",
    "    answers = pd.DataFrame(answers, columns=[\"answer\"])\n",
    "    answers = pd.DataFrame(answers).merge(fb_answers, left_on=\"answer\", right_index=True, how=\"left\").fillna(0)\n",
    "    answers.columns = [\"answer\"] + [\"q{0}\".format(i+1) for i in range(len(fbq.columns))]\n",
    "    \n",
    "    return fbq.columns.tolist(), answers\n",
    "\n",
    "sfbq, sfba = get_student_multi_choice_feedback(module, mc_options)\n",
    "\n",
    "sfba"
   ]
  },
  {
   "cell_type": "markdown",
   "metadata": {},
   "source": [
    "## Additional comments for multiple choice questions"
   ]
  },
  {
   "cell_type": "code",
   "execution_count": 9,
   "metadata": {},
   "outputs": [
    {
     "data": {
      "text/plain": [
       "[[], [], [], [], [], []]"
      ]
     },
     "execution_count": 9,
     "metadata": {},
     "output_type": "execute_result"
    }
   ],
   "source": [
    "def get_textual_student_feedback(module):\n",
    "    fb = pd.read_csv(\"../data/raw/modules/{0}/feedback.csv\".format(module))\n",
    "    fb = fb.filter(regex=r\"additional comments\", axis=1)\n",
    "    \n",
    "    text_fb = []\n",
    "    for col in fb:\n",
    "        text_fb.append(fb[col].dropna().drop_duplicates().tolist())\n",
    "    \n",
    "    return text_fb\n",
    "    \n",
    "get_textual_student_feedback(module)"
   ]
  },
  {
   "cell_type": "code",
   "execution_count": 10,
   "metadata": {},
   "outputs": [
    {
     "data": {
      "application/vnd.vegalite.v2+json": {
       "$schema": "https://vega.github.io/schema/vega-lite/v2.0.json",
       "data": {
        "values": [
         {
          "answer": "Strongly Agree",
          "q1": 0,
          "q2": 0,
          "q3": 0,
          "q4": 0,
          "q5": 0,
          "q6": 0
         },
         {
          "answer": "Agree",
          "q1": 1,
          "q2": 1,
          "q3": 1,
          "q4": 0,
          "q5": 1,
          "q6": 0
         },
         {
          "answer": "Disagree",
          "q1": 0,
          "q2": 0,
          "q3": 0,
          "q4": 1,
          "q5": 0,
          "q6": 1
         },
         {
          "answer": "Strongly Disagree",
          "q1": 0,
          "q2": 0,
          "q3": 0,
          "q4": 0,
          "q5": 0,
          "q6": 0
         },
         {
          "answer": "N/A",
          "q1": 0,
          "q2": 0,
          "q3": 0,
          "q4": 0,
          "q5": 0,
          "q6": 0
         }
        ]
       },
       "encoding": {
        "color": {
         "field": "answer",
         "legend": null,
         "type": "nominal"
        },
        "x": {
         "axis": {
          "title": ""
         },
         "field": "answer",
         "sort": null,
         "type": "nominal"
        },
        "y": {
         "axis": {
          "title": "count"
         },
         "field": "q1",
         "type": "quantitative"
        }
       },
       "height": 400,
       "mark": "bar",
       "title": "1.Staff are good at explaining things.",
       "width": 800
      },
      "image/png": "[encoded data removed]"
     },
     "metadata": {},
     "output_type": "display_data"
    }
   ],
   "source": [
    "def build_student_feedback_histogram(height, width, data, questions, question):\n",
    "    return VegaLite({\n",
    "        \"$schema\": \"https://vega.github.io/schema/vega-lite/v2.0.json\",\n",
    "        \"title\": re.sub(r\"\\d.\\s\", \"\", questions[question-1]),\n",
    "        \"height\": height,\n",
    "        \"width\": width,\n",
    "        \"mark\": \"bar\",\n",
    "        \"encoding\": {\n",
    "            \"x\": {\n",
    "                \"field\": \"answer\",\n",
    "                \"type\": \"nominal\",\n",
    "                \"sort\": None,\n",
    "                \"axis\": { \"title\": \"\" }\n",
    "            },\n",
    "            \"y\": {\n",
    "                \"field\": \"q{0}\".format(question),\n",
    "                \"type\": \"quantitative\",\n",
    "                \"axis\": { \"title\": \"count\" }\n",
    "            },\n",
    "            \"color\": {\n",
    "                \"field\": \"answer\",\n",
    "                \"type\": \"nominal\",\n",
    "                \"legend\": None,\n",
    "            }\n",
    "        }\n",
    "    }, data)\n",
    "\n",
    "chart = build_student_feedback_histogram(height, width, sfba, sfbq, 1)\n",
    "output[\"feedback\"] = chart.spec\n",
    "\n",
    "display_vg(chart.spec)"
   ]
  },
  {
   "cell_type": "markdown",
   "metadata": {},
   "source": [
    "## Descriptive questions"
   ]
  },
  {
   "cell_type": "code",
   "execution_count": 11,
   "metadata": {},
   "outputs": [
    {
     "data": {
      "text/plain": [
       "[0    .\n",
       " Name: 7. Was there anything in particular which you enjoyed in this module?, dtype: object,\n",
       " 0    .\n",
       " Name: 8. If you could improve one thing about this module, what would it be?, dtype: object]"
      ]
     },
     "execution_count": 11,
     "metadata": {},
     "output_type": "execute_result"
    }
   ],
   "source": [
    "def get_descriptive_student_feedback(module):\n",
    "    fb = pd.read_csv(\"../data/raw/modules/{0}/feedback.csv\".format(module))\n",
    "    fb = fb.drop(fb.columns[0:-2], axis=1)\n",
    "\n",
    "    desc_fb = []\n",
    "    for col in fb:\n",
    "        desc_fb.append(fb[col].dropna())\n",
    "\n",
    "    return fb.columns.tolist(), desc_fb\n",
    "    \n",
    "dfbq, dfba = get_descriptive_student_feedback(module)\n",
    "dfba"
   ]
  },
  {
   "cell_type": "code",
   "execution_count": 15,
   "metadata": {},
   "outputs": [
    {
     "name": "stdout",
     "output_type": "stream",
     "text": [
      "wordcloud could not be created\n"
     ]
    }
   ],
   "source": [
    "def build_word_cloud(text):\n",
    "    return WordCloud(background_color=\"black\", colormap=\"GnBu\", height=height, width=width, font_path=\"../fonts/caveat.ttf\").generate(text)\n",
    "\n",
    "try:\n",
    "    wordcloud = build_word_cloud(dfba[0].str.cat(sep=\" \"))\n",
    "    wordcloud.to_image()\n",
    "    # wordcloud.to_file(\"../data/generated/images/{0}/{1}.png\".format(module, desc_questions[0][0]))\n",
    "except(ValueError):\n",
    "    print(\"wordcloud could not be created\")"
   ]
  },
  {
   "cell_type": "markdown",
   "metadata": {},
   "source": [
    "## Staff feedback"
   ]
  },
  {
   "cell_type": "code",
   "execution_count": 14,
   "metadata": {},
   "outputs": [
    {
     "data": {
      "text/plain": [
       "{'Are you planning to make a minor amendment to your module?': 'No.',\n",
       " 'Do you have any further comments?': 'No.',\n",
       " 'Do you have any good practice that you would like to share?': 'None that I have not shared in previous module reviews.',\n",
       " 'Module tutor(s)': 'Martyn Parker',\n",
       " 'What, in your opinion, could be improved (including details of planned changes for next year)?': 'This module will no longer run. Next year a new year-long 30 credit module replaces both Investigations and Problem Solving (IPS) and Applicable Mathematics (AM). This new module combines elements of the two old 15 credit modules. \\n\\n1) The new 30 credit module will provide more time for formative work aligned to the summative assessments. There will be greater emphasis on producing electronic mathematics using suitable computer packages.\\n\\n2) The journals will be reworked to adapt the current 4Rs reflective module and the use of PebblePad to record student reflections aligned to the KUSP.\\n\\n3) Although the new 30 credit module combines IPS and AM, there will be a slight change in the topics for the group projects taken in semester 2. \\n\\n4) There will be a greater emphasis on tutorial-style classes with a focus on problem-based learning.',\n",
       " 'What, in your opinion, went well?': 'Student module evaluations show students value this module and the approach taken with the material. Since this is the last run of this module, further comment is deferred below. Students commented positively on the tutorial classes.'}"
      ]
     },
     "execution_count": 14,
     "metadata": {},
     "output_type": "execute_result"
    }
   ],
   "source": [
    "def get_staff_feedback(module):\n",
    "    fb = pd.read_csv(\"../data/raw/staff-feedback.csv\")\n",
    "    mfb = fb[fb[\"Module Code\"] == module]\n",
    "    if len(mfb) < 1:\n",
    "        return None\n",
    "    return mfb.drop([\"Timestamp\", \"Email address\", \"Module Code\", \"Module Name\"], axis=1).iloc[0].to_dict()\n",
    "\n",
    "staff_fb = get_staff_feedback(module)\n",
    "\n",
    "output[\"staff_feedback\"] = staff_fb\n",
    "staff_fb"
   ]
  },
  {
   "cell_type": "code",
   "execution_count": 15,
   "metadata": {},
   "outputs": [],
   "source": [
    "# save_file(\"../data/generated/{0}.json\".format(module), json.dumps(output))\n",
    "# output"
   ]
  }
 ],
 "metadata": {
  "kernelspec": {
   "display_name": "Python 3",
   "language": "python",
   "name": "python3"
  },
  "language_info": {
   "codemirror_mode": {
    "name": "ipython",
    "version": 3
   },
   "file_extension": ".py",
   "mimetype": "text/x-python",
   "name": "python",
   "nbconvert_exporter": "python",
   "pygments_lexer": "ipython3",
   "version": "3.6.5"
  }
 },
 "nbformat": 4,
 "nbformat_minor": 2
}
